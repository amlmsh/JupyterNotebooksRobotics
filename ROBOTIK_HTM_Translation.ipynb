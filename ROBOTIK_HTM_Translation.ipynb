{
 "cells": [
  {
   "cell_type": "markdown",
   "id": "59e14a19",
   "metadata": {},
   "source": [
    "# Koordinatentransformation für die Robotik"
   ]
  },
  {
   "cell_type": "markdown",
   "id": "038ab1bd",
   "metadata": {},
   "source": [
    "## Homogene Transformationmatrix (HTM) für die Translation"
   ]
  },
  {
   "cell_type": "markdown",
   "id": "9e0ac5f8",
   "metadata": {},
   "source": [
    "Folgende Bibliotheken werden genutzt:"
   ]
  },
  {
   "cell_type": "code",
   "execution_count": 1,
   "id": "041ba66f",
   "metadata": {},
   "outputs": [],
   "source": [
    "from matplotlib import pyplot as plt\n",
    "import numpy as np\n",
    "import math"
   ]
  },
  {
   "cell_type": "markdown",
   "id": "fc265511",
   "metadata": {},
   "source": [
    "#### (I) Punkt im Ursprungskoordinatensystem U definieren"
   ]
  },
  {
   "cell_type": "markdown",
   "id": "9527eae7",
   "metadata": {},
   "source": [
    "$$ ^{U}P = \\left( \\begin{array}{r} ^{U}x \\\\ ^{U}y \\\\ ^{U}z \\\\ 1 \\end{array}\\right) $$"
   ]
  },
  {
   "cell_type": "code",
   "execution_count": 2,
   "id": "a5d2ef91",
   "metadata": {},
   "outputs": [
    {
     "name": "stdout",
     "output_type": "stream",
     "text": [
      "x_U = 10.32\n",
      "y_U = 19.1\n",
      "z_U = 23.14\n"
     ]
    }
   ],
   "source": [
    "x_U = 10.32\n",
    "y_U = 19.10\n",
    "z_U = 23.14\n",
    "print(\"x_U = \",end=\"\"); print(x_U)\n",
    "print(\"y_U = \",end=\"\"); print(y_U)\n",
    "print(\"z_U = \",end=\"\"); print(z_U)"
   ]
  },
  {
   "cell_type": "code",
   "execution_count": 3,
   "id": "786ffd5e",
   "metadata": {},
   "outputs": [
    {
     "name": "stdout",
     "output_type": "stream",
     "text": [
      "P_U = \n",
      "\n",
      "[[10.32]\n",
      " [19.1 ]\n",
      " [23.14]\n",
      " [ 1.  ]]\n"
     ]
    }
   ],
   "source": [
    "P_U = np.array([[x_U],[y_U],[z_U],[1]])\n",
    "print(\"P_U = \",end=\"\\n\\n\"); print(P_U)"
   ]
  },
  {
   "cell_type": "markdown",
   "id": "ad488b33",
   "metadata": {},
   "source": [
    "#### (II) Definition der HTM"
   ]
  },
  {
   "cell_type": "markdown",
   "id": "0dc816c6",
   "metadata": {},
   "source": [
    "#### (II.1) HTM: Matrixgrundstruktur (ohne Translation u. Rotation)"
   ]
  },
  {
   "cell_type": "markdown",
   "id": "875eebb3",
   "metadata": {},
   "source": [
    "$$ ^{Z}_{U}T  =    \n",
    "   \\left( \\begin{array}{rrrr}       \n",
    "      1 & 0 & 0 & 0 \\\\       \n",
    "      0 & 1 & 0 & 0 \\\\       \n",
    "      0 & 0 & 1 & 0 \\\\       \n",
    "      0 & 0 & 0 & 1 \\\\    \n",
    "   \\end{array}\\right)\n",
    "$$"
   ]
  },
  {
   "cell_type": "code",
   "execution_count": 4,
   "id": "6ab4b5db",
   "metadata": {},
   "outputs": [
    {
     "name": "stdout",
     "output_type": "stream",
     "text": [
      "T_U_U = \n",
      "\n",
      "[[1 0 0 0]\n",
      " [0 1 0 0]\n",
      " [0 0 1 0]\n",
      " [0 0 0 1]]\n"
     ]
    }
   ],
   "source": [
    "T_U_Z = np.array([[1,0,0,0],[0,1,0,0],[0,0,1,0],[0,0,0,1]])\n",
    "print(\"T_U_U = \",end=\"\\n\\n\"); print(T_U_Z)"
   ]
  },
  {
   "cell_type": "markdown",
   "id": "c3c09149",
   "metadata": {},
   "source": [
    "#### (II.2) HTM: Definition des Translationsanteils"
   ]
  },
  {
   "cell_type": "markdown",
   "id": "cfe49a2f",
   "metadata": {},
   "source": [
    "##### Translationsvektor"
   ]
  },
  {
   "cell_type": "markdown",
   "id": "fb5f553f",
   "metadata": {},
   "source": [
    " $$ ^{Z}V =  \\left( \\begin{array}{r} x \\\\ y \\\\ z \\\\ \\end{array}\\right)  $$"
   ]
  },
  {
   "cell_type": "markdown",
   "id": "7f109008",
   "metadata": {},
   "source": [
    "Der Translationsvektor ist bzgl. des Zielkoordinatensystems Z gegeben. Dieser Translationsvektor ist daher mit $ ^{Z} V$ bezeichnet."
   ]
  },
  {
   "cell_type": "code",
   "execution_count": 5,
   "id": "b500f4df",
   "metadata": {},
   "outputs": [
    {
     "name": "stdout",
     "output_type": "stream",
     "text": [
      "x = 1.3\n",
      "y = -3.9\n",
      "z = 2.9\n"
     ]
    }
   ],
   "source": [
    "x = 1.3\n",
    "y = -3.9\n",
    "z = 2.9\n",
    "print(\"x = \",end=\"\"); print(x)\n",
    "print(\"y = \",end=\"\"); print(y)\n",
    "print(\"z = \",end=\"\"); print(z)"
   ]
  },
  {
   "cell_type": "markdown",
   "id": "7c71ca70",
   "metadata": {},
   "source": [
    "##### HTM mit Translation"
   ]
  },
  {
   "cell_type": "markdown",
   "id": "e9e5904f",
   "metadata": {},
   "source": [
    "Der Translationsvektor $^{Z}V$ wird einfach in die 4.Spalte der HTM $~ ^{Z}_{U}T~$ \"eingefügt\"."
   ]
  },
  {
   "cell_type": "markdown",
   "id": "65f82f4a",
   "metadata": {},
   "source": [
    "$$ ^{Z}_{U}T  =    \n",
    "   \\left( \\begin{array}{rrrr}       \n",
    "      1 & 0 & 0 & x \\\\       \n",
    "      0 & 1 & 0 & y \\\\       \n",
    "      0 & 0 & 1 & z \\\\       \n",
    "      0 & 0 & 0 & 1 \\\\    \n",
    "   \\end{array}\\right)\n",
    "$$"
   ]
  },
  {
   "cell_type": "code",
   "execution_count": 6,
   "id": "0025f339",
   "metadata": {},
   "outputs": [
    {
     "name": "stdout",
     "output_type": "stream",
     "text": [
      "T_U_Z = \n",
      "\n",
      "[[ 1.   0.   0.   1.3]\n",
      " [ 0.   1.   0.  -3.9]\n",
      " [ 0.   0.   1.   2.9]\n",
      " [ 0.   0.   0.   1. ]]\n"
     ]
    }
   ],
   "source": [
    "T_U_Z = np.array([[1,0,0,x],[0,1,0,y],[0,0,1,z],[0,0,0,1]])\n",
    "print(\"T_U_Z = \",end=\"\\n\\n\"); print(T_U_Z)"
   ]
  },
  {
   "cell_type": "markdown",
   "id": "99e9cd9a",
   "metadata": {},
   "source": [
    "#### (II.3) Berechung der Koordinaten von P für das Zielkoordinatensystem Z"
   ]
  },
  {
   "cell_type": "markdown",
   "id": "fe0830c7",
   "metadata": {},
   "source": [
    "$$ ^{Z}P ~=~ ^{Z}_{U}T \\cdot~ ^U{P}  ~=~    \n",
    "   \\left( \\begin{array}{rrrr}       \n",
    "      1 & 0 & 0 & x \\\\       \n",
    "      0 & 1 & 0 & y \\\\       \n",
    "      0 & 0 & 1 & z \\\\       \n",
    "      0 & 0 & 0 & 1 \\\\    \n",
    "   \\end{array}\\right)\n",
    "   \\cdot\n",
    "   \\left( \\begin{array}{r} ^{U}x \\\\ ^{U}y \\\\ ^{U}z \\\\ 1 \\end{array}\\right)\n",
    "$$\n"
   ]
  },
  {
   "cell_type": "markdown",
   "id": "348ce3cf",
   "metadata": {},
   "source": [
    " $$ ^{Z}P =  \\left( \\begin{array}{r} x_Z \\\\ x_Z \\\\ x_Z \\\\ \\end{array}\\right)  $$"
   ]
  },
  {
   "cell_type": "code",
   "execution_count": 7,
   "id": "0f196b4a",
   "metadata": {},
   "outputs": [
    {
     "name": "stdout",
     "output_type": "stream",
     "text": [
      "P_Z =\n",
      "\n",
      "[[11.62]\n",
      " [15.2 ]\n",
      " [26.04]\n",
      " [ 1.  ]]\n"
     ]
    }
   ],
   "source": [
    "P_Z = T_U_Z @ P_U\n",
    "print(\"P_Z =\",end=\"\\n\\n\"); print(P_Z)"
   ]
  },
  {
   "cell_type": "markdown",
   "id": "67b50552",
   "metadata": {},
   "source": [
    "Daraus ergeben sich die Koordinaten ($^{Z}x$,$^{Z}y$,$^{Z}z$) des Punktes $^{Z}P$ im Zielkoordinatensystem $Z$: "
   ]
  },
  {
   "cell_type": "code",
   "execution_count": 8,
   "id": "eef8ef81",
   "metadata": {},
   "outputs": [
    {
     "name": "stdout",
     "output_type": "stream",
     "text": [
      "x_Z = 11.620000000000001\n",
      "y_Z = 15.200000000000001\n",
      "z_Z = 26.04\n"
     ]
    }
   ],
   "source": [
    "x_Z = P_Z[0,0]\n",
    "y_Z = P_Z[1,0]\n",
    "z_Z = P_Z[2,0]\n",
    "print(\"x_Z = \",end=\"\"); print(x_Z)\n",
    "print(\"y_Z = \",end=\"\"); print(y_Z)\n",
    "print(\"z_Z = \",end=\"\"); print(z_Z)"
   ]
  }
 ],
 "metadata": {
  "kernelspec": {
   "display_name": "Python 3",
   "language": "python",
   "name": "python3"
  },
  "language_info": {
   "codemirror_mode": {
    "name": "ipython",
    "version": 3
   },
   "file_extension": ".py",
   "mimetype": "text/x-python",
   "name": "python",
   "nbconvert_exporter": "python",
   "pygments_lexer": "ipython3",
   "version": "3.6.9"
  }
 },
 "nbformat": 4,
 "nbformat_minor": 5
}
