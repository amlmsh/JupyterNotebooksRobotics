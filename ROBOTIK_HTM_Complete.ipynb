{
 "cells": [
  {
   "cell_type": "markdown",
   "id": "77474611",
   "metadata": {},
   "source": [
    "# Koordinatentransformation für die Robotik"
   ]
  },
  {
   "cell_type": "markdown",
   "id": "0ce74d8e",
   "metadata": {},
   "source": [
    "## (1) Homogene Transformationmatrix (HTM) für die Translation und Rotation"
   ]
  },
  {
   "cell_type": "markdown",
   "id": "62be7935",
   "metadata": {},
   "source": [
    "Folgende Bibliotheken und Konstanten werden genutzt:"
   ]
  },
  {
   "cell_type": "code",
   "execution_count": 1,
   "id": "99115b3d",
   "metadata": {},
   "outputs": [],
   "source": [
    "from matplotlib import pyplot as plt\n",
    "from numpy.linalg import inv\n",
    "import numpy as np\n",
    "import math\n",
    "\n",
    "PI = 3.1415926535\n",
    "\n",
    "def plot4x4Mat(m):\n",
    "    print(\"[%6.2f\\t%6.2f\\t%6.2f\\t%6.2f]\"%(m[0,0],m[0,1],m[0,2],m[0,3]))\n",
    "    print(\"[%6.2f\\t%6.2f\\t%6.2f\\t%6.2f]\"%(m[1,0],m[1,1],m[1,2],m[1,3]))\n",
    "    print(\"[%6.2f\\t%6.2f\\t%6.2f\\t%6.2f]\"%(m[2,0],m[2,1],m[2,2],m[2,3]))\n",
    "    print(\"[%6.2f\\t%6.2f\\t%6.2f\\t%6.2f]\"%(m[3,0],m[3,1],m[3,2],m[3,3]))"
   ]
  },
  {
   "cell_type": "markdown",
   "id": "7dc7b8a1",
   "metadata": {},
   "source": [
    "### (I) Punkt im Ursprungskoordinatensystem U definieren"
   ]
  },
  {
   "cell_type": "markdown",
   "id": "a94e4499",
   "metadata": {},
   "source": [
    "$$ ^{U}P = \\left( \\begin{array}{r} ^{U}x \\\\ ^{U}y \\\\ ^{U}z \\\\ 1 \\end{array}\\right) $$"
   ]
  },
  {
   "cell_type": "code",
   "execution_count": 2,
   "id": "c3619ac8",
   "metadata": {},
   "outputs": [
    {
     "name": "stdout",
     "output_type": "stream",
     "text": [
      "x_U = 10.32\n",
      "y_U = 19.1\n",
      "z_U = 23.14\n"
     ]
    }
   ],
   "source": [
    "x_U = 10.32\n",
    "y_U = 19.10\n",
    "z_U = 23.14\n",
    "print(\"x_U = \",end=\"\"); print(x_U)\n",
    "print(\"y_U = \",end=\"\"); print(y_U)\n",
    "print(\"z_U = \",end=\"\"); print(z_U)"
   ]
  },
  {
   "cell_type": "code",
   "execution_count": 3,
   "id": "c7a68edf",
   "metadata": {},
   "outputs": [],
   "source": [
    "P_U = np.array([[x_U],[y_U],[z_U],[1]])"
   ]
  },
  {
   "cell_type": "code",
   "execution_count": 4,
   "id": "ccbb8b54",
   "metadata": {},
   "outputs": [
    {
     "name": "stdout",
     "output_type": "stream",
     "text": [
      "P_U = \n",
      "\n",
      "[[10.32]\n",
      " [19.1 ]\n",
      " [23.14]\n",
      " [ 1.  ]]\n"
     ]
    }
   ],
   "source": [
    "#Ausgabe der Berechnungsergebnisse\n",
    "print(\"P_U = \",end=\"\\n\\n\"); print(P_U)"
   ]
  },
  {
   "cell_type": "markdown",
   "id": "cbc0fcc5",
   "metadata": {},
   "source": [
    "### (II) Definition der einzelnen HTMs"
   ]
  },
  {
   "cell_type": "markdown",
   "id": "0b435c07",
   "metadata": {},
   "source": [
    "#### (II.1) Eine HTM mit Rotation erstellen"
   ]
  },
  {
   "cell_type": "markdown",
   "id": "52579e16",
   "metadata": {},
   "source": [
    "$$ \n",
    "  ^{Z}_{U}R_{ZYX}(\\phi_z,\\phi_y,\\phi_x) =  R_Z(\\phi_z) \\cdot R_Y(\\phi_y) \\cdot R_X(\\phi_x) \n",
    "$$"
   ]
  },
  {
   "cell_type": "code",
   "execution_count": 5,
   "id": "1811a981",
   "metadata": {},
   "outputs": [],
   "source": [
    "phi_x = PI/3\n",
    "phi_y = 2*PI/5\n",
    "phi_z = -PI/2"
   ]
  },
  {
   "cell_type": "code",
   "execution_count": 6,
   "id": "4a8e9c11",
   "metadata": {},
   "outputs": [
    {
     "name": "stdout",
     "output_type": "stream",
     "text": [
      "phi_x = 1.0471975511666667\n",
      "phi_y = 1.2566370614\n",
      "phi_z = -1.57079632675\n"
     ]
    }
   ],
   "source": [
    "#Ausgabe der Berechnungsergebnisse\n",
    "print(\"phi_x = \",end=\"\"); print(phi_x)\n",
    "print(\"phi_y = \",end=\"\"); print(phi_y)\n",
    "print(\"phi_z = \",end=\"\"); print(phi_z)"
   ]
  },
  {
   "cell_type": "code",
   "execution_count": 7,
   "id": "01228f5e",
   "metadata": {},
   "outputs": [],
   "source": [
    "T_U_Z_RotX = np.array([[1,0,0,0],[0,math.cos(phi_x),math.sin(phi_x),0],[0,-math.sin(phi_x),math.cos(phi_x),0],[0,0,0,1]])\n",
    "T_U_Z_RotY = np.array([[math.cos(phi_y),0,-math.sin(phi_y),0],[0,1,0,0],[math.sin(phi_y),0,math.cos(phi_y),0],[0,0,0,1]])\n",
    "T_U_Z_RotZ = np.array([[math.cos(phi_z),math.sin(phi_z),0,0],[-math.sin(phi_z),math.cos(phi_z),0,0],[0,0,1,0],[0,0,0,1]])\n",
    "T_U_Z_RotZYX = T_U_Z_RotZ @ T_U_Z_RotY @ T_U_Z_RotX"
   ]
  },
  {
   "cell_type": "code",
   "execution_count": 8,
   "id": "713e712f",
   "metadata": {},
   "outputs": [
    {
     "name": "stdout",
     "output_type": "stream",
     "text": [
      "T_U_Z_RotZYX = \n",
      "[  0.00\t -0.50\t -0.87\t  0.00]\n",
      "[  0.31\t  0.82\t -0.48\t  0.00]\n",
      "[  0.95\t -0.27\t  0.15\t  0.00]\n",
      "[  0.00\t  0.00\t  0.00\t  1.00]\n"
     ]
    }
   ],
   "source": [
    "print(\"T_U_Z_RotZYX = \",end=\"\\n\"); plot4x4Mat(T_U_Z_RotZYX)"
   ]
  },
  {
   "cell_type": "markdown",
   "id": "8948888b",
   "metadata": {},
   "source": [
    "#### (II.2) Eine HTM mit Translation erstellen"
   ]
  },
  {
   "cell_type": "markdown",
   "id": "ade7fb86",
   "metadata": {},
   "source": [
    "Der Translationsvektor $^{Z}V$ ist bzgl. des Zielekoordinatensystems $Z$ gegeben. Ohne Beschränkung der Allgemeinheit wird dieser hier nicht in homogenen Koordinaten angegeben."
   ]
  },
  {
   "cell_type": "code",
   "execution_count": 9,
   "id": "4ed8a94f",
   "metadata": {},
   "outputs": [],
   "source": [
    "x_V = 1.3\n",
    "y_V = -3.9\n",
    "z_V = 2.9"
   ]
  },
  {
   "cell_type": "code",
   "execution_count": 10,
   "id": "127ed697",
   "metadata": {},
   "outputs": [
    {
     "name": "stdout",
     "output_type": "stream",
     "text": [
      "x_V = 1.3\n",
      "y_V = -3.9\n",
      "z_V = 2.9\n"
     ]
    }
   ],
   "source": [
    "#Ausgabe der Berechnungsergebnisse\n",
    "print(\"x_V = \",end=\"\"); print(x_V)\n",
    "print(\"y_V = \",end=\"\"); print(y_V)\n",
    "print(\"z_V = \",end=\"\"); print(z_V)"
   ]
  },
  {
   "cell_type": "code",
   "execution_count": 11,
   "id": "6f7a9bc1",
   "metadata": {},
   "outputs": [],
   "source": [
    "V_Z = np.array([[x_V],[y_V],[z_V],[1]])"
   ]
  },
  {
   "cell_type": "code",
   "execution_count": 12,
   "id": "9e3f45fb",
   "metadata": {},
   "outputs": [
    {
     "name": "stdout",
     "output_type": "stream",
     "text": [
      "V_Z = \n",
      "[[ 1.3]\n",
      " [-3.9]\n",
      " [ 2.9]\n",
      " [ 1. ]]\n"
     ]
    }
   ],
   "source": [
    "#Ausgabe der Berechnungsergebnisse\n",
    "print(\"V_Z = \",end=\"\\n\"); print(V_Z)"
   ]
  },
  {
   "cell_type": "markdown",
   "id": "c2e48fc3",
   "metadata": {},
   "source": [
    "$$ ^{Z}_{U}T_{Tran}(^{Z}V)  ~=~    \n",
    "   \\left( \\begin{array}{rrrr}       \n",
    "      1 & 0 & 0 & V_x \\\\       \n",
    "      0 & 1 & 0 & V_y \\\\       \n",
    "      0 & 0 & 1 & V_z \\\\       \n",
    "      0 & 0 & 0 & 1 \\\\    \n",
    "   \\end{array}\\right)\n",
    "$$"
   ]
  },
  {
   "cell_type": "code",
   "execution_count": 13,
   "id": "5dc4c9e2",
   "metadata": {},
   "outputs": [],
   "source": [
    "T_U_Z_Tran = np.array([[1,0,0,x_V],[0,1,0,y_V],[0,0,1,z_V],[0,0,0,1]])"
   ]
  },
  {
   "cell_type": "code",
   "execution_count": 14,
   "id": "1e9eb956",
   "metadata": {},
   "outputs": [
    {
     "name": "stdout",
     "output_type": "stream",
     "text": [
      "T_U_Z_Tran = \n",
      "[  1.00\t  0.00\t  0.00\t  1.30]\n",
      "[  0.00\t  1.00\t  0.00\t -3.90]\n",
      "[  0.00\t  0.00\t  1.00\t  2.90]\n",
      "[  0.00\t  0.00\t  0.00\t  1.00]\n"
     ]
    }
   ],
   "source": [
    "#Ausgabe der Berechnungsergebnisse\n",
    "print(\"T_U_Z_Tran = \",end=\"\\n\"); plot4x4Mat(T_U_Z_Tran)"
   ]
  },
  {
   "cell_type": "markdown",
   "id": "efede690",
   "metadata": {},
   "source": [
    "### (III) Kombination der Rotation und Translation"
   ]
  },
  {
   "cell_type": "markdown",
   "id": "e6838a1b",
   "metadata": {},
   "source": [
    "Die Kombination von Rotation und Translation erfolgt durch die Hintereinanderausführung beider Transformationen. Die Kombination wird durch Multiplikation der jeweiligen HTM $^{Z}_{U}T_{Tran}(^{Z}V)$ und $^{Z}_{U}R_{ZYX}(\\phi_z,\\phi_y,\\phi_x)$ mathematisch repräsentiert. Die Frage ist jedoch, wie die jeweils Ergbnis HTM aussieht."
   ]
  },
  {
   "cell_type": "markdown",
   "id": "adfdec18",
   "metadata": {},
   "source": [
    "#### (III.1) Erst Rotation dann Translation"
   ]
  },
  {
   "cell_type": "markdown",
   "id": "99130442",
   "metadata": {},
   "source": [
    "Wenn zuerst die Rotation und dann die Translation zu einer Koordinatentransformation kombiniert werden sollen, dann kann dies nur über ein drittes Koordinatensystem $M$ geschehen. \n",
    "Die Koordinaten des Punktes $^{U}P$ werden in das Koordinatensystem $M$ \"transformiert\". Vom diesem $M$ Koordinatensystem werden die Koordinaten dann in das Ziel-Koordinatensystem $Z$ transformiert."
   ]
  },
  {
   "cell_type": "markdown",
   "id": "0d9780a3",
   "metadata": {},
   "source": [
    "$$\n",
    " ^{Z}_{U}T ~~~=~~~ ^{Z}_{M}T_{Tran}(^{Z}V) ~~~\\cdot~~~ ^{M}_{U}R_{ZYX}(\\phi_z,\\phi_y,\\phi_x)\n",
    "$$"
   ]
  },
  {
   "cell_type": "markdown",
   "id": "8b369725",
   "metadata": {},
   "source": [
    "Wichtig ist nun, zu verstehen, dass die Transformation von $M$ zu $Z$ den Translationsvektor $^{Z}V$ unverändert übernehmen kann. Denn dieser Vektor liegt wie nach Definition verlangt in den Koordinaten des Zielsystems vor."
   ]
  },
  {
   "cell_type": "code",
   "execution_count": 15,
   "id": "cbd5188f",
   "metadata": {},
   "outputs": [],
   "source": [
    "T_U_Z_1 =  T_U_Z_Tran  @ T_U_Z_RotZYX"
   ]
  },
  {
   "cell_type": "code",
   "execution_count": 16,
   "id": "b9fd42c5",
   "metadata": {},
   "outputs": [
    {
     "name": "stdout",
     "output_type": "stream",
     "text": [
      "T_U_Z_1 = \n",
      "[  0.00\t -0.50\t -0.87\t  1.30]\n",
      "[  0.31\t  0.82\t -0.48\t -3.90]\n",
      "[  0.95\t -0.27\t  0.15\t  2.90]\n",
      "[  0.00\t  0.00\t  0.00\t  1.00]\n"
     ]
    }
   ],
   "source": [
    "#Ausgabe der Berechnungsergebnisse\n",
    "print(\"T_U_Z_1 = \",end=\"\\n\"); plot4x4Mat(T_U_Z_1)"
   ]
  },
  {
   "cell_type": "markdown",
   "id": "305b8249",
   "metadata": {},
   "source": [
    "#### (III.2) Erst Translation dann Rotation"
   ]
  },
  {
   "cell_type": "markdown",
   "id": "9fbbbc06",
   "metadata": {},
   "source": [
    "Auch hier erfolgt die Transformation von $U$ nach $Z$ über ein zusätzliches Koordinatensystem $N$."
   ]
  },
  {
   "cell_type": "markdown",
   "id": "66f2cc6b",
   "metadata": {},
   "source": [
    "$$\n",
    " ^{Z}_{U}T ~~~=~~~   ^{Z}_{N}R_{ZYX}(\\phi_z,\\phi_y,\\phi_x) ~~~\\cdot~~~ ^{N}_{U}T_{Tran}(^{N}V)\n",
    "$$"
   ]
  },
  {
   "cell_type": "markdown",
   "id": "200154c2",
   "metadata": {},
   "source": [
    "Damit die Definition der Transformationsmatrix für die Translation erfüllt ist, muss der Translationsvektor $V$ in den Koordinaten des Koordinatensystems $N$ gegeben sein. Im Allgemeinen gilt $^{N}V \\neq ^{Z}V$."
   ]
  },
  {
   "cell_type": "markdown",
   "id": "a822a9f6",
   "metadata": {},
   "source": [
    "Wie kann nun $^{N}V$ auf Basis der vorhanden Informationen berechnet werden?"
   ]
  },
  {
   "cell_type": "markdown",
   "id": "a7b5cb20",
   "metadata": {},
   "source": [
    "Offensichtlich benötigen wir eine Rotation, welche uns $^{Z}V$ in das Koordnatensystem $N$ überführt, denn $Z$ und $N$ sind ohne Translation nur bzgl. Rotation voneinander verschieden."
   ]
  },
  {
   "cell_type": "markdown",
   "id": "e67e821a",
   "metadata": {},
   "source": [
    "$$\n",
    "    ^{N}V ~~~=~~~ ^{N}_{Z}R_{ZYX}(\\phi_z,\\phi_y,\\phi_x)~~~\\cdot~~~^{Z}V\n",
    "$$"
   ]
  },
  {
   "cell_type": "markdown",
   "id": "c2e0601a",
   "metadata": {},
   "source": [
    " Die Rotationsmatrix $^{Z}_{U}R_{ZYX}(\\phi_z,\\phi_y,\\phi_x)$ ist uns geben. Da nun zwischen $N$ und $Z$ keine Tanslation besteht, gilt:\n",
    " $$\n",
    " ~~~~^{Z}_{U}R_{ZYX}(\\phi_z,\\phi_y,\\phi_x) ~~~ = ~~~ ^{Z}_{N}R_{ZYX}(\\phi_z,\\phi_y,\\phi_x)\n",
    " $$"
   ]
  },
  {
   "cell_type": "markdown",
   "id": "9068d812",
   "metadata": {},
   "source": [
    "Weiterhin gilt:\n",
    "$$\n",
    "^{N}_{Z}R_{ZYX}(\\phi_z,\\phi_y,\\phi_x) = (^{Z}_{N}R_{ZYX}(\\phi_z,\\phi_y,\\phi_x))^{-1}\n",
    "$$\n",
    "Womit sich ergibt:\n",
    "$$\n",
    "    ^{N}V ~~~=~~~ (^{Z}_{N}R_{ZYX}(\\phi_z,\\phi_y,\\phi_x))^{-1}~~~\\cdot~~~^{Z}V\n",
    "$$"
   ]
  },
  {
   "cell_type": "markdown",
   "id": "bcba7c3d",
   "metadata": {},
   "source": [
    "Der Vektor $^{N}V$ kann also über die Inverse der Rotationsmatrix $^{Z}_{N}R_{ZYX}(\\phi_z,\\phi_y,\\phi_x)$ und den Vektor $^{Z}V$ berechnet werden:\n",
    "\n",
    "$$\n",
    " ^{Z}_{U}T ~~~=~~~   ^{Z}_{N}R_{ZYX}(\\phi_z,\\phi_y,\\phi_x) ~~~\\cdot~~~ ^{N}_{U}T_{Tran}\\left(\\left(^{Z}_{N}R_{ZYX}(\\phi_z,\\phi_y,\\phi_x)\\right)^{-1}~~~\\cdot~~~^{Z}V\\right)\n",
    "$$"
   ]
  },
  {
   "cell_type": "code",
   "execution_count": 49,
   "id": "0d21c942",
   "metadata": {},
   "outputs": [],
   "source": [
    "V_N =  inv(T_U_Z_RotZYX)@V_Z"
   ]
  },
  {
   "cell_type": "code",
   "execution_count": 50,
   "id": "56d7e059",
   "metadata": {},
   "outputs": [
    {
     "name": "stdout",
     "output_type": "stream",
     "text": [
      "V_N = \n",
      "[[ 1.55289762]\n",
      " [-4.63828055]\n",
      " [ 1.17680182]\n",
      " [ 1.        ]]\n"
     ]
    }
   ],
   "source": [
    "#Ausgabe der Berechnungsergebnisse\n",
    "print(\"V_N = \",end=\"\\n\"); print(V_N)"
   ]
  },
  {
   "cell_type": "code",
   "execution_count": 51,
   "id": "84363161",
   "metadata": {},
   "outputs": [],
   "source": [
    "T_U_N_Tran = T_U_Z_Tran;\n",
    "T_U_N_Tran[0,3] = V_N[0]\n",
    "T_U_N_Tran[1,3] = V_N[1]\n",
    "T_U_N_Tran[2,3] = V_N[2]"
   ]
  },
  {
   "cell_type": "code",
   "execution_count": 52,
   "id": "d10532e2",
   "metadata": {},
   "outputs": [
    {
     "name": "stdout",
     "output_type": "stream",
     "text": [
      "T_U_N_Tran = \n",
      "[[ 1.          0.          0.          1.55289762]\n",
      " [ 0.          1.          0.         -4.63828055]\n",
      " [ 0.          0.          1.          1.17680182]\n",
      " [ 0.          0.          0.          1.        ]]\n"
     ]
    }
   ],
   "source": [
    "#Ausgabe der Berechnungsergebnisse\n",
    "print(\"T_U_N_Tran = \",end=\"\\n\"); plot4x4Mat(T_U_N_Tran)"
   ]
  },
  {
   "cell_type": "code",
   "execution_count": 53,
   "id": "b100fee1",
   "metadata": {},
   "outputs": [],
   "source": [
    "T_U_Z_2 =  T_U_Z_RotZYX @ T_U_N_Tran"
   ]
  },
  {
   "cell_type": "code",
   "execution_count": 54,
   "id": "c87f1e87",
   "metadata": {},
   "outputs": [
    {
     "name": "stdout",
     "output_type": "stream",
     "text": [
      "T_U_Z_2 = \n",
      "[[ 1.38738100e-11 -5.00000000e-01 -8.66025404e-01  1.30000000e+00]\n",
      " [ 3.09016994e-01  8.23639104e-01 -4.75528258e-01 -3.90000000e+00]\n",
      " [ 9.51056516e-01 -2.67616567e-01  1.54508497e-01  2.90000000e+00]\n",
      " [ 0.00000000e+00  0.00000000e+00  0.00000000e+00  1.00000000e+00]]\n"
     ]
    }
   ],
   "source": [
    "#Ausgabe der Berechnungsergebnisse\n",
    "print(\"T_U_Z_2 = \",end=\"\\n\"); plot4x4Mat(T_U_Z_2)"
   ]
  },
  {
   "cell_type": "code",
   "execution_count": 55,
   "id": "772ea1de",
   "metadata": {},
   "outputs": [
    {
     "name": "stdout",
     "output_type": "stream",
     "text": [
      "T_U_Z_1 = \n",
      "[[ 1.38738100e-11 -5.00000000e-01 -8.66025404e-01  1.30000000e+00]\n",
      " [ 3.09016994e-01  8.23639104e-01 -4.75528258e-01 -3.90000000e+00]\n",
      " [ 9.51056516e-01 -2.67616567e-01  1.54508497e-01  2.90000000e+00]\n",
      " [ 0.00000000e+00  0.00000000e+00  0.00000000e+00  1.00000000e+00]]\n"
     ]
    }
   ],
   "source": [
    "#Ausgabe der Berechnungsergebnisse\n",
    "print(\"T_U_Z_1 = \",end=\"\\n\"); plot4x4Mat(T_U_Z_1)"
   ]
  },
  {
   "cell_type": "code",
   "execution_count": null,
   "id": "48ade34f",
   "metadata": {},
   "outputs": [],
   "source": []
  },
  {
   "cell_type": "code",
   "execution_count": null,
   "id": "f39f57cb",
   "metadata": {},
   "outputs": [],
   "source": []
  }
 ],
 "metadata": {
  "kernelspec": {
   "display_name": "Python 3",
   "language": "python",
   "name": "python3"
  },
  "language_info": {
   "codemirror_mode": {
    "name": "ipython",
    "version": 3
   },
   "file_extension": ".py",
   "mimetype": "text/x-python",
   "name": "python",
   "nbconvert_exporter": "python",
   "pygments_lexer": "ipython3",
   "version": "3.6.9"
  }
 },
 "nbformat": 4,
 "nbformat_minor": 5
}
