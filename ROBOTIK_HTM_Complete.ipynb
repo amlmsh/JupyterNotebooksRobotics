{
 "cells": [
  {
   "cell_type": "markdown",
   "id": "77474611",
   "metadata": {},
   "source": [
    "# Koordinatentransformation für die Robotik"
   ]
  },
  {
   "cell_type": "markdown",
   "id": "0ce74d8e",
   "metadata": {},
   "source": [
    "## (1) Homogene Transformationmatrix (HTM) für die Translation und Rotation"
   ]
  },
  {
   "cell_type": "markdown",
   "id": "62be7935",
   "metadata": {},
   "source": [
    "Folgende Bibliotheken und Konstanten werden genutzt:"
   ]
  },
  {
   "cell_type": "code",
   "execution_count": 2,
   "id": "99115b3d",
   "metadata": {},
   "outputs": [],
   "source": [
    "from matplotlib import pyplot as plt\n",
    "import numpy as np\n",
    "import math\n",
    "\n",
    "PI = 3.14159"
   ]
  },
  {
   "cell_type": "markdown",
   "id": "7dc7b8a1",
   "metadata": {},
   "source": [
    "### (I) Punkt im Ursprungskoordinatensystem U definieren"
   ]
  },
  {
   "cell_type": "markdown",
   "id": "a94e4499",
   "metadata": {},
   "source": [
    "$$ ^{U}P = \\left( \\begin{array}{r} ^{U}x \\\\ ^{U}y \\\\ ^{U}z \\\\ 1 \\end{array}\\right) $$"
   ]
  },
  {
   "cell_type": "code",
   "execution_count": 4,
   "id": "c3619ac8",
   "metadata": {},
   "outputs": [
    {
     "name": "stdout",
     "output_type": "stream",
     "text": [
      "x_U = 10.32\n",
      "y_U = 19.1\n",
      "z_U = 23.14\n"
     ]
    }
   ],
   "source": [
    "x_U = 10.32\n",
    "y_U = 19.10\n",
    "z_U = 23.14\n",
    "print(\"x_U = \",end=\"\"); print(x_U)\n",
    "print(\"y_U = \",end=\"\"); print(y_U)\n",
    "print(\"z_U = \",end=\"\"); print(z_U)"
   ]
  },
  {
   "cell_type": "code",
   "execution_count": 5,
   "id": "c7a68edf",
   "metadata": {},
   "outputs": [],
   "source": [
    "P_U = np.array([[x_U],[y_U],[z_U],[1]])"
   ]
  },
  {
   "cell_type": "code",
   "execution_count": 6,
   "id": "ccbb8b54",
   "metadata": {},
   "outputs": [
    {
     "name": "stdout",
     "output_type": "stream",
     "text": [
      "P_U = \n",
      "\n",
      "[[10.32]\n",
      " [19.1 ]\n",
      " [23.14]\n",
      " [ 1.  ]]\n"
     ]
    }
   ],
   "source": [
    "#Ausgabe der Berechnungsergebnisse\n",
    "print(\"P_U = \",end=\"\\n\\n\"); print(P_U)"
   ]
  },
  {
   "cell_type": "markdown",
   "id": "cbc0fcc5",
   "metadata": {},
   "source": [
    "### (II) Definition der HTM"
   ]
  },
  {
   "cell_type": "markdown",
   "id": "06c0c8e3",
   "metadata": {},
   "source": [
    "#### (II.1) HTM: Matrixgrundstruktur (ohne Translation u. Rotation)"
   ]
  },
  {
   "cell_type": "markdown",
   "id": "63c41ad8",
   "metadata": {},
   "source": [
    "$$ ^{Z}_{U}T  =    \n",
    "   \\left( \\begin{array}{rrrr}       \n",
    "      1 & 0 & 0 & 0 \\\\       \n",
    "      0 & 1 & 0 & 0 \\\\       \n",
    "      0 & 0 & 1 & 0 \\\\       \n",
    "      0 & 0 & 0 & 1 \\\\    \n",
    "   \\end{array}\\right)\n",
    "$$"
   ]
  },
  {
   "cell_type": "code",
   "execution_count": null,
   "id": "639f2a84",
   "metadata": {},
   "outputs": [],
   "source": []
  }
 ],
 "metadata": {
  "kernelspec": {
   "display_name": "Python 3",
   "language": "python",
   "name": "python3"
  },
  "language_info": {
   "codemirror_mode": {
    "name": "ipython",
    "version": 3
   },
   "file_extension": ".py",
   "mimetype": "text/x-python",
   "name": "python",
   "nbconvert_exporter": "python",
   "pygments_lexer": "ipython3",
   "version": "3.6.9"
  }
 },
 "nbformat": 4,
 "nbformat_minor": 5
}
