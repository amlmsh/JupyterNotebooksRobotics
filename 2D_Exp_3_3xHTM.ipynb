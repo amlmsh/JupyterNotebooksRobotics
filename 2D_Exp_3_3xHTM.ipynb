{
 "cells": [
  {
   "cell_type": "markdown",
   "id": "c424db78",
   "metadata": {},
   "source": [
    "# 2D Coordinate transformation"
   ]
  },
  {
   "cell_type": "markdown",
   "id": "009f5831",
   "metadata": {},
   "source": [
    "## Example 3: 2DOF robot arm - Forward kinematics  "
   ]
  },
  {
   "cell_type": "code",
   "execution_count": 1,
   "id": "2594f595",
   "metadata": {},
   "outputs": [],
   "source": [
    "from matplotlib import pyplot as plt\n",
    "from numpy.linalg import inv\n",
    "from IPython import display\n",
    "import numpy as np\n",
    "import math\n",
    "\n",
    "PI = 3.1415926535\n",
    "\n",
    "def plot3x3Mat(m):\n",
    "    print(\"[%6.2f\\t%6.2f\\t%6.2f]\"%(m[0,0],m[0,1],m[0,2]))\n",
    "    print(\"[%6.2f\\t%6.2f\\t%6.2f]\"%(m[1,0],m[1,1],m[1,2]))\n",
    "    print(\"[%6.2f\\t%6.2f\\t%6.2f]\"%(m[2,0],m[2,1],m[2,2]))\n",
    "    \n",
    "def IIDrotM(phi):\n",
    "    m = np.array([[math.cos(float(phi)),math.sin(float(phi)),0],[-math.sin(float(phi)),math.cos(float(phi)),0],[0,0,1]])\n",
    "    return m\n",
    "\n",
    "def IIDtraM(v):\n",
    "    m = np.array([[1,0,float(v[0])],[0,1,float(v[1])],[0,0,1]])\n",
    "    return m\n",
    "\n",
    "def IIDtraHTMvec(x,y):\n",
    "    v = np.array([ [float(x)],[float(y)],[1] ])\n",
    "    return v"
   ]
  },
  {
   "cell_type": "code",
   "execution_count": 2,
   "id": "0420ace2",
   "metadata": {},
   "outputs": [],
   "source": [
    "def createPlot(fig, base, j0, j1, tcp):\n",
    "    plt.xlim(-6, 6)\n",
    "    plt.ylim(-4, 8)\n",
    "    x = [base[0,2], j0[0,2], j1[0,2], tcp[0,2]]\n",
    "    y = [base[1,2], j0[1,2], j1[1,2], tcp[1,2]]\n",
    "    fig.scatter(  j0[0,2] ,j0[1,2], s = 20 )\n",
    "    fig.scatter(  j1[0,2], j1[1,2], s = 20 )\n",
    "    fig.scatter( tcp[0,2],tcp[1,2], s = 20 )\n",
    "    fig.plot(x,y);\n",
    "    return"
   ]
  },
  {
   "cell_type": "markdown",
   "id": "6243ad88",
   "metadata": {},
   "source": [
    "### (I) Scenario"
   ]
  },
  {
   "cell_type": "code",
   "execution_count": 3,
   "id": "14beadae",
   "metadata": {},
   "outputs": [],
   "source": [
    "# definition of parameters of the kinematic chain\n",
    "l0 = 3\n",
    "l1 = 3\n",
    "l2 = 2\n",
    "phi0 = 0\n",
    "phi1 = 0"
   ]
  },
  {
   "cell_type": "markdown",
   "id": "daa8ed28",
   "metadata": {},
   "source": [
    "### (II) Derive the three HTMs  $~~~^{0}_{1}T~~~$, $~~~^{1}_{2}T~~~$ and $~~~^{2}_{3}T~~~$ "
   ]
  },
  {
   "cell_type": "markdown",
   "id": "b4363fad",
   "metadata": {},
   "source": [
    "#### (II).a  HTM $~~~^{0}_{1}T~~~$"
   ]
  },
  {
   "cell_type": "code",
   "execution_count": 4,
   "id": "18fbe652",
   "metadata": {},
   "outputs": [],
   "source": [
    "TR_1_0 = IIDtraM(IIDtraHTMvec(0,l0))\n",
    "R_1_0  = IIDrotM(-phi0)\n",
    "\n",
    "T_1_0 = TR_1_0 @ R_1_0"
   ]
  },
  {
   "cell_type": "code",
   "execution_count": 5,
   "id": "d6ef37ea",
   "metadata": {},
   "outputs": [
    {
     "name": "stdout",
     "output_type": "stream",
     "text": [
      "[  1.00\t  0.00\t  0.00]\n",
      "[  0.00\t  1.00\t  3.00]\n",
      "[  0.00\t  0.00\t  1.00]\n"
     ]
    }
   ],
   "source": [
    "#Output final matrix TR_1_0\n",
    "plot3x3Mat(T_1_0)"
   ]
  },
  {
   "cell_type": "markdown",
   "id": "ab00af08",
   "metadata": {},
   "source": [
    "#### (II).b  HTM $~~~^{1}_{2}T~~~$"
   ]
  },
  {
   "cell_type": "code",
   "execution_count": 6,
   "id": "bfd31d0d",
   "metadata": {},
   "outputs": [],
   "source": [
    "TR_2_1 = IIDtraM(IIDtraHTMvec(l1,0))\n",
    "R_2_1  = IIDrotM(-phi1)\n",
    "\n",
    "T_2_1 = TR_2_1 @ R_2_1"
   ]
  },
  {
   "cell_type": "code",
   "execution_count": 7,
   "id": "7242a1fc",
   "metadata": {},
   "outputs": [
    {
     "name": "stdout",
     "output_type": "stream",
     "text": [
      "[  1.00\t  0.00\t  3.00]\n",
      "[  0.00\t  1.00\t  0.00]\n",
      "[  0.00\t  0.00\t  1.00]\n"
     ]
    }
   ],
   "source": [
    "#Output final matrix TR_2_1\n",
    "plot3x3Mat(T_2_1)"
   ]
  },
  {
   "cell_type": "markdown",
   "id": "fb43dd28",
   "metadata": {},
   "source": [
    "#### (II).c  HTM $~~~^{2}_{3}T~~~$"
   ]
  },
  {
   "cell_type": "code",
   "execution_count": 8,
   "id": "324c9ac3",
   "metadata": {},
   "outputs": [],
   "source": [
    "TR_3_2 = IIDtraM(IIDtraHTMvec(l2,0))\n",
    "R_3_2  = IIDrotM(0)\n",
    "\n",
    "T_3_2 = TR_3_2 @ R_3_2"
   ]
  },
  {
   "cell_type": "code",
   "execution_count": 9,
   "id": "47c3b937",
   "metadata": {},
   "outputs": [
    {
     "name": "stdout",
     "output_type": "stream",
     "text": [
      "[  1.00\t  0.00\t  2.00]\n",
      "[  0.00\t  1.00\t  0.00]\n",
      "[  0.00\t  0.00\t  1.00]\n"
     ]
    }
   ],
   "source": [
    "#Output final matrix TR_2_1\n",
    "plot3x3Mat(T_3_2)"
   ]
  },
  {
   "cell_type": "markdown",
   "id": "2f3bb6c2",
   "metadata": {},
   "source": [
    "### (III) Define a function for the final parameterized HTM $~~~^{0}_{3}T(\\phi_0, \\phi_1, ...)~~~$"
   ]
  },
  {
   "cell_type": "code",
   "execution_count": 10,
   "id": "b048ae64",
   "metadata": {},
   "outputs": [],
   "source": [
    "def FK(PHI0,PHI1, L0,L1,L2):\n",
    "    htm_1_0 = IIDtraM(IIDtraHTMvec(0,L0)) @ IIDrotM(-PHI0)\n",
    "    htm_2_1 = IIDtraM(IIDtraHTMvec(L1,0)) @ IIDrotM(-PHI1)\n",
    "    htm_3_2 = IIDtraM(IIDtraHTMvec(L2,0)) @ IIDrotM(0)\n",
    "    htm_3_0 = htm_1_0 @ htm_2_1 @ htm_3_2\n",
    "    return htm_3_0\n",
    "\n",
    "def FK_TCP(PHI0,PHI1, L0,L1,L2):\n",
    "    return (FK(PHI0,PHI1, L0,L1,L2)) \n",
    "\n",
    "def FK_J1(PHI0,L0,L1):\n",
    "    htm_1_0 = IIDtraM(IIDtraHTMvec(0,L0)) @ IIDrotM(-PHI0)\n",
    "    htm_2_1 = IIDtraM(IIDtraHTMvec(L1,0))\n",
    "    htm_2_0 = htm_1_0 @ htm_2_1\n",
    "    return htm_2_0\n",
    "\n",
    "def FK_J0(L0):\n",
    "    htm_1_0 = IIDtraM(IIDtraHTMvec(0,L0))\n",
    "    return htm_1_0\n",
    "\n",
    "def FK_BASE():\n",
    "    I = np.array([[1.0,0.0,0.0,0.0],[0.0,1.0,0.0,0.0],[0.0,0.0,1.0,0.0],[0.0,0.0,0.0,1.0]])\n",
    "    return I"
   ]
  },
  {
   "cell_type": "markdown",
   "id": "49097c5d",
   "metadata": {},
   "source": [
    "### (VI) Calculate position of the TCP for  given joint positions $\\phi_0$ and $\\phi_1$"
   ]
  },
  {
   "cell_type": "code",
   "execution_count": 21,
   "id": "c01b9d65",
   "metadata": {},
   "outputs": [],
   "source": [
    "phi0 = PI/4\n",
    "phi1 = PI/8"
   ]
  },
  {
   "cell_type": "code",
   "execution_count": 22,
   "id": "4ddada7f",
   "metadata": {},
   "outputs": [],
   "source": [
    "TCP = FK(phi0, phi1,l0,l1,l2)"
   ]
  },
  {
   "cell_type": "code",
   "execution_count": 23,
   "id": "988a89d0",
   "metadata": {},
   "outputs": [
    {
     "name": "stdout",
     "output_type": "stream",
     "text": [
      "[  0.38\t -0.92\t  2.89]\n",
      "[  0.92\t  0.38\t  6.97]\n",
      "[  0.00\t  0.00\t  1.00]\n"
     ]
    }
   ],
   "source": [
    "plot3x3Mat(TCP)"
   ]
  },
  {
   "cell_type": "code",
   "execution_count": 24,
   "id": "8352e505",
   "metadata": {},
   "outputs": [
    {
     "name": "stdout",
     "output_type": "stream",
     "text": [
      "x_TCP =   2.89\n",
      "y_TCP =   6.97\n"
     ]
    }
   ],
   "source": [
    "print(\"x_TCP = \",end=\"\"); print(\"%6.2f\"%TCP[0,2])\n",
    "print(\"y_TCP = \",end=\"\"); print(\"%6.2f\"%TCP[1,2])"
   ]
  },
  {
   "cell_type": "markdown",
   "id": "466a4f88",
   "metadata": {},
   "source": [
    "### (V) Check for plausibility"
   ]
  },
  {
   "cell_type": "code",
   "execution_count": 25,
   "id": "34c6b72f",
   "metadata": {},
   "outputs": [
    {
     "data": {
      "image/png": "[encoded data removed]",
      "text/plain": [
       "<Figure size 432x288 with 1 Axes>"
      ]
     },
     "metadata": {
      "needs_background": "light"
     },
     "output_type": "display_data"
    }
   ],
   "source": [
    "createPlot(plt,FK_BASE(),FK_J0(l0),FK_J1(phi0,l0,l1),FK_TCP(phi0,phi1,l0,l1,l2))\n",
    "plt.show()"
   ]
  },
  {
   "cell_type": "markdown",
   "id": "df982710",
   "metadata": {},
   "source": [
    "The result seems plausible because *\\<PUT YOUR ANSWER HERE...\\>*"
   ]
  }
 ],
 "metadata": {
  "kernelspec": {
   "display_name": "Python 3",
   "language": "python",
   "name": "python3"
  },
  "language_info": {
   "codemirror_mode": {
    "name": "ipython",
    "version": 3
   },
   "file_extension": ".py",
   "mimetype": "text/x-python",
   "name": "python",
   "nbconvert_exporter": "python",
   "pygments_lexer": "ipython3",
   "version": "3.6.9"
  }
 },
 "nbformat": 4,
 "nbformat_minor": 5
}
