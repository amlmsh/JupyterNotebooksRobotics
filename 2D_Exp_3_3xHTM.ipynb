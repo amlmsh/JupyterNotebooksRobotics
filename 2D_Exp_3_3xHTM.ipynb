{
 "cells": [
  {
   "cell_type": "markdown",
   "id": "c424db78",
   "metadata": {},
   "source": [
    "# 2D Coordinate transformation"
   ]
  },
  {
   "cell_type": "markdown",
   "id": "009f5831",
   "metadata": {},
   "source": [
    "## Example 3: 2DOF robot arm - Forward kinematics  "
   ]
  },
  {
   "cell_type": "code",
   "execution_count": 1,
   "id": "2594f595",
   "metadata": {},
   "outputs": [],
   "source": [
    "from matplotlib import pyplot as plt\n",
    "from numpy.linalg import inv\n",
    "from IPython import display\n",
    "import numpy as np\n",
    "import math\n",
    "\n",
    "PI = 3.1415926535\n",
    "\n",
    "def plot3x3Mat(m):\n",
    "    print(\"[%6.2f\\t%6.2f\\t%6.2f]\"%(m[0,0],m[0,1],m[0,2]))\n",
    "    print(\"[%6.2f\\t%6.2f\\t%6.2f]\"%(m[1,0],m[1,1],m[1,2]))\n",
    "    print(\"[%6.2f\\t%6.2f\\t%6.2f]\"%(m[2,0],m[2,1],m[2,2]))\n",
    "    \n",
    "def IIDrotM(phi):\n",
    "    m = np.array([[math.cos(float(phi)),math.sin(float(phi)),0],[-math.sin(float(phi)),math.cos(float(phi)),0],[0,0,1]])\n",
    "    return m\n",
    "\n",
    "def IIDtraM(v):\n",
    "    m = np.array([[1,0,float(v[0])],[0,1,float(v[1])],[0,0,1]])\n",
    "    return m\n",
    "\n",
    "def IIDtraHTMvec(x,y):\n",
    "    v = np.array([ [float(x)],[float(y)],[1] ])\n",
    "    return v"
   ]
  },
  {
   "cell_type": "markdown",
   "id": "6243ad88",
   "metadata": {},
   "source": [
    "### (I) Scenario"
   ]
  },
  {
   "cell_type": "code",
   "execution_count": 2,
   "id": "14beadae",
   "metadata": {},
   "outputs": [],
   "source": [
    "# definition of parameters of the kinematic chain\n",
    "l0 = 1\n",
    "l1 = 1\n",
    "l2 = 1\n",
    "phi0 = 0\n",
    "phi1 = 0"
   ]
  },
  {
   "cell_type": "markdown",
   "id": "daa8ed28",
   "metadata": {},
   "source": [
    "### (II) Derive the three HTMs  $~~~^{0}_{1}T~~~$, $~~~^{1}_{2}T~~~$ and $~~~^{2}_{3}T~~~$ "
   ]
  },
  {
   "cell_type": "markdown",
   "id": "b4363fad",
   "metadata": {},
   "source": [
    "#### (II).a  HTM $~~~^{0}_{1}T~~~$"
   ]
  },
  {
   "cell_type": "code",
   "execution_count": 3,
   "id": "18fbe652",
   "metadata": {},
   "outputs": [],
   "source": [
    "TR_1_0 = IIDtraM(IIDtraHTMvec(0,l0))\n",
    "R_1_0  = IIDrotM(-phi0)\n",
    "\n",
    "T_1_0 = TR_1_0 @ R_1_0"
   ]
  },
  {
   "cell_type": "code",
   "execution_count": 4,
   "id": "21d8b046",
   "metadata": {},
   "outputs": [
    {
     "name": "stdout",
     "output_type": "stream",
     "text": [
      "[  1.00\t  0.00\t  0.00]\n",
      "[  0.00\t  1.00\t  1.00]\n",
      "[  0.00\t  0.00\t  1.00]\n"
     ]
    }
   ],
   "source": [
    "#Output final matrix TR_1_0\n",
    "plot3x3Mat(T_1_0)"
   ]
  },
  {
   "cell_type": "markdown",
   "id": "ab00af08",
   "metadata": {},
   "source": [
    "#### (II).b  HTM $~~~^{1}_{2}T~~~$"
   ]
  },
  {
   "cell_type": "code",
   "execution_count": 5,
   "id": "bfd31d0d",
   "metadata": {},
   "outputs": [],
   "source": [
    "TR_2_1 = IIDtraM(IIDtraHTMvec(l1,0))\n",
    "R_2_1  = IIDrotM(-phi1)\n",
    "\n",
    "T_2_1 = TR_2_1 @ R_2_1"
   ]
  },
  {
   "cell_type": "code",
   "execution_count": 6,
   "id": "400a8fed",
   "metadata": {},
   "outputs": [
    {
     "name": "stdout",
     "output_type": "stream",
     "text": [
      "[  1.00\t  0.00\t  1.00]\n",
      "[  0.00\t  1.00\t  0.00]\n",
      "[  0.00\t  0.00\t  1.00]\n"
     ]
    }
   ],
   "source": [
    "#Output final matrix TR_2_1\n",
    "plot3x3Mat(T_2_1)"
   ]
  },
  {
   "cell_type": "markdown",
   "id": "dfa6e63b",
   "metadata": {},
   "source": [
    "#### (II).c  HTM $~~~^{2}_{3}T~~~$"
   ]
  },
  {
   "cell_type": "code",
   "execution_count": 7,
   "id": "b044bb19",
   "metadata": {},
   "outputs": [],
   "source": [
    "TR_3_2 = IIDtraM(IIDtraHTMvec(l2,0))\n",
    "R_3_2  = IIDrotM(0)\n",
    "\n",
    "T_3_2 = TR_3_2 @ R_3_2"
   ]
  },
  {
   "cell_type": "code",
   "execution_count": 8,
   "id": "83ee4925",
   "metadata": {},
   "outputs": [
    {
     "name": "stdout",
     "output_type": "stream",
     "text": [
      "[  1.00\t  0.00\t  1.00]\n",
      "[  0.00\t  1.00\t  0.00]\n",
      "[  0.00\t  0.00\t  1.00]\n"
     ]
    }
   ],
   "source": [
    "#Output final matrix TR_2_1\n",
    "plot3x3Mat(T_3_2)"
   ]
  },
  {
   "cell_type": "markdown",
   "id": "2f3bb6c2",
   "metadata": {},
   "source": [
    "### (III) Define a function for the final parameterized HTM $~~~^{0}_{3}T(\\phi_0, \\phi_1, ...)~~~$"
   ]
  },
  {
   "cell_type": "code",
   "execution_count": 9,
   "id": "b048ae64",
   "metadata": {},
   "outputs": [],
   "source": [
    "def FK(PHI0,PHI1, L0,L1,L2):\n",
    "    htm_1_0 = IIDtraM(IIDtraHTMvec(0,L0)) @ IIDrotM(-PHI0)\n",
    "    htm_2_1 = IIDtraM(IIDtraHTMvec(L1,0)) @ IIDrotM(-PHI1)\n",
    "    htm_3_2 = IIDtraM(IIDtraHTMvec(L2,0)) @ IIDrotM(0)\n",
    "    htm_3_0 = htm_1_0 @ htm_2_1 @ htm_3_2\n",
    "    return htm_3_0"
   ]
  },
  {
   "cell_type": "markdown",
   "id": "49097c5d",
   "metadata": {},
   "source": [
    "### (VI) Calculate position of the TCP for  given joint positions $\\phi_0$ and $\\phi_1$"
   ]
  },
  {
   "cell_type": "code",
   "execution_count": 10,
   "id": "c01b9d65",
   "metadata": {},
   "outputs": [],
   "source": [
    "phi0 = 0\n",
    "phi1 = 0"
   ]
  },
  {
   "cell_type": "code",
   "execution_count": 11,
   "id": "4ddada7f",
   "metadata": {},
   "outputs": [],
   "source": [
    "TCP = FK(phi0, phi1,l0,l1,l2)"
   ]
  },
  {
   "cell_type": "code",
   "execution_count": 12,
   "id": "988a89d0",
   "metadata": {},
   "outputs": [
    {
     "name": "stdout",
     "output_type": "stream",
     "text": [
      "[  1.00\t  0.00\t  2.00]\n",
      "[  0.00\t  1.00\t  1.00]\n",
      "[  0.00\t  0.00\t  1.00]\n"
     ]
    }
   ],
   "source": [
    "plot3x3Mat(TCP)"
   ]
  },
  {
   "cell_type": "code",
   "execution_count": 13,
   "id": "8352e505",
   "metadata": {},
   "outputs": [
    {
     "name": "stdout",
     "output_type": "stream",
     "text": [
      "x_TCP =   2.00\n",
      "y_TCP =   1.00\n"
     ]
    }
   ],
   "source": [
    "print(\"x_TCP = \",end=\"\"); print(\"%6.2f\"%TCP[0,2])\n",
    "print(\"y_TCP = \",end=\"\"); print(\"%6.2f\"%TCP[1,2])"
   ]
  },
  {
   "cell_type": "markdown",
   "id": "466a4f88",
   "metadata": {},
   "source": [
    "### (V) Check for plausibility"
   ]
  },
  {
   "cell_type": "markdown",
   "id": "b67b0015",
   "metadata": {},
   "source": [
    "The result seems plausible because *\\<PUT YOUR ANSWER HERE...\\>*"
   ]
  }
 ],
 "metadata": {
  "kernelspec": {
   "display_name": "Python 3",
   "language": "python",
   "name": "python3"
  },
  "language_info": {
   "codemirror_mode": {
    "name": "ipython",
    "version": 3
   },
   "file_extension": ".py",
   "mimetype": "text/x-python",
   "name": "python",
   "nbconvert_exporter": "python",
   "pygments_lexer": "ipython3",
   "version": "3.6.9"
  }
 },
 "nbformat": 4,
 "nbformat_minor": 5
}
