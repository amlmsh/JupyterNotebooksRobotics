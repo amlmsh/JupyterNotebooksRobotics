{
 "cells": [
  {
   "cell_type": "markdown",
   "id": "b660cd3c",
   "metadata": {},
   "source": [
    "# 2D Coordinate transformation"
   ]
  },
  {
   "cell_type": "markdown",
   "id": "a23afd6c",
   "metadata": {},
   "source": [
    "## Example 1: Calculation with one HTM "
   ]
  },
  {
   "cell_type": "code",
   "execution_count": 1,
   "id": "09ba364a",
   "metadata": {},
   "outputs": [],
   "source": [
    "from matplotlib import pyplot as plt\n",
    "from numpy.linalg import inv\n",
    "from IPython import display\n",
    "import numpy as np\n",
    "import math\n",
    "\n",
    "PI = 3.1415926535\n",
    "\n",
    "def plot3x3Mat(m):\n",
    "    print(\"[%6.2f\\t%6.2f\\t%6.2f]\"%(m[0,0],m[0,1],m[0,2]))\n",
    "    print(\"[%6.2f\\t%6.2f\\t%6.2f]\"%(m[1,0],m[1,1],m[1,2]))\n",
    "    print(\"[%6.2f\\t%6.2f\\t%6.2f]\"%(m[2,0],m[2,1],m[2,2]))\n",
    "    \n",
    "def IIDrotM(phi):\n",
    "    m = np.array([[math.cos(float(phi)),math.sin(float(phi)),0],[-math.sin(float(phi)),math.cos(float(phi)),0],[0,0,1]])\n",
    "    return m\n",
    "\n",
    "def IIDtraM(v):\n",
    "    m = np.array([[1,0,float(v[0])],[0,1,float(v[1])],[0,0,1]])\n",
    "    return m\n",
    "\n",
    "def IIDtraHTMvec(x,y):\n",
    "    v = np.array([ [float(x)],[float(y)],[1] ])\n",
    "    return v\n"
   ]
  },
  {
   "cell_type": "markdown",
   "id": "ec59859d",
   "metadata": {},
   "source": [
    "### (I) Scenario"
   ]
  },
  {
   "cell_type": "markdown",
   "id": "0f4cbaf6",
   "metadata": {},
   "source": [
    "### (II) Derive tansformation parameters angle $\\phi$ and translation $ ^{t}V$"
   ]
  },
  {
   "cell_type": "markdown",
   "id": "04de43e6",
   "metadata": {},
   "source": [
    "#### Rotation angle $\\phi$"
   ]
  },
  {
   "cell_type": "code",
   "execution_count": 2,
   "id": "e37ffafb",
   "metadata": {},
   "outputs": [],
   "source": [
    "phi = PI"
   ]
  },
  {
   "cell_type": "markdown",
   "id": "978ce815",
   "metadata": {},
   "source": [
    "#### Translation vectro $^tV$"
   ]
  },
  {
   "cell_type": "code",
   "execution_count": 3,
   "id": "554c2a51",
   "metadata": {},
   "outputs": [],
   "source": [
    "x_t = 10\n",
    "y_t = 10"
   ]
  },
  {
   "cell_type": "code",
   "execution_count": 4,
   "id": "877c5204",
   "metadata": {},
   "outputs": [],
   "source": [
    "V_t = IIDtraHTMvec(x_t,y_t)"
   ]
  },
  {
   "cell_type": "markdown",
   "id": "b1d7c887",
   "metadata": {},
   "source": [
    "### (III) Create HTM"
   ]
  },
  {
   "cell_type": "markdown",
   "id": "60f05a39",
   "metadata": {},
   "source": [
    "#### Create HTM for rotation only"
   ]
  },
  {
   "cell_type": "code",
   "execution_count": 5,
   "id": "b64465d2",
   "metadata": {},
   "outputs": [],
   "source": [
    "R_o_t = IIDrotM(phi)"
   ]
  },
  {
   "cell_type": "code",
   "execution_count": 6,
   "id": "bd5cf22f",
   "metadata": {},
   "outputs": [
    {
     "name": "stdout",
     "output_type": "stream",
     "text": [
      "[ -1.00\t  0.00\t  0.00]\n",
      "[ -0.00\t -1.00\t  0.00]\n",
      "[  0.00\t  0.00\t  1.00]\n"
     ]
    }
   ],
   "source": [
    "#Output final matrix R_o_t\n",
    "plot3x3Mat(R_o_t)"
   ]
  },
  {
   "cell_type": "markdown",
   "id": "3a155782",
   "metadata": {},
   "source": [
    "#### Create HTM for translation only"
   ]
  },
  {
   "cell_type": "code",
   "execution_count": 7,
   "id": "9dace85a",
   "metadata": {},
   "outputs": [],
   "source": [
    "TR_o_t = IIDtraM(V_t)"
   ]
  },
  {
   "cell_type": "code",
   "execution_count": 8,
   "id": "d42777b2",
   "metadata": {},
   "outputs": [
    {
     "name": "stdout",
     "output_type": "stream",
     "text": [
      "[  1.00\t  0.00\t 10.00]\n",
      "[  0.00\t  1.00\t 10.00]\n",
      "[  0.00\t  0.00\t  1.00]\n"
     ]
    }
   ],
   "source": [
    "#Output final matrix TR_o_t\n",
    "plot3x3Mat(TR_o_t)"
   ]
  },
  {
   "cell_type": "markdown",
   "id": "86c364c6",
   "metadata": {},
   "source": [
    "#### Create complete HTM (incl. rotation and translation)"
   ]
  },
  {
   "cell_type": "code",
   "execution_count": 9,
   "id": "78de3e63",
   "metadata": {},
   "outputs": [],
   "source": [
    "T_o_t = TR_o_t @ R_o_t"
   ]
  },
  {
   "cell_type": "code",
   "execution_count": 10,
   "id": "64c62340",
   "metadata": {},
   "outputs": [
    {
     "name": "stdout",
     "output_type": "stream",
     "text": [
      "T_o_t = \n",
      "\n",
      "[ -1.00\t  0.00\t 10.00]\n",
      "[ -0.00\t -1.00\t 10.00]\n",
      "[  0.00\t  0.00\t  1.00]\n"
     ]
    }
   ],
   "source": [
    "#Output final matrix\n",
    "print(\"T_o_t = \",end=\"\\n\\n\"); plot3x3Mat(T_o_t)"
   ]
  },
  {
   "cell_type": "markdown",
   "id": "0e08ed12",
   "metadata": {},
   "source": [
    "### (IV) Calculate vector $^tP$ for given $^oP$"
   ]
  },
  {
   "cell_type": "markdown",
   "id": "c591ce03",
   "metadata": {},
   "source": [
    "$$ \n",
    " ^{t}P ~~~ = ~~~  T_o^t ~ \\cdot ~ ^{o}P \n",
    "$$"
   ]
  },
  {
   "cell_type": "code",
   "execution_count": 11,
   "id": "72dbb6bc",
   "metadata": {},
   "outputs": [
    {
     "name": "stdout",
     "output_type": "stream",
     "text": [
      "x_p_o = 0\n",
      "y_p_o = 0\n"
     ]
    }
   ],
   "source": [
    "print(\"x_p_o = \", end=\"\")\n",
    "x_p_o = float(input());\n",
    "print(\"y_p_o = \", end=\"\")\n",
    "y_p_o = float(input());\n"
   ]
  },
  {
   "cell_type": "code",
   "execution_count": 12,
   "id": "ece0cf5d",
   "metadata": {},
   "outputs": [],
   "source": [
    "p_o = IIDtraHTMvec(x_p_o, y_p_o)"
   ]
  },
  {
   "cell_type": "code",
   "execution_count": 13,
   "id": "c3c7a249",
   "metadata": {},
   "outputs": [
    {
     "name": "stdout",
     "output_type": "stream",
     "text": [
      "p_t = \n",
      "[[10.]\n",
      " [10.]\n",
      " [ 1.]]\n"
     ]
    }
   ],
   "source": [
    "p_t = T_o_t @ p_o\n",
    "print(\"p_t = \", end=\"\\n\");\n",
    "print(p_t)"
   ]
  },
  {
   "cell_type": "markdown",
   "id": "2966407b",
   "metadata": {},
   "source": [
    "### (V) Check for plausibility"
   ]
  },
  {
   "cell_type": "code",
   "execution_count": 14,
   "id": "a65878d8",
   "metadata": {},
   "outputs": [
    {
     "name": "stdout",
     "output_type": "stream",
     "text": [
      "P_o = \n",
      "[[0.]\n",
      " [0.]\n",
      " [1.]]\n"
     ]
    }
   ],
   "source": [
    "print(\"P_o = \",end=\"\\n\"); print(p_o)"
   ]
  },
  {
   "cell_type": "code",
   "execution_count": 15,
   "id": "a9d31351",
   "metadata": {},
   "outputs": [
    {
     "name": "stdout",
     "output_type": "stream",
     "text": [
      "P_t = \n",
      "[[10.]\n",
      " [10.]\n",
      " [ 1.]]\n"
     ]
    }
   ],
   "source": [
    "print(\"P_t = \",end=\"\\n\"); print(p_t)"
   ]
  },
  {
   "cell_type": "markdown",
   "id": "23374c77",
   "metadata": {},
   "source": [
    "The result seems plausible because *\\<PUT YOUR ANSWER HERE...\\>*"
   ]
  }
 ],
 "metadata": {
  "kernelspec": {
   "display_name": "Python 3",
   "language": "python",
   "name": "python3"
  },
  "language_info": {
   "codemirror_mode": {
    "name": "ipython",
    "version": 3
   },
   "file_extension": ".py",
   "mimetype": "text/x-python",
   "name": "python",
   "nbconvert_exporter": "python",
   "pygments_lexer": "ipython3",
   "version": "3.6.9"
  }
 },
 "nbformat": 4,
 "nbformat_minor": 5
}
