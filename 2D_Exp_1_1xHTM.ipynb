{
 "cells": [
  {
   "cell_type": "markdown",
   "id": "d318718b",
   "metadata": {},
   "source": [
    "# 2D Coordinate transformation"
   ]
  },
  {
   "cell_type": "markdown",
   "id": "7f2fb31e",
   "metadata": {},
   "source": [
    "## Example 1: Calulation with one HTM "
   ]
  },
  {
   "cell_type": "code",
   "execution_count": 1,
   "id": "288a1753",
   "metadata": {},
   "outputs": [],
   "source": [
    "from matplotlib import pyplot as plt\n",
    "from numpy.linalg import inv\n",
    "from IPython import display\n",
    "import numpy as np\n",
    "import math\n",
    "\n",
    "PI = 3.1415926535\n",
    "\n",
    "def plot3x3Mat(m):\n",
    "    print(\"[%6.2f\\t%6.2f\\t%6.2f]\"%(m[0,0],m[0,1],m[0,2]))\n",
    "    print(\"[%6.2f\\t%6.2f\\t%6.2f]\"%(m[1,0],m[1,1],m[1,2]))\n",
    "    print(\"[%6.2f\\t%6.2f\\t%6.2f]\"%(m[2,0],m[2,1],m[2,2]))\n",
    "    \n",
    "def IIDrotM(phi):\n",
    "    m = np.array([[math.cos(float(phi)),math.sin(float(phi)),0],[-math.sin(float(phi)),math.cos(float(phi)),0],[0,0,1]])\n",
    "    return m\n",
    "\n",
    "def IIDtraM(v):\n",
    "    m = np.array([[1,0,float(v[0])],[0,1,float(v[1])],[0,0,1]])\n",
    "    return m\n",
    "\n",
    "def IIDtraHTMvec(x,y):\n",
    "    v = np.array([ [float(x)],[float(y)],[1] ])\n",
    "    return v\n"
   ]
  },
  {
   "cell_type": "markdown",
   "id": "9735ebfd",
   "metadata": {},
   "source": [
    "### (I) Scenario"
   ]
  },
  {
   "cell_type": "markdown",
   "id": "ec62b14b",
   "metadata": {},
   "source": [
    "### (II) Derive tansformation parameters angle $\\phi$ and translation $ ^{t}V$"
   ]
  },
  {
   "cell_type": "markdown",
   "id": "81e1428c",
   "metadata": {},
   "source": [
    "#### Rotation angle $\\phi$"
   ]
  },
  {
   "cell_type": "code",
   "execution_count": 2,
   "id": "3e7f3d79",
   "metadata": {},
   "outputs": [],
   "source": [
    "phi = PI"
   ]
  },
  {
   "cell_type": "markdown",
   "id": "60fda0a1",
   "metadata": {},
   "source": [
    "#### Translation vectro $^tV$"
   ]
  },
  {
   "cell_type": "code",
   "execution_count": 3,
   "id": "71ebee03",
   "metadata": {},
   "outputs": [],
   "source": [
    "x_t = 0\n",
    "y_t = 0"
   ]
  },
  {
   "cell_type": "code",
   "execution_count": 4,
   "id": "70f10452",
   "metadata": {},
   "outputs": [],
   "source": [
    "V_t = IIDtraHTMvec(x_t,y_t)"
   ]
  },
  {
   "cell_type": "markdown",
   "id": "4de00ac9",
   "metadata": {},
   "source": [
    "### (III) Create HTM"
   ]
  },
  {
   "cell_type": "markdown",
   "id": "b6d77190",
   "metadata": {},
   "source": [
    "#### Create HTM for rotation only"
   ]
  },
  {
   "cell_type": "code",
   "execution_count": 5,
   "id": "9bc9f523",
   "metadata": {},
   "outputs": [],
   "source": [
    "R_o_t = IIDrotM(phi)"
   ]
  },
  {
   "cell_type": "code",
   "execution_count": 6,
   "id": "739d4a06",
   "metadata": {},
   "outputs": [
    {
     "name": "stdout",
     "output_type": "stream",
     "text": [
      "[ -1.00\t  0.00\t  0.00]\n",
      "[ -0.00\t -1.00\t  0.00]\n",
      "[  0.00\t  0.00\t  1.00]\n"
     ]
    }
   ],
   "source": [
    "#Output final matrix R_o_t\n",
    "plot3x3Mat(R_o_t)"
   ]
  },
  {
   "cell_type": "markdown",
   "id": "7ced4f1c",
   "metadata": {},
   "source": [
    "#### Create HTM for translation only"
   ]
  },
  {
   "cell_type": "code",
   "execution_count": 7,
   "id": "d9ed0448",
   "metadata": {},
   "outputs": [],
   "source": [
    "TR_o_t = IIDtraM(V_t)"
   ]
  },
  {
   "cell_type": "code",
   "execution_count": 8,
   "id": "e313af63",
   "metadata": {},
   "outputs": [
    {
     "name": "stdout",
     "output_type": "stream",
     "text": [
      "[  1.00\t  0.00\t  0.00]\n",
      "[  0.00\t  1.00\t  0.00]\n",
      "[  0.00\t  0.00\t  1.00]\n"
     ]
    }
   ],
   "source": [
    "#Output final matrix TR_o_t\n",
    "plot3x3Mat(TR_o_t)"
   ]
  },
  {
   "cell_type": "markdown",
   "id": "bf2929f7",
   "metadata": {},
   "source": [
    "#### Create complete HTM (incl. rotation and translation)"
   ]
  },
  {
   "cell_type": "code",
   "execution_count": 9,
   "id": "6585a508",
   "metadata": {},
   "outputs": [],
   "source": [
    "T_o_t = TR_o_t @ R_o_t"
   ]
  },
  {
   "cell_type": "code",
   "execution_count": 10,
   "id": "e005a253",
   "metadata": {},
   "outputs": [
    {
     "name": "stdout",
     "output_type": "stream",
     "text": [
      "T_o_t = \n",
      "\n",
      "[ -1.00\t  0.00\t  0.00]\n",
      "[ -0.00\t -1.00\t  0.00]\n",
      "[  0.00\t  0.00\t  1.00]\n"
     ]
    }
   ],
   "source": [
    "#Output final matrix\n",
    "print(\"T_o_t = \",end=\"\\n\\n\"); plot3x3Mat(T_o_t)"
   ]
  },
  {
   "cell_type": "markdown",
   "id": "70c35661",
   "metadata": {},
   "source": [
    "### (IV) Calculate vector $^tP$ for given $^oP$"
   ]
  },
  {
   "cell_type": "markdown",
   "id": "870ad652",
   "metadata": {},
   "source": [
    "$$ \n",
    " ^{t}P ~~~ = ~~~  T_o^t ~ \\cdot ~ ^{o}P \n",
    "$$"
   ]
  },
  {
   "cell_type": "code",
   "execution_count": 11,
   "id": "8f216581",
   "metadata": {},
   "outputs": [
    {
     "name": "stdout",
     "output_type": "stream",
     "text": [
      "x_p_o = 1\n",
      "y_p_o = 1\n"
     ]
    }
   ],
   "source": [
    "print(\"x_p_o = \", end=\"\")\n",
    "x_p_o = float(input());\n",
    "print(\"y_p_o = \", end=\"\")\n",
    "y_p_o = float(input());\n"
   ]
  },
  {
   "cell_type": "code",
   "execution_count": 12,
   "id": "44a2b9a2",
   "metadata": {},
   "outputs": [],
   "source": [
    "p_o = IIDtraHTMvec(x_p_o, y_p_o)"
   ]
  },
  {
   "cell_type": "code",
   "execution_count": 13,
   "id": "7850d854",
   "metadata": {},
   "outputs": [
    {
     "name": "stdout",
     "output_type": "stream",
     "text": [
      "p_t = \n",
      "[[-1.]\n",
      " [-1.]\n",
      " [ 1.]]\n"
     ]
    }
   ],
   "source": [
    "p_t = T_o_t @ p_o\n",
    "print(\"p_t = \", end=\"\\n\");\n",
    "print(p_t)"
   ]
  },
  {
   "cell_type": "markdown",
   "id": "fe72227e",
   "metadata": {},
   "source": [
    "### (V) Check for plausibility"
   ]
  },
  {
   "cell_type": "code",
   "execution_count": 14,
   "id": "3fb68424",
   "metadata": {},
   "outputs": [
    {
     "name": "stdout",
     "output_type": "stream",
     "text": [
      "P_o = \n",
      "[[1.]\n",
      " [1.]\n",
      " [1.]]\n"
     ]
    }
   ],
   "source": [
    "print(\"P_o = \",end=\"\\n\"); print(p_o)"
   ]
  },
  {
   "cell_type": "code",
   "execution_count": 15,
   "id": "b8742530",
   "metadata": {},
   "outputs": [
    {
     "name": "stdout",
     "output_type": "stream",
     "text": [
      "P_t = \n",
      "[[-1.]\n",
      " [-1.]\n",
      " [ 1.]]\n"
     ]
    }
   ],
   "source": [
    "print(\"P_t = \",end=\"\\n\"); print(p_t)"
   ]
  },
  {
   "cell_type": "markdown",
   "id": "60fa47f3",
   "metadata": {},
   "source": [
    "The result seems plausible because *\\<PUT YOUR ANSWER HERE...\\>*"
   ]
  }
 ],
 "metadata": {
  "kernelspec": {
   "display_name": "Python 3",
   "language": "python",
   "name": "python3"
  },
  "language_info": {
   "codemirror_mode": {
    "name": "ipython",
    "version": 3
   },
   "file_extension": ".py",
   "mimetype": "text/x-python",
   "name": "python",
   "nbconvert_exporter": "python",
   "pygments_lexer": "ipython3",
   "version": "3.6.9"
  }
 },
 "nbformat": 4,
 "nbformat_minor": 5
}
