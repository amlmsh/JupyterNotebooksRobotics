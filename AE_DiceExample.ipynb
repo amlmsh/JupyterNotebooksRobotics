{
 "cells": [
  {
   "cell_type": "markdown",
   "id": "11c5225f",
   "metadata": {},
   "source": [
    "# Autonomous robotics - Artificial Evolution"
   ]
  },
  {
   "cell_type": "markdown",
   "id": "5045a331",
   "metadata": {},
   "source": [
    "## Example: The dice game - the most simple example of evoltionary process  "
   ]
  },
  {
   "cell_type": "code",
   "execution_count": 1,
   "id": "5a45d7fa",
   "metadata": {},
   "outputs": [],
   "source": [
    "from matplotlib import pyplot as plt\n",
    "from numpy.linalg import inv\n",
    "from IPython import display\n",
    "import numpy as np\n",
    "import math\n",
    "import random"
   ]
  },
  {
   "cell_type": "code",
   "execution_count": 2,
   "id": "8356cdc1",
   "metadata": {},
   "outputs": [],
   "source": [
    "nmbDice = 3\n",
    "popSize = 10\n",
    "nmbGen = 50\n",
    "nmbSelect = 3\n",
    "\n",
    "def dice(nmbDice):\n",
    "    s = 0\n",
    "    for i in range(0,nmbDice):\n",
    "        s = s + np.random.randint(1,7)\n",
    "    return s"
   ]
  },
  {
   "cell_type": "code",
   "execution_count": 3,
   "id": "97de4e9d",
   "metadata": {},
   "outputs": [
    {
     "ename": "NameError",
     "evalue": "name 'g' is not defined",
     "output_type": "error",
     "traceback": [
      "\u001b[0;31m---------------------------------------------------------------------------\u001b[0m",
      "\u001b[0;31mNameError\u001b[0m                                 Traceback (most recent call last)",
      "\u001b[0;32m<ipython-input-3-92d99077c290>\u001b[0m in \u001b[0;36m<module>\u001b[0;34m\u001b[0m\n\u001b[1;32m      2\u001b[0m \u001b[0mevoProcMonitor\u001b[0m\u001b[0;34m.\u001b[0m\u001b[0mfill\u001b[0m\u001b[0;34m(\u001b[0m\u001b[0;36m0\u001b[0m\u001b[0;34m)\u001b[0m\u001b[0;34m\u001b[0m\u001b[0;34m\u001b[0m\u001b[0m\n\u001b[1;32m      3\u001b[0m \u001b[0;34m\u001b[0m\u001b[0m\n\u001b[0;32m----> 4\u001b[0;31m \u001b[0mlen\u001b[0m\u001b[0;34m(\u001b[0m\u001b[0mevoProcMonitor\u001b[0m\u001b[0;34m[\u001b[0m\u001b[0mg\u001b[0m\u001b[0;34m]\u001b[0m\u001b[0;34m)\u001b[0m\u001b[0;34m\u001b[0m\u001b[0;34m\u001b[0m\u001b[0m\n\u001b[0m",
      "\u001b[0;31mNameError\u001b[0m: name 'g' is not defined"
     ]
    }
   ],
   "source": [
    "evoProcMonitor = np.empty((nmbGen,popSize))\n",
    "evoProcMonitor.fill(0)\n",
    "\n",
    "len(evoProcMonitor[g])"
   ]
  },
  {
   "cell_type": "code",
   "execution_count": null,
   "id": "a3168903",
   "metadata": {},
   "outputs": [],
   "source": [
    "#init 1st generation\n",
    "g=0\n",
    "for i in range(len(evoProcMonitor[g])):\n",
    "    evoProcMonitor[g,i] = dice(nmbDice)\n",
    "\n",
    "#evaluate 1st population    \n",
    "evoProcMonitor[g].sort()\n",
    "\n",
    "for g in range(0,nmbGen-1):\n",
    "    #create new population selecting / replacing \n",
    "    # the lowest performing individual from population\n",
    "    for i in range(0,nmbSelect):\n",
    "        evoProcMonitor[g+1,i] =  dice(nmbDice) # replace\n",
    "    \n",
    "    for i in range(nmbSelect,popSize):\n",
    "        evoProcMonitor[g+1,i] = evoProcMonitor[g,i] # survive\n",
    "\n",
    "    #evaluate new population \n",
    "    evoProcMonitor[g+1].sort()"
   ]
  },
  {
   "cell_type": "code",
   "execution_count": null,
   "id": "38d91c42",
   "metadata": {},
   "outputs": [],
   "source": [
    "evoProcMonitor"
   ]
  },
  {
   "cell_type": "code",
   "execution_count": null,
   "id": "c28d4dc4",
   "metadata": {},
   "outputs": [],
   "source": []
  }
 ],
 "metadata": {
  "kernelspec": {
   "display_name": "Python 3",
   "language": "python",
   "name": "python3"
  },
  "language_info": {
   "codemirror_mode": {
    "name": "ipython",
    "version": 3
   },
   "file_extension": ".py",
   "mimetype": "text/x-python",
   "name": "python",
   "nbconvert_exporter": "python",
   "pygments_lexer": "ipython3",
   "version": "3.6.9"
  }
 },
 "nbformat": 4,
 "nbformat_minor": 5
}
