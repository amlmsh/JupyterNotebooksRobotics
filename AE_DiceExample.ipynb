{
 "cells": [
  {
   "cell_type": "markdown",
   "id": "feecab14",
   "metadata": {},
   "source": [
    "# Autonomous robotics - Artificial Evolution"
   ]
  },
  {
   "cell_type": "markdown",
   "id": "726fd51d",
   "metadata": {},
   "source": [
    "## Example: The dice game - the most simple example of evoltionary process  "
   ]
  },
  {
   "cell_type": "code",
   "execution_count": 1,
   "id": "1da3d891",
   "metadata": {},
   "outputs": [],
   "source": [
    "from matplotlib import pyplot as plt\n",
    "from numpy.linalg import inv\n",
    "from IPython import display\n",
    "import numpy as np\n",
    "import math\n",
    "import random"
   ]
  },
  {
   "cell_type": "code",
   "execution_count": 2,
   "id": "dacc6029",
   "metadata": {},
   "outputs": [],
   "source": [
    "nmbDice = 3\n",
    "popSize = 10\n",
    "nmbGen = 50\n",
    "nmbSelect = 3\n",
    "\n",
    "def dice(nmbDice):\n",
    "    s = 0\n",
    "    for i in range(0,nmbDice):\n",
    "        s = s + np.random.randint(1,7)\n",
    "    return s"
   ]
  },
  {
   "cell_type": "code",
   "execution_count": 3,
   "id": "317d1127",
   "metadata": {},
   "outputs": [],
   "source": [
    "evoProcMonitor = np.empty((nmbGen,popSize))\n",
    "evoProcMonitor.fill(0)"
   ]
  },
  {
   "cell_type": "code",
   "execution_count": 4,
   "id": "e5b94539",
   "metadata": {},
   "outputs": [],
   "source": [
    "#init 1st generation\n",
    "g=0\n",
    "for i in range(len(evoProcMonitor[g])):\n",
    "    evoProcMonitor[g,i] = dice(nmbDice)\n",
    "\n",
    "#evaluate 1st population    \n",
    "evoProcMonitor[g].sort()\n",
    "\n",
    "for g in range(0,nmbGen-1):\n",
    "    #create new population selecting / replacing \n",
    "    # the lowest performing individual from population\n",
    "    for i in range(0,nmbSelect):\n",
    "        evoProcMonitor[g+1,i] =  dice(nmbDice) # replace\n",
    "    \n",
    "    for i in range(nmbSelect,popSize):\n",
    "        evoProcMonitor[g+1,i] = evoProcMonitor[g,i] # survive\n",
    "\n",
    "    #evaluate new population \n",
    "    evoProcMonitor[g+1].sort()"
   ]
  },
  {
   "cell_type": "code",
   "execution_count": 5,
   "id": "a72c4683",
   "metadata": {},
   "outputs": [
    {
     "data": {
      "text/plain": [
       "array([[ 8.,  8., 10., 10., 11., 11., 11., 13., 13., 14.],\n",
       "       [ 6.,  9., 10., 11., 11., 11., 13., 13., 14., 18.],\n",
       "       [ 8.,  8., 11., 11., 11., 13., 13., 13., 14., 18.],\n",
       "       [ 9., 10., 11., 11., 13., 13., 13., 14., 14., 18.],\n",
       "       [ 6.,  8., 10., 11., 13., 13., 13., 14., 14., 18.],\n",
       "       [ 9., 11., 11., 12., 13., 13., 13., 14., 14., 18.],\n",
       "       [10., 10., 10., 12., 13., 13., 13., 14., 14., 18.],\n",
       "       [10., 12., 12., 13., 13., 13., 14., 14., 14., 18.],\n",
       "       [12., 12., 13., 13., 13., 14., 14., 14., 15., 18.],\n",
       "       [ 7., 11., 12., 13., 13., 14., 14., 14., 15., 18.],\n",
       "       [ 6., 11., 13., 13., 13., 14., 14., 14., 15., 18.],\n",
       "       [ 6.,  7.,  7., 13., 13., 14., 14., 14., 15., 18.],\n",
       "       [ 6.,  9., 10., 13., 13., 14., 14., 14., 15., 18.],\n",
       "       [ 6., 11., 13., 13., 14., 14., 14., 15., 16., 18.],\n",
       "       [ 4.,  9., 13., 13., 14., 14., 14., 15., 16., 18.],\n",
       "       [11., 13., 13., 14., 14., 14., 15., 16., 16., 18.],\n",
       "       [ 9., 13., 14., 14., 14., 14., 15., 16., 16., 18.],\n",
       "       [ 7., 10., 10., 14., 14., 14., 15., 16., 16., 18.],\n",
       "       [ 9., 12., 13., 14., 14., 14., 15., 16., 16., 18.],\n",
       "       [10., 12., 12., 14., 14., 14., 15., 16., 16., 18.],\n",
       "       [ 3., 12., 14., 14., 14., 14., 15., 16., 16., 18.],\n",
       "       [ 7.,  9., 11., 14., 14., 14., 15., 16., 16., 18.],\n",
       "       [ 9., 10., 11., 14., 14., 14., 15., 16., 16., 18.],\n",
       "       [ 9., 11., 14., 14., 14., 15., 16., 16., 16., 18.],\n",
       "       [ 3., 10., 11., 14., 14., 15., 16., 16., 16., 18.],\n",
       "       [ 3., 13., 13., 14., 14., 15., 16., 16., 16., 18.],\n",
       "       [ 8., 11., 11., 14., 14., 15., 16., 16., 16., 18.],\n",
       "       [ 5., 10., 11., 14., 14., 15., 16., 16., 16., 18.],\n",
       "       [ 8., 11., 12., 14., 14., 15., 16., 16., 16., 18.],\n",
       "       [ 8.,  9., 12., 14., 14., 15., 16., 16., 16., 18.],\n",
       "       [ 6., 10., 12., 14., 14., 15., 16., 16., 16., 18.],\n",
       "       [ 9., 10., 14., 14., 14., 15., 16., 16., 16., 18.],\n",
       "       [ 7., 12., 14., 14., 15., 16., 16., 16., 16., 18.],\n",
       "       [ 9., 10., 11., 14., 15., 16., 16., 16., 16., 18.],\n",
       "       [ 9., 10., 11., 14., 15., 16., 16., 16., 16., 18.],\n",
       "       [ 6.,  7.,  9., 14., 15., 16., 16., 16., 16., 18.],\n",
       "       [ 8.,  8.,  9., 14., 15., 16., 16., 16., 16., 18.],\n",
       "       [10., 12., 12., 14., 15., 16., 16., 16., 16., 18.],\n",
       "       [10., 10., 11., 14., 15., 16., 16., 16., 16., 18.],\n",
       "       [ 9.,  9., 10., 14., 15., 16., 16., 16., 16., 18.],\n",
       "       [ 7., 14., 15., 15., 16., 16., 16., 16., 16., 18.],\n",
       "       [ 9., 10., 13., 15., 16., 16., 16., 16., 16., 18.],\n",
       "       [ 8., 12., 15., 15., 16., 16., 16., 16., 16., 18.],\n",
       "       [12., 12., 14., 15., 16., 16., 16., 16., 16., 18.],\n",
       "       [ 6., 11., 13., 15., 16., 16., 16., 16., 16., 18.],\n",
       "       [ 9.,  9., 15., 15., 16., 16., 16., 16., 16., 18.],\n",
       "       [ 6.,  8., 15., 16., 16., 16., 16., 16., 18., 18.],\n",
       "       [11., 12., 14., 16., 16., 16., 16., 16., 18., 18.],\n",
       "       [ 8., 10., 13., 16., 16., 16., 16., 16., 18., 18.],\n",
       "       [ 8., 10., 10., 16., 16., 16., 16., 16., 18., 18.]])"
      ]
     },
     "execution_count": 5,
     "metadata": {},
     "output_type": "execute_result"
    }
   ],
   "source": [
    "evoProcMonitor"
   ]
  },
  {
   "cell_type": "code",
   "execution_count": null,
   "id": "2fbce303",
   "metadata": {},
   "outputs": [],
   "source": []
  }
 ],
 "metadata": {
  "kernelspec": {
   "display_name": "Python 3",
   "language": "python",
   "name": "python3"
  },
  "language_info": {
   "codemirror_mode": {
    "name": "ipython",
    "version": 3
   },
   "file_extension": ".py",
   "mimetype": "text/x-python",
   "name": "python",
   "nbconvert_exporter": "python",
   "pygments_lexer": "ipython3",
   "version": "3.6.9"
  }
 },
 "nbformat": 4,
 "nbformat_minor": 5
}
