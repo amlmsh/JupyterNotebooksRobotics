{
 "cells": [
  {
   "cell_type": "markdown",
   "id": "feecab14",
   "metadata": {},
   "source": [
    "# Autonomous robotics - Artificial Evolution"
   ]
  },
  {
   "cell_type": "markdown",
   "id": "726fd51d",
   "metadata": {},
   "source": [
    "## Example: The dice game - the most simple example of evoltionary process  "
   ]
  },
  {
   "cell_type": "code",
   "execution_count": 1,
   "id": "1da3d891",
   "metadata": {},
   "outputs": [],
   "source": [
    "from matplotlib import pyplot as plt\n",
    "from numpy.linalg import inv\n",
    "from IPython import display\n",
    "import numpy as np\n",
    "import math\n",
    "import random"
   ]
  },
  {
   "cell_type": "code",
   "execution_count": 2,
   "id": "3cec7e21",
   "metadata": {},
   "outputs": [],
   "source": [
    "def createPlot(fig, x,y,nDices, nGen):\n",
    "    plt.xlim(0, nGen+1)\n",
    "    plt.ylim(0, (nDice*6)+1)\n",
    "    fig.plot(x,y);\n",
    "    return"
   ]
  },
  {
   "cell_type": "code",
   "execution_count": 3,
   "id": "dacc6029",
   "metadata": {},
   "outputs": [],
   "source": [
    "nmbDice = 3\n",
    "popSize = 100\n",
    "nmbGen = 1000\n",
    "nmbSelect = 10\n",
    "\n",
    "def dice(nmbDice):\n",
    "    s = 0\n",
    "    for i in range(0,nmbDice):\n",
    "        s = s + np.random.randint(1,7)\n",
    "    return s\n",
    "\n",
    "def getSumPopFitOverGen(evoProc):\n",
    "    sumPopFit = np.empty(len(evoProc))\n",
    "    for i in range(len(evoProc)):\n",
    "        sumPopFit[i] = np.sum(evoProc[:][i])\n",
    "    return sumPopFit\n",
    "\n",
    "def getAvgPopFitOverGen(evoProc):\n",
    "    avgPopFit = np.empty(len(evoProc))\n",
    "    for i in range(len(evoProc)):\n",
    "        avgPopFit[i] = float(np.sum(evoProc[:][i])) / float(len(evoProc[0]))\n",
    "    return avgPopFit\n",
    "\n",
    "def getMaxPopFitOverGen(evoProc):\n",
    "    maxPopFit = np.empty(len(evoProc))\n",
    "    for i in range(len(evoProc)):\n",
    "        maxPopFit[i] = np.max(evoProc[:][i])\n",
    "    return maxPopFit"
   ]
  },
  {
   "cell_type": "code",
   "execution_count": 4,
   "id": "317d1127",
   "metadata": {},
   "outputs": [],
   "source": [
    "evoProcMonitor = np.empty((nmbGen,popSize))\n",
    "evoProcMonitor.fill(0)"
   ]
  },
  {
   "cell_type": "code",
   "execution_count": 5,
   "id": "e5b94539",
   "metadata": {},
   "outputs": [],
   "source": [
    "#init 1st generation\n",
    "g=0\n",
    "for i in range(len(evoProcMonitor[g])):\n",
    "    evoProcMonitor[g,i] = dice(nmbDice)\n",
    "\n",
    "#evaluate 1st population    \n",
    "evoProcMonitor[g].sort()\n",
    "\n",
    "for g in range(0,nmbGen-1):\n",
    "    #create new population selecting / replacing \n",
    "    # the lowest performing individual from population\n",
    "    for i in range(0,nmbSelect):\n",
    "        evoProcMonitor[g+1,i] =  dice(nmbDice) # replace\n",
    "    \n",
    "    for i in range(nmbSelect,popSize):\n",
    "        evoProcMonitor[g+1,i] = evoProcMonitor[g,i] # survive\n",
    "\n",
    "    #evaluate new population \n",
    "    evoProcMonitor[g+1].sort()"
   ]
  },
  {
   "cell_type": "code",
   "execution_count": 6,
   "id": "d93c5fc2",
   "metadata": {},
   "outputs": [
    {
     "data": {
      "text/plain": [
       "[<matplotlib.lines.Line2D at 0x7fe2a49adef0>]"
      ]
     },
     "execution_count": 6,
     "metadata": {},
     "output_type": "execute_result"
    },
    {
     "data": {
      "image/png": "[encoded data removed]",
      "text/plain": [
       "<Figure size 432x288 with 1 Axes>"
      ]
     },
     "metadata": {
      "needs_background": "light"
     },
     "output_type": "display_data"
    }
   ],
   "source": [
    "plt.plot(getAvgPopFitOverGen(evoProcMonitor))\n",
    "plt.plot(getMaxPopFitOverGen(evoProcMonitor))"
   ]
  },
  {
   "cell_type": "code",
   "execution_count": null,
   "id": "e6b3c7ca",
   "metadata": {},
   "outputs": [],
   "source": []
  }
 ],
 "metadata": {
  "kernelspec": {
   "display_name": "Python 3",
   "language": "python",
   "name": "python3"
  },
  "language_info": {
   "codemirror_mode": {
    "name": "ipython",
    "version": 3
   },
   "file_extension": ".py",
   "mimetype": "text/x-python",
   "name": "python",
   "nbconvert_exporter": "python",
   "pygments_lexer": "ipython3",
   "version": "3.6.9"
  }
 },
 "nbformat": 4,
 "nbformat_minor": 5
}
