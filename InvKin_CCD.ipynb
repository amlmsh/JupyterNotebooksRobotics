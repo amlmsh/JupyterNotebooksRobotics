{
 "cells": [
  {
   "cell_type": "markdown",
   "id": "0a038036",
   "metadata": {},
   "source": [
    "# Inv. Kin. mittels CCD (Cyclic Coordinate Descent) lösen "
   ]
  },
  {
   "cell_type": "markdown",
   "id": "db00afd4",
   "metadata": {},
   "source": [
    "##  Ein Bspl. in 2D"
   ]
  },
  {
   "cell_type": "code",
   "execution_count": 1,
   "id": "ae0b3fe7",
   "metadata": {},
   "outputs": [],
   "source": [
    "import matplotlib.pyplot as plt\n",
    "import numpy as np\n",
    "import math\n",
    "\n",
    "PI = 3.1415926535"
   ]
  },
  {
   "cell_type": "code",
   "execution_count": 2,
   "id": "f587d99f",
   "metadata": {},
   "outputs": [],
   "source": [
    "# HTM matrix functions\n",
    "def DH4x4(T,A,a,d):\n",
    "    H = np.array([[1.0,0.0,0.0,0.0],[0.0,1.0,0.0,0.0],[0.0,0.0,1.0,0.0],[0.0,0.0,0.0,1.0]])   \n",
    "    H[0,0] =  math.cos(T)\n",
    "    H[0,1] = -math.sin(T)*math.cos(A)\n",
    "    H[0,2] =  math.sin(T)*math.sin(A)\n",
    "    H[0,3] =  a*math.cos(T)\n",
    "    H[1,0] =  math.sin(T)\n",
    "    H[1,1] =  math.cos(T)*math.cos(A)\n",
    "    H[1,2] = -math.cos(T)*math.sin(A)\n",
    "    H[1,3] =  a*math.sin(T)\n",
    "    H[2,0] = 0\n",
    "    H[2,1] = math.sin(A)\n",
    "    H[2,2] = math.cos(A)\n",
    "    H[2,3] = d\n",
    "    return H\n",
    "\n",
    "def plot4x4Mat(m):\n",
    "    print(\"[%6.2f\\t%6.2f\\t%6.2f\\t%6.2f]\"%(m[0,0],m[0,1],m[0,2],m[0,3]))\n",
    "    print(\"[%6.2f\\t%6.2f\\t%6.2f\\t%6.2f]\"%(m[1,0],m[1,1],m[1,2],m[1,3]))\n",
    "    print(\"[%6.2f\\t%6.2f\\t%6.2f\\t%6.2f]\"%(m[2,0],m[2,1],m[2,2],m[2,3]))\n",
    "    print(\"[%6.2f\\t%6.2f\\t%6.2f\\t%6.2f]\"%(m[3,0],m[3,1],m[3,2],m[3,3]))\n",
    "    return\n",
    "\n",
    "def plot3DVec(m):\n",
    "    print(\"[%6.2f]\"%(m[0,0]))\n",
    "    print(\"[%6.2f]\"%(m[1,0]))\n",
    "    print(\"[%6.2f]\"%(m[2,0]))\n",
    "    return\n",
    "\n",
    "def pos4x4HTM(m):\n",
    "    r = np.array([[m[0,3]],[m[1,3]],[m[2,3]]])\n",
    "    return r\n",
    "\n",
    "def VecD3ToD2(m):\n",
    "    r = np.array([[m[0,0]],[m[1,0]]])\n",
    "    return r\n",
    "\n",
    "def VecD4ToD3(m):\n",
    "    r = np.array([[m[0,0]],[m[1,0]],[m[2,0]]])\n",
    "    return r"
   ]
  },
  {
   "cell_type": "code",
   "execution_count": 3,
   "id": "f21eee5b",
   "metadata": {},
   "outputs": [],
   "source": [
    "# CCD functions\n",
    "\n",
    "    \n",
    "def skalar(a,b):\n",
    "    l = (float(a[0,0])*float(b[0,0])) + (float(a[1,0])*float(b[1,0])) + (float(a[2,0])*float(b[2,0]))\n",
    "    return float(l);\n",
    "\n",
    "def betrag(a):\n",
    "    l = (float(a[0,0])*float(a[0,0])) + (float(a[1,0])*float(a[1,0])) + (float(a[2,0])*float(a[2,0]))\n",
    "    return float(math.sqrt(l))\n",
    "\n",
    "def winkel(a,b):\n",
    "    angle = skalar(a,b)/(betrag(a)*betrag(b))\n",
    "    return float(math.acos(angle))\n",
    "    \n",
    "def kreuz(a,b):\n",
    "    r = np.array([[0],[0],[0]])\n",
    "    r[0,0] =  ( float(a[1,0])*float(b[2,0]) ) - ( float(a[2,0])*float(b[1,0]) )\n",
    "    r[1,0] =  ( float(a[2,0])*float(b[0,0]) ) - ( float(a[0,0])*float(b[2,0]) ) \n",
    "    r[2,0] =  ( float(a[0,0])*float(b[1,0]) ) - ( float(a[1,0])*float(b[0,0]) )\n",
    "    return r\n",
    "\n",
    "def CCDjointUpdate(G,P):\n",
    "    deltaJ = float(winkel(G,P))\n",
    "    kreuzJ = kreuz(G,P)\n",
    "    if kreuzJ[2,0] < 0.0:\n",
    "        deltaJ = 0.0 - deltaJ\n",
    "    return deltaJ\n"
   ]
  },
  {
   "cell_type": "code",
   "execution_count": 4,
   "id": "93125346",
   "metadata": {},
   "outputs": [],
   "source": [
    "# Plotting functions\n",
    "\n",
    "def createFigure(fig, j0, j1, tcp_curr, tcp_goal):\n",
    "    fig.set_xlim(-12,12)\n",
    "    fig.set_ylim(-6,6)\n",
    "    x = [j0[0,0],j1[0,0],tcp_curr[0,0]]\n",
    "    y = [j0[1,0],j1[1,0],tcp_curr[1,0]]\n",
    "    fig.scatter( j0[0,0],j0[1,0], s = 20 )\n",
    "    fig.scatter( j1[0,0],j1[1,0], s = 20 )\n",
    "    fig.scatter( tcp_curr[0,0],tcp_curr[1,0], s = 20 )\n",
    "    fig.scatter( tcp_goal[0,0],tcp_goal[1,0], s = 20 )\n",
    "    fig.plot(x,y);\n",
    "    return\n",
    "\n",
    "def createPlot(fig, j0, j1, tcp_curr, tcp_goal):\n",
    "    plt.xlim(-6, 6)\n",
    "    plt.ylim(-6, 6)\n",
    "    x = [j0[0,0],j1[0,0],tcp_curr[0,0]]\n",
    "    y = [j0[1,0],j1[1,0],tcp_curr[1,0]]\n",
    "    fig.scatter( j0[0,0],j0[1,0], s = 20 )\n",
    "    fig.scatter( j1[0,0],j1[1,0], s = 20 )\n",
    "    fig.scatter( tcp_curr[0,0],tcp_curr[1,0], s = 20 )\n",
    "    fig.scatter( tcp_goal[0,0],tcp_goal[1,0], s = 20 )\n",
    "    fig.plot(x,y);\n",
    "    return\n"
   ]
  },
  {
   "cell_type": "code",
   "execution_count": 5,
   "id": "ee5ea6d1",
   "metadata": {},
   "outputs": [],
   "source": [
    "# TCP point target position\n",
    "x = 3.0\n",
    "y = 2.0\n",
    "z = 0.0\n",
    "TCP_GOAL = np.array([[x],[y],[z],[1]])"
   ]
  },
  {
   "cell_type": "code",
   "execution_count": 6,
   "id": "ec5f2a8c",
   "metadata": {},
   "outputs": [],
   "source": [
    "#robot 2D - DH parameters\n",
    "a1 = 3.0\n",
    "a2 = 2.0\n",
    "phi0 = 0.0\n",
    "phi1 = 0.0"
   ]
  },
  {
   "cell_type": "code",
   "execution_count": 7,
   "id": "0239155d",
   "metadata": {},
   "outputs": [],
   "source": [
    "# HTMs\n",
    "T_1_0 = DH4x4(phi0+(PI/2),0.0,a1,0.0)\n",
    "T_2_1 = DH4x4(phi1,0.0,a2,0.0)\n",
    "T_2_0 = T_1_0 @ T_2_1"
   ]
  },
  {
   "cell_type": "code",
   "execution_count": 8,
   "id": "fa7be044",
   "metadata": {},
   "outputs": [],
   "source": [
    "# derive coordinates of joints and TCP\n",
    "TCP_CURR = pos4x4HTM(T_2_0)\n",
    "J1 = pos4x4HTM(T_1_0)\n",
    "J0 = np.array([[0],[0],[0]])"
   ]
  },
  {
   "cell_type": "code",
   "execution_count": 9,
   "id": "69420a1c",
   "metadata": {},
   "outputs": [
    {
     "data": {
      "image/png": "[encoded data removed]",
      "text/plain": [
       "<Figure size 432x288 with 1 Axes>"
      ]
     },
     "metadata": {
      "needs_background": "light"
     },
     "output_type": "display_data"
    }
   ],
   "source": [
    "# draw robot\n",
    "createPlot(plt,J0,J1,TCP_CURR,TCP_GOAL)\n",
    "plt.show()"
   ]
  },
  {
   "cell_type": "code",
   "execution_count": 10,
   "id": "867417a1",
   "metadata": {},
   "outputs": [],
   "source": [
    "# J1 update via DH parameters\n",
    "#\n",
    "# get vectors\n",
    "G1 =VecD4ToD3(TCP_GOAL) - pos4x4HTM(T_1_0) \n",
    "P1 = pos4x4HTM(T_2_0) - pos4x4HTM(T_1_0) \n",
    "# update DH parameters\n",
    "a1 = a1\n",
    "a2 = a2\n",
    "phi1 = phi1 - CCDjointUpdate(G1,P1)\n",
    "phi0 = phi0 \n",
    "# create HTMs\n",
    "T_1_0 = DH4x4(phi0+(PI/2),0,a1,0)\n",
    "T_2_1 = DH4x4(phi1,0,a2,0)\n",
    "T_2_0 = T_1_0 @ T_2_1"
   ]
  },
  {
   "cell_type": "code",
   "execution_count": 11,
   "id": "a1bad0b4",
   "metadata": {},
   "outputs": [
    {
     "data": {
      "image/png": "[encoded data removed]",
      "text/plain": [
       "<Figure size 432x288 with 1 Axes>"
      ]
     },
     "metadata": {
      "needs_background": "light"
     },
     "output_type": "display_data"
    }
   ],
   "source": [
    "# Draw robot\n",
    "#\n",
    "# get coordinates of joints, TCP and target position of the TCP\n",
    "TCP_CURR = pos4x4HTM(T_2_0)\n",
    "J1 = pos4x4HTM(T_1_0)\n",
    "J0 = np.array([[0],[0],[0]])\n",
    "# plot the robot\n",
    "createPlot(plt,J0,J1,TCP_CURR,TCP_GOAL)\n",
    "plt.show()"
   ]
  },
  {
   "cell_type": "code",
   "execution_count": 12,
   "id": "7ab53329",
   "metadata": {},
   "outputs": [],
   "source": [
    "# J0 update via DH parameters\n",
    "#\n",
    "# get vectors\n",
    "G0 =VecD4ToD3(TCP_GOAL)\n",
    "P0 = pos4x4HTM(T_2_0) \n",
    "# update DH parameters\n",
    "a1 = a1\n",
    "a2 = a2\n",
    "phi1 = phi1 \n",
    "phi0 = phi0 - CCDjointUpdate(G0,P0)\n",
    "# create HTMs\n",
    "T_1_0 = DH4x4(phi0+(PI/2),0,a1,0)\n",
    "T_2_1 = DH4x4(phi1,0,a2,0)\n",
    "T_2_0 = T_1_0 @ T_2_1"
   ]
  },
  {
   "cell_type": "code",
   "execution_count": 13,
   "id": "2d2c5a74",
   "metadata": {},
   "outputs": [
    {
     "data": {
      "image/png": "[encoded data removed]",
      "text/plain": [
       "<Figure size 432x288 with 1 Axes>"
      ]
     },
     "metadata": {
      "needs_background": "light"
     },
     "output_type": "display_data"
    }
   ],
   "source": [
    "# Draw robot\n",
    "#\n",
    "# get coordinates of joints, TCP and target position of the TCP\n",
    "TCP_CURR = pos4x4HTM(T_2_0)\n",
    "J1 = pos4x4HTM(T_1_0)\n",
    "J0 = np.array([[0],[0],[0]])\n",
    "# plot the robot\n",
    "createPlot(plt,J0,J1,TCP_CURR,TCP_GOAL)\n",
    "plt.show()"
   ]
  },
  {
   "cell_type": "code",
   "execution_count": 14,
   "id": "6220e0bd",
   "metadata": {},
   "outputs": [],
   "source": [
    "# J1 update via DH parameters\n",
    "#\n",
    "# get vectors\n",
    "G1 =VecD4ToD3(TCP_GOAL) - pos4x4HTM(T_1_0) \n",
    "P1 = pos4x4HTM(T_2_0) - pos4x4HTM(T_1_0) \n",
    "# update DH parameters\n",
    "a1 = a1\n",
    "a2 = a2\n",
    "phi1 = phi1 - CCDjointUpdate(G1,P1)\n",
    "phi0 = phi0 \n",
    "# create HTMs\n",
    "T_1_0 = DH4x4(phi0+(PI/2),0,a1,0)\n",
    "T_2_1 = DH4x4(phi1,0,a2,0)\n",
    "T_2_0 = T_1_0 @ T_2_1"
   ]
  },
  {
   "cell_type": "code",
   "execution_count": 15,
   "id": "c5216d39",
   "metadata": {},
   "outputs": [
    {
     "data": {
      "image/png": "[encoded data removed]",
      "text/plain": [
       "<Figure size 432x288 with 1 Axes>"
      ]
     },
     "metadata": {
      "needs_background": "light"
     },
     "output_type": "display_data"
    }
   ],
   "source": [
    "# Draw robot\n",
    "#\n",
    "# get coordinates of joints, TCP and target position of the TCP\n",
    "TCP_CURR = pos4x4HTM(T_2_0)\n",
    "J1 = pos4x4HTM(T_1_0)\n",
    "J0 = np.array([[0],[0],[0]])\n",
    "# plot the robot\n",
    "createPlot(plt,J0,J1,TCP_CURR,TCP_GOAL)\n",
    "plt.show()"
   ]
  },
  {
   "cell_type": "code",
   "execution_count": 16,
   "id": "26620f6c",
   "metadata": {},
   "outputs": [],
   "source": [
    "# J0 update via DH parameters\n",
    "#\n",
    "# get vectors\n",
    "G0 =VecD4ToD3(TCP_GOAL)\n",
    "P0 = pos4x4HTM(T_2_0) \n",
    "# update DH parameters\n",
    "a1 = a1\n",
    "a2 = a2\n",
    "phi1 = phi1 \n",
    "phi0 = phi0 - CCDjointUpdate(G0,P0)\n",
    "# create HTMs\n",
    "T_1_0 = DH4x4(phi0+(PI/2),0,a1,0)\n",
    "T_2_1 = DH4x4(phi1,0,a2,0)\n",
    "T_2_0 = T_1_0 @ T_2_1"
   ]
  },
  {
   "cell_type": "code",
   "execution_count": 17,
   "id": "4a17cb42",
   "metadata": {},
   "outputs": [
    {
     "data": {
      "image/png": "[encoded data removed]",
      "text/plain": [
       "<Figure size 432x288 with 1 Axes>"
      ]
     },
     "metadata": {
      "needs_background": "light"
     },
     "output_type": "display_data"
    }
   ],
   "source": [
    "# Draw robot\n",
    "#\n",
    "# get coordinates of joints, TCP and target position of the TCP\n",
    "TCP_CURR = pos4x4HTM(T_2_0)\n",
    "J1 = pos4x4HTM(T_1_0)\n",
    "J0 = np.array([[0],[0],[0]])\n",
    "# plot the robot\n",
    "createPlot(plt,J0,J1,TCP_CURR,TCP_GOAL)\n",
    "plt.show()"
   ]
  },
  {
   "cell_type": "markdown",
   "id": "ce76f2ef",
   "metadata": {},
   "source": [
    "### Demo"
   ]
  },
  {
   "cell_type": "markdown",
   "id": "67ae7f14",
   "metadata": {},
   "source": [
    "#### Setzen des Zielpunkts"
   ]
  },
  {
   "cell_type": "code",
   "execution_count": 20,
   "id": "6fe7c874",
   "metadata": {
    "scrolled": true
   },
   "outputs": [
    {
     "data": {
      "image/png": "[encoded data removed]",
      "text/plain": [
       "<Figure size 1440x1440 with 8 Axes>"
      ]
     },
     "metadata": {
      "needs_background": "light"
     },
     "output_type": "display_data"
    }
   ],
   "source": [
    "import matplotlib.pyplot as plt\n",
    "import numpy as np\n",
    "\n",
    "plt.rcParams['figure.figsize'] = [20, 20]\n",
    "fig,a =  plt.subplots(4,2)\n",
    "\n",
    "#Start robot 2D\n",
    "a1 = 3.0\n",
    "a2 = 2.0\n",
    "phi0 = 0.0\n",
    "phi1 = 0.0\n",
    "T_1_0 = DH4x4(phi0+(PI/2),0.0,a1,0.0)\n",
    "T_2_1 = DH4x4(phi1,0.0,a2,0.0)\n",
    "T_2_0 = T_1_0 @ T_2_1\n",
    "# joints and  TCP\n",
    "TCP_CURR = pos4x4HTM(T_2_0)\n",
    "J1 = pos4x4HTM(T_1_0)\n",
    "J0 = np.array([[0],[0],[0]])\n",
    "# Goal of the TCP\n",
    "x = 6.0\n",
    "y = 5.0\n",
    "z = 0.0\n",
    "TCP_GOAL = np.array([[x],[y],[z],[1]])\n",
    "\n",
    "createFigure(a[0][0],J0,J1,TCP_CURR,TCP_GOAL)\n",
    "\n",
    "\n",
    "for i in range(1,4):\n",
    "        # J1 update via DH parameters\n",
    "        #\n",
    "        # get vectors\n",
    "        G1 =VecD4ToD3(TCP_GOAL) - pos4x4HTM(T_1_0) \n",
    "        P1 = pos4x4HTM(T_2_0) - pos4x4HTM(T_1_0) \n",
    "        # update DH parameters\n",
    "        a1 = a1\n",
    "        a2 = a2\n",
    "        phi1 = phi1 - CCDjointUpdate(G1,P1)\n",
    "        phi0 = phi0 \n",
    "        # create HTMs\n",
    "        T_1_0 = DH4x4(phi0+(PI/2),0,a1,0)\n",
    "        T_2_1 = DH4x4(phi1,0,a2,0)\n",
    "        T_2_0 = T_1_0 @ T_2_1 \n",
    "        # Draw robot\n",
    "        #\n",
    "        # get coordinates of joints, TCP and target position of the TCP\n",
    "        TCP_CURR = pos4x4HTM(T_2_0)\n",
    "        J1 = pos4x4HTM(T_1_0)\n",
    "        J0 = np.array([[0],[0],[0]])\n",
    "        # plot the robot\n",
    "        createFigure(a[i][0],J0,J1,TCP_CURR,TCP_GOAL)\n",
    "\n",
    "\n",
    "        ###\n",
    "        # J0 update\n",
    "        G0 =VecD4ToD3(TCP_GOAL)\n",
    "        P0 = pos4x4HTM(T_2_0) \n",
    "        # update DH parameters\n",
    "        a1 = a1\n",
    "        a2 = a2\n",
    "        phi1 = phi1;\n",
    "        phi0 = phi0  - CCDjointUpdate(G0,P0)\n",
    "        # create HTMs\n",
    "        T_1_0 = DH4x4(phi0+(PI/2),0,a1,0)\n",
    "        T_2_1 = DH4x4(phi1,0,a2,0)\n",
    "        T_2_0 = T_1_0 @ T_2_1 \n",
    "        # Draw robot\n",
    "        #\n",
    "        # get coordinates of joints, TCP and target position of the TCP\n",
    "        TCP_CURR = pos4x4HTM(T_2_0)\n",
    "        J1 = pos4x4HTM(T_1_0)\n",
    "        J0 = np.array([[0],[0],[0]])\n",
    "        # plot the robot\n",
    "        createFigure(a[i][1],J0,J1,TCP_CURR,TCP_GOAL)\n",
    "\n",
    "\n",
    "plt.show()\n",
    "\n",
    "\n"
   ]
  },
  {
   "cell_type": "code",
   "execution_count": null,
   "id": "2bf632c7",
   "metadata": {},
   "outputs": [],
   "source": []
  },
  {
   "cell_type": "code",
   "execution_count": null,
   "id": "d152d022",
   "metadata": {},
   "outputs": [],
   "source": []
  }
 ],
 "metadata": {
  "kernelspec": {
   "display_name": "Python 3",
   "language": "python",
   "name": "python3"
  },
  "language_info": {
   "codemirror_mode": {
    "name": "ipython",
    "version": 3
   },
   "file_extension": ".py",
   "mimetype": "text/x-python",
   "name": "python",
   "nbconvert_exporter": "python",
   "pygments_lexer": "ipython3",
   "version": "3.6.9"
  }
 },
 "nbformat": 4,
 "nbformat_minor": 5
}
