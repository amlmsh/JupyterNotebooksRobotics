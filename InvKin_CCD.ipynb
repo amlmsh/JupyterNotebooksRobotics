{
 "cells": [
  {
   "cell_type": "markdown",
   "id": "0a038036",
   "metadata": {},
   "source": [
    "# Inv. Kin. mittels CCD (Cyclic Coordinate Descent) lösen "
   ]
  },
  {
   "cell_type": "markdown",
   "id": "db00afd4",
   "metadata": {},
   "source": [
    "##  Ein Bspl. in 2D"
   ]
  },
  {
   "cell_type": "code",
   "execution_count": 1,
   "id": "ae0b3fe7",
   "metadata": {},
   "outputs": [],
   "source": [
    "import matplotlib.pyplot as plt\n",
    "import numpy as np\n",
    "import math\n",
    "\n",
    "PI = 3.1415926535"
   ]
  },
  {
   "cell_type": "code",
   "execution_count": 2,
   "id": "f587d99f",
   "metadata": {},
   "outputs": [],
   "source": [
    "# HTM matrix functions\n",
    "def DH4x4(T,A,a,d):\n",
    "    H = np.array([[1.0,0.0,0.0,0.0],[0.0,1.0,0.0,0.0],[0.0,0.0,1.0,0.0],[0.0,0.0,0.0,1.0]])   \n",
    "    H[0,0] =  math.cos(T)\n",
    "    H[0,1] = -math.sin(T)*math.cos(A)\n",
    "    H[0,2] =  math.sin(T)*math.sin(A)\n",
    "    H[0,3] =  a*math.cos(T)\n",
    "    H[1,0] =  math.sin(T)\n",
    "    H[1,1] =  math.cos(T)*math.cos(A)\n",
    "    H[1,2] = -math.cos(T)*math.sin(A)\n",
    "    H[1,3] =  a*math.sin(T)\n",
    "    H[2,0] = 0\n",
    "    H[2,1] = math.sin(A)\n",
    "    H[2,2] = math.cos(A)\n",
    "    H[2,3] = d\n",
    "    return H\n",
    "\n",
    "def plot4x4Mat(m):\n",
    "    print(\"[%6.2f\\t%6.2f\\t%6.2f\\t%6.2f]\"%(m[0,0],m[0,1],m[0,2],m[0,3]))\n",
    "    print(\"[%6.2f\\t%6.2f\\t%6.2f\\t%6.2f]\"%(m[1,0],m[1,1],m[1,2],m[1,3]))\n",
    "    print(\"[%6.2f\\t%6.2f\\t%6.2f\\t%6.2f]\"%(m[2,0],m[2,1],m[2,2],m[2,3]))\n",
    "    print(\"[%6.2f\\t%6.2f\\t%6.2f\\t%6.2f]\"%(m[3,0],m[3,1],m[3,2],m[3,3]))\n",
    "    return\n",
    "\n",
    "def plot3DVec(m):\n",
    "    print(\"[%6.2f]\"%(m[0,0]))\n",
    "    print(\"[%6.2f]\"%(m[1,0]))\n",
    "    print(\"[%6.2f]\"%(m[2,0]))\n",
    "    return\n",
    "\n",
    "def pos4x4HTM(m):\n",
    "    r = np.array([[m[0,3]],[m[1,3]],[m[2,3]]])\n",
    "    return r\n",
    "\n",
    "def VecD3ToD2(m):\n",
    "    r = np.array([[m[0,0]],[m[1,0]]])\n",
    "    return r\n",
    "\n",
    "def VecD4ToD3(m):\n",
    "    r = np.array([[m[0,0]],[m[1,0]],[m[2,0]]])\n",
    "    return r"
   ]
  },
  {
   "cell_type": "code",
   "execution_count": 3,
   "id": "f21eee5b",
   "metadata": {},
   "outputs": [],
   "source": [
    "# CCD functions\n",
    "\n",
    "    \n",
    "def skalar(a,b):\n",
    "    l = (float(a[0,0])*float(b[0,0])) + (float(a[1,0])*float(b[1,0])) + (float(a[2,0])*float(b[2,0]))\n",
    "    return float(l);\n",
    "\n",
    "def betrag(a):\n",
    "    l = (float(a[0,0])*float(a[0,0])) + (float(a[1,0])*float(a[1,0])) + (float(a[2,0])*float(a[2,0]))\n",
    "    return float(math.sqrt(l))\n",
    "\n",
    "def winkel(a,b):\n",
    "    angle = skalar(a,b)/(betrag(a)*betrag(b))\n",
    "    return float(math.acos(angle))\n",
    "    \n",
    "def kreuz(a,b):\n",
    "    r = np.array([[0],[0],[0]])\n",
    "    r[0,0] =  ( float(a[1,0])*float(b[2,0]) ) - ( float(a[2,0])*float(b[1,0]) )\n",
    "    r[1,0] =  ( float(a[2,0])*float(b[0,0]) ) - ( float(a[0,0])*float(b[2,0]) ) \n",
    "    r[2,0] =  ( float(a[0,0])*float(b[1,0]) ) - ( float(a[1,0])*float(b[0,0]) )\n",
    "    return r"
   ]
  },
  {
   "cell_type": "code",
   "execution_count": 4,
   "id": "ee5ea6d1",
   "metadata": {},
   "outputs": [],
   "source": [
    "#robot 2D\n",
    "a1 = 3.0\n",
    "a2 = 2.0\n",
    "phi0 = 0.0\n",
    "phi1 = 0.0"
   ]
  },
  {
   "cell_type": "code",
   "execution_count": 5,
   "id": "0239155d",
   "metadata": {},
   "outputs": [],
   "source": [
    "T_1_0 = DH4x4(phi0+(PI/2),0.0,a1,0.0)\n",
    "T_2_1 = DH4x4(phi1,0.0,a2,0.0)\n",
    "T_2_0 = T_1_0 @ T_2_1"
   ]
  },
  {
   "cell_type": "code",
   "execution_count": 6,
   "id": "48dd2e6c",
   "metadata": {},
   "outputs": [
    {
     "name": "stdout",
     "output_type": "stream",
     "text": [
      "T_1_0 = \n",
      "\n",
      "[  0.00\t -1.00\t  0.00\t  0.00]\n",
      "[  1.00\t  0.00\t -0.00\t  3.00]\n",
      "[  0.00\t  0.00\t  1.00\t  0.00]\n",
      "[  0.00\t  0.00\t  0.00\t  1.00]\n",
      "T_2_1 = \n",
      "\n",
      "[  1.00\t -0.00\t  0.00\t  2.00]\n",
      "[  0.00\t  1.00\t -0.00\t  0.00]\n",
      "[  0.00\t  0.00\t  1.00\t  0.00]\n",
      "[  0.00\t  0.00\t  0.00\t  1.00]\n",
      "T_2_0 = \n",
      "\n",
      "[  0.00\t -1.00\t  0.00\t  0.00]\n",
      "[  1.00\t  0.00\t  0.00\t  5.00]\n",
      "[  0.00\t  0.00\t  1.00\t  0.00]\n",
      "[  0.00\t  0.00\t  0.00\t  1.00]\n"
     ]
    }
   ],
   "source": [
    "print(\"T_1_0 = \",end=\"\\n\\n\"); plot4x4Mat(T_1_0)\n",
    "print(\"T_2_1 = \",end=\"\\n\\n\"); plot4x4Mat(T_2_1)\n",
    "print(\"T_2_0 = \",end=\"\\n\\n\"); plot4x4Mat(T_2_0)"
   ]
  },
  {
   "cell_type": "code",
   "execution_count": 7,
   "id": "a5e6fee9",
   "metadata": {},
   "outputs": [],
   "source": [
    "x = 3.0\n",
    "y = 2.0\n",
    "z = 0.0\n",
    "TCP_GOAL = np.array([[x],[y],[z],[1]])"
   ]
  },
  {
   "cell_type": "code",
   "execution_count": 8,
   "id": "82b7bf14",
   "metadata": {},
   "outputs": [
    {
     "name": "stdout",
     "output_type": "stream",
     "text": [
      "TCP_GOAL = \n",
      "\n",
      "[  3.00]\n",
      "[  2.00]\n",
      "[  0.00]\n"
     ]
    }
   ],
   "source": [
    "print(\"TCP_GOAL = \",end=\"\\n\\n\"); plot3DVec(TCP_GOAL)"
   ]
  },
  {
   "cell_type": "code",
   "execution_count": 9,
   "id": "fa7be044",
   "metadata": {},
   "outputs": [],
   "source": [
    "TCP_CURR = pos4x4HTM(T_2_0)\n",
    "J1 = pos4x4HTM(T_1_0)\n",
    "J0 = np.array([[0],[0],[0]])"
   ]
  },
  {
   "cell_type": "code",
   "execution_count": 10,
   "id": "d9f03ddb",
   "metadata": {},
   "outputs": [
    {
     "name": "stdout",
     "output_type": "stream",
     "text": [
      "TCP_CURR = \n",
      "\n",
      "[  0.00]\n",
      "[  5.00]\n",
      "[  0.00]\n",
      "J1 = \n",
      "\n",
      "[  0.00]\n",
      "[  3.00]\n",
      "[  0.00]\n",
      "J0 = \n",
      "\n",
      "[  0.00]\n",
      "[  0.00]\n",
      "[  0.00]\n"
     ]
    }
   ],
   "source": [
    "print(\"TCP_CURR = \",end=\"\\n\\n\"); plot3DVec(TCP_CURR)\n",
    "print(\"J1 = \",end=\"\\n\\n\"); plot3DVec(J1)\n",
    "print(\"J0 = \",end=\"\\n\\n\"); plot3DVec(J0)"
   ]
  },
  {
   "cell_type": "code",
   "execution_count": 11,
   "id": "69420a1c",
   "metadata": {},
   "outputs": [
    {
     "data": {
      "image/png": "[encoded data removed]",
      "text/plain": [
       "<Figure size 432x288 with 1 Axes>"
      ]
     },
     "metadata": {
      "needs_background": "light"
     },
     "output_type": "display_data"
    }
   ],
   "source": [
    "plt.xlim(-6, 6)\n",
    "plt.ylim(-6, 6)\n",
    "\n",
    "x = [J0[0,0],J1[0,0],TCP_CURR[0,0]]\n",
    "y = [J0[1,0],J1[1,0],TCP_CURR[1,0]]\n",
    "\n",
    "plt.scatter( J0[0,0],J0[1,0], s = 20 )\n",
    "plt.scatter( J1[0,0],J1[1,0], s = 20 )\n",
    "plt.scatter( TCP_CURR[0,0],TCP_CURR[1,0], s = 20 )\n",
    "plt.scatter( TCP_GOAL[0,0],TCP_GOAL[1,0], s = 20 )\n",
    "plt.plot(x,y);\n",
    "\n",
    "plt.show()"
   ]
  },
  {
   "cell_type": "code",
   "execution_count": 12,
   "id": "7a82e58b",
   "metadata": {},
   "outputs": [],
   "source": [
    "# J1 update\n",
    "G1 =VecD4ToD3(TCP_GOAL) - pos4x4HTM(T_1_0) \n",
    "P1 = pos4x4HTM(T_2_0) - pos4x4HTM(T_1_0) \n",
    "deltaJ1 = winkel(G1,P1)\n",
    "kreuzJ1 = kreuz(G1,P1)\n",
    "if kreuzJ1[2,0] < 0.0:\n",
    "    deltaJ1 = 0.0 - deltaJ1"
   ]
  },
  {
   "cell_type": "code",
   "execution_count": 13,
   "id": "867417a1",
   "metadata": {},
   "outputs": [],
   "source": [
    "#robot 2D new state\n",
    "a1 = a1\n",
    "a2 = a2\n",
    "phi1 = phi1 - deltaJ1\n",
    "phi0 = phi0 "
   ]
  },
  {
   "cell_type": "code",
   "execution_count": 14,
   "id": "686837fa",
   "metadata": {},
   "outputs": [],
   "source": [
    "T_1_0 = DH4x4(phi0+(PI/2),0,a1,0)\n",
    "T_2_1 = DH4x4(phi1,0,a2,0)\n",
    "T_2_0 = T_1_0 @ T_2_1"
   ]
  },
  {
   "cell_type": "code",
   "execution_count": 15,
   "id": "a1bad0b4",
   "metadata": {},
   "outputs": [],
   "source": [
    "TCP_CURR = pos4x4HTM(T_2_0)\n",
    "J2 = pos4x4HTM(T_1_0)\n",
    "J1 = np.array([[0],[0],[0]])"
   ]
  },
  {
   "cell_type": "code",
   "execution_count": 16,
   "id": "a4430773",
   "metadata": {},
   "outputs": [
    {
     "data": {
      "image/png": "[encoded data removed]",
      "text/plain": [
       "<Figure size 432x288 with 1 Axes>"
      ]
     },
     "metadata": {
      "needs_background": "light"
     },
     "output_type": "display_data"
    }
   ],
   "source": [
    "plt.xlim(-6, 6)\n",
    "plt.ylim(-6, 6)\n",
    "\n",
    "x = [J1[0,0],J2[0,0],TCP_CURR[0,0]]\n",
    "y = [J1[1,0],J2[1,0],TCP_CURR[1,0]]\n",
    "\n",
    "plt.scatter( J1[0,0],J1[1,0], s = 20 )\n",
    "plt.scatter( J2[0,0],J2[1,0], s = 20 )\n",
    "plt.scatter( TCP_CURR[0,0],TCP_CURR[1,0], s = 20 )\n",
    "plt.scatter( TCP_GOAL[0,0],TCP_GOAL[1,0], s = 20 )\n",
    "plt.plot(x,y);\n",
    "\n",
    "plt.show()"
   ]
  },
  {
   "cell_type": "code",
   "execution_count": 17,
   "id": "7ab53329",
   "metadata": {},
   "outputs": [],
   "source": [
    "# J0 update\n",
    "G0 =VecD4ToD3(TCP_GOAL)\n",
    "P0 = pos4x4HTM(T_2_0) \n",
    "deltaJ0 = float(winkel(G0,P0))\n",
    "kreuzJ0 = kreuz(G0,P0)\n",
    "if kreuzJ0[2,0] < 0.0:\n",
    "    deltaJ0 = 0.0 - deltaJ0"
   ]
  },
  {
   "cell_type": "code",
   "execution_count": 18,
   "id": "a3d5d1ed",
   "metadata": {},
   "outputs": [],
   "source": [
    "#robot 2D new state\n",
    "a1 = a1\n",
    "a2 = a2\n",
    "phi1 = phi1 \n",
    "phi0 = phi0 - deltaJ0"
   ]
  },
  {
   "cell_type": "code",
   "execution_count": 19,
   "id": "4eb09c49",
   "metadata": {},
   "outputs": [],
   "source": [
    "T_1_0 = DH4x4(phi0+(PI/2),0,a1,0)\n",
    "T_2_1 = DH4x4(phi1,0,a2,0)\n",
    "T_2_0 = T_1_0 @ T_2_1"
   ]
  },
  {
   "cell_type": "code",
   "execution_count": 20,
   "id": "2d2c5a74",
   "metadata": {},
   "outputs": [],
   "source": [
    "TCP_CURR = pos4x4HTM(T_2_0)\n",
    "J2 = pos4x4HTM(T_1_0)\n",
    "J1 = np.array([[0],[0],[0]])"
   ]
  },
  {
   "cell_type": "code",
   "execution_count": 21,
   "id": "27369702",
   "metadata": {},
   "outputs": [
    {
     "data": {
      "image/png": "[encoded data removed]",
      "text/plain": [
       "<Figure size 432x288 with 1 Axes>"
      ]
     },
     "metadata": {
      "needs_background": "light"
     },
     "output_type": "display_data"
    }
   ],
   "source": [
    "plt.xlim(-6, 6)\n",
    "plt.ylim(-6, 6)\n",
    "\n",
    "x = [J1[0,0],J2[0,0],TCP_CURR[0,0]]\n",
    "y = [J1[1,0],J2[1,0],TCP_CURR[1,0]]\n",
    "\n",
    "plt.scatter( J1[0,0],J1[1,0], s = 20 )\n",
    "plt.scatter( J2[0,0],J2[1,0], s = 20 )\n",
    "plt.scatter( TCP_CURR[0,0],TCP_CURR[1,0], s = 20 )\n",
    "plt.scatter( TCP_GOAL[0,0],TCP_GOAL[1,0], s = 20 )\n",
    "plt.plot(x,y);\n",
    "\n",
    "plt.show()"
   ]
  },
  {
   "cell_type": "code",
   "execution_count": 22,
   "id": "6220e0bd",
   "metadata": {},
   "outputs": [],
   "source": [
    "# J1 update\n",
    "G1 =VecD4ToD3(TCP_GOAL) - pos4x4HTM(T_1_0) \n",
    "P1 = pos4x4HTM(T_2_0) - pos4x4HTM(T_1_0) \n",
    "deltaJ1 = winkel(G1,P1)\n",
    "kreuzJ1 = kreuz(G1,P1)\n",
    "if kreuzJ1[2,0] < 0.0:\n",
    "    deltaJ1 = 0.0 - deltaJ1"
   ]
  },
  {
   "cell_type": "code",
   "execution_count": 23,
   "id": "c5216d39",
   "metadata": {},
   "outputs": [],
   "source": [
    "#robot 2D new state\n",
    "a1 = a1\n",
    "a2 = a2\n",
    "phi1 = phi1 - deltaJ1\n",
    "phi0 = phi0 \n"
   ]
  },
  {
   "cell_type": "code",
   "execution_count": 24,
   "id": "db4fb801",
   "metadata": {},
   "outputs": [],
   "source": [
    "T_1_0 = DH4x4(phi0+(PI/2),0,a1,0)\n",
    "T_2_1 = DH4x4(phi1,0,a2,0)\n",
    "T_2_0 = T_1_0 @ T_2_1"
   ]
  },
  {
   "cell_type": "code",
   "execution_count": 25,
   "id": "99de177c",
   "metadata": {},
   "outputs": [],
   "source": [
    "TCP_CURR = pos4x4HTM(T_2_0)\n",
    "J2 = pos4x4HTM(T_1_0)\n",
    "J1 = np.array([[0],[0],[0]])"
   ]
  },
  {
   "cell_type": "code",
   "execution_count": 26,
   "id": "6e48c289",
   "metadata": {},
   "outputs": [
    {
     "data": {
      "image/png": "[encoded data removed]",
      "text/plain": [
       "<Figure size 432x288 with 1 Axes>"
      ]
     },
     "metadata": {
      "needs_background": "light"
     },
     "output_type": "display_data"
    }
   ],
   "source": [
    "plt.xlim(-6, 6)\n",
    "plt.ylim(-6, 6)\n",
    "\n",
    "x = [J1[0,0],J2[0,0],TCP_CURR[0,0]]\n",
    "y = [J1[1,0],J2[1,0],TCP_CURR[1,0]]\n",
    "\n",
    "plt.scatter( J1[0,0],J1[1,0], s = 20 )\n",
    "plt.scatter( J2[0,0],J2[1,0], s = 20 )\n",
    "plt.scatter( TCP_CURR[0,0],TCP_CURR[1,0], s = 20 )\n",
    "plt.scatter( TCP_GOAL[0,0],TCP_GOAL[1,0], s = 20 )\n",
    "plt.plot(x,y);\n",
    "\n",
    "plt.show()"
   ]
  },
  {
   "cell_type": "code",
   "execution_count": 27,
   "id": "26620f6c",
   "metadata": {},
   "outputs": [],
   "source": [
    "# J0 update\n",
    "G0 =VecD4ToD3(TCP_GOAL)\n",
    "P0 = pos4x4HTM(T_2_0) \n",
    "deltaJ0 = float(winkel(G0,P0))\n",
    "kreuzJ0 = kreuz(G0,P0)\n",
    "if kreuzJ0[2,0] < 0.0:\n",
    "    deltaJ0 = 0.0 - deltaJ0"
   ]
  },
  {
   "cell_type": "code",
   "execution_count": 28,
   "id": "4a17cb42",
   "metadata": {},
   "outputs": [],
   "source": [
    "#robot 2D new state\n",
    "a1 = a1\n",
    "a2 = a2\n",
    "phi1 = phi1 \n",
    "phi0 = phi0 - deltaJ0"
   ]
  },
  {
   "cell_type": "code",
   "execution_count": 29,
   "id": "bc1a62e9",
   "metadata": {},
   "outputs": [],
   "source": [
    "T_1_0 = DH4x4(phi0+(PI/2),0,a1,0)\n",
    "T_2_1 = DH4x4(phi1,0,a2,0)\n",
    "T_2_0 = T_1_0 @ T_2_1"
   ]
  },
  {
   "cell_type": "code",
   "execution_count": 30,
   "id": "f1b9d611",
   "metadata": {},
   "outputs": [],
   "source": [
    "TCP_CURR = pos4x4HTM(T_2_0)\n",
    "J2 = pos4x4HTM(T_1_0)\n",
    "J1 = np.array([[0],[0],[0]])"
   ]
  },
  {
   "cell_type": "code",
   "execution_count": 31,
   "id": "ce1f1d71",
   "metadata": {},
   "outputs": [
    {
     "data": {
      "image/png": "[encoded data removed]",
      "text/plain": [
       "<Figure size 432x288 with 1 Axes>"
      ]
     },
     "metadata": {
      "needs_background": "light"
     },
     "output_type": "display_data"
    }
   ],
   "source": [
    "plt.xlim(-6, 6)\n",
    "plt.ylim(-6, 6)\n",
    "\n",
    "x = [J1[0,0],J2[0,0],TCP_CURR[0,0]]\n",
    "y = [J1[1,0],J2[1,0],TCP_CURR[1,0]]\n",
    "\n",
    "plt.scatter( J1[0,0],J1[1,0], s = 20 )\n",
    "plt.scatter( J2[0,0],J2[1,0], s = 20 )\n",
    "plt.scatter( TCP_CURR[0,0],TCP_CURR[1,0], s = 20 )\n",
    "plt.scatter( TCP_GOAL[0,0],TCP_GOAL[1,0], s = 20 )\n",
    "plt.plot(x,y);\n",
    "\n",
    "plt.show()"
   ]
  },
  {
   "cell_type": "code",
   "execution_count": null,
   "id": "464ea84d",
   "metadata": {},
   "outputs": [],
   "source": []
  }
 ],
 "metadata": {
  "kernelspec": {
   "display_name": "Python 3",
   "language": "python",
   "name": "python3"
  },
  "language_info": {
   "codemirror_mode": {
    "name": "ipython",
    "version": 3
   },
   "file_extension": ".py",
   "mimetype": "text/x-python",
   "name": "python",
   "nbconvert_exporter": "python",
   "pygments_lexer": "ipython3",
   "version": "3.6.9"
  }
 },
 "nbformat": 4,
 "nbformat_minor": 5
}
