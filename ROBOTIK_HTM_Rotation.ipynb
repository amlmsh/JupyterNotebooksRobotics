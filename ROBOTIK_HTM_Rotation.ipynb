{
 "cells": [
  {
   "cell_type": "markdown",
   "id": "71b577ac",
   "metadata": {},
   "source": [
    "# Koordinatentransformation für die Robotik"
   ]
  },
  {
   "cell_type": "markdown",
   "id": "0dda7b36",
   "metadata": {},
   "source": [
    "## (2) Homogene Transformationmatrix (HTM) für die Translation"
   ]
  },
  {
   "cell_type": "markdown",
   "id": "cf3d64f7",
   "metadata": {},
   "source": [
    "Folgende Bibliotheken, Funktionen und Konstanten werden genutzt:"
   ]
  },
  {
   "cell_type": "code",
   "execution_count": 1,
   "id": "13a09ce2",
   "metadata": {},
   "outputs": [],
   "source": [
    "from matplotlib import pyplot as plt\n",
    "from random import *\n",
    "import numpy as np\n",
    "import math\n",
    "\n",
    "PI = 3.1415926535\n",
    "\n",
    "def plot4x4Mat(m):\n",
    "    print(\"[%6.2f\\t%6.2f\\t%6.2f\\t%6.2f]\"%(m[0,0],m[0,1],m[0,2],m[0,3]))\n",
    "    print(\"[%6.2f\\t%6.2f\\t%6.2f\\t%6.2f]\"%(m[1,0],m[1,1],m[1,2],m[1,3]))\n",
    "    print(\"[%6.2f\\t%6.2f\\t%6.2f\\t%6.2f]\"%(m[2,0],m[2,1],m[2,2],m[2,3]))\n",
    "    print(\"[%6.2f\\t%6.2f\\t%6.2f\\t%6.2f]\"%(m[3,0],m[3,1],m[3,2],m[3,3]))"
   ]
  },
  {
   "cell_type": "markdown",
   "id": "cf2c680f",
   "metadata": {},
   "source": [
    "### (I) Punkt im Ursprungskoordinatensystem U definieren"
   ]
  },
  {
   "cell_type": "markdown",
   "id": "9963e7ee",
   "metadata": {},
   "source": [
    "Die Koordinaten $x$, $y$ und $z$ des Punkts $^{U}P$, also die Koordinaten von $P$ bzgl. Koordinatensystem $U$ sind in als homogene Koordinaten gegeben. Daher besitzt $^{U}P$ eine vierte Komponente, welche immer den Wert $1$ hat."
   ]
  },
  {
   "cell_type": "markdown",
   "id": "ce612125",
   "metadata": {},
   "source": [
    "$$ ^{U}P = \\left( \\begin{array}{r} ^{U}x \\\\ ^{U}y \\\\ ^{U}z \\\\ 1 \\end{array}\\right) $$"
   ]
  },
  {
   "cell_type": "code",
   "execution_count": 2,
   "id": "513f5d43",
   "metadata": {},
   "outputs": [],
   "source": [
    "x_U = 10.32\n",
    "y_U = 19.10\n",
    "z_U = 23.14"
   ]
  },
  {
   "cell_type": "code",
   "execution_count": 3,
   "id": "7d608803",
   "metadata": {},
   "outputs": [
    {
     "name": "stdout",
     "output_type": "stream",
     "text": [
      "x_U = 10.32\n",
      "y_U = 19.1\n",
      "z_U = 23.14\n"
     ]
    }
   ],
   "source": [
    "#Ausgabe der Berechnungsergebnisse\n",
    "print(\"x_U = \",end=\"\"); print(x_U)\n",
    "print(\"y_U = \",end=\"\"); print(y_U)\n",
    "print(\"z_U = \",end=\"\"); print(z_U)"
   ]
  },
  {
   "cell_type": "code",
   "execution_count": 4,
   "id": "cc581fdd",
   "metadata": {},
   "outputs": [],
   "source": [
    "P_U = np.array([[x_U],[y_U],[z_U],[1]])"
   ]
  },
  {
   "cell_type": "code",
   "execution_count": 5,
   "id": "f6b9e97f",
   "metadata": {},
   "outputs": [
    {
     "name": "stdout",
     "output_type": "stream",
     "text": [
      "P_U = \n",
      "\n",
      "[[10.32]\n",
      " [19.1 ]\n",
      " [23.14]\n",
      " [ 1.  ]]\n"
     ]
    }
   ],
   "source": [
    "#Ausgabe der Berechnungsergebnisse\n",
    "print(\"P_U = \",end=\"\\n\\n\"); print(P_U)"
   ]
  },
  {
   "cell_type": "markdown",
   "id": "980861e8",
   "metadata": {},
   "source": [
    "### (II) Definition der HTM"
   ]
  },
  {
   "cell_type": "markdown",
   "id": "fbe10a39",
   "metadata": {},
   "source": [
    "#### (II.1) HTM: Matrixgrundstruktur (ohne Translation u. Rotation)"
   ]
  },
  {
   "cell_type": "markdown",
   "id": "db9f2442",
   "metadata": {},
   "source": [
    "$$ ^{Z}_{U}T  =    \n",
    "   \\left( \\begin{array}{rrrr}       \n",
    "      1 & 0 & 0 & 0 \\\\       \n",
    "      0 & 1 & 0 & 0 \\\\       \n",
    "      0 & 0 & 1 & 0 \\\\       \n",
    "      0 & 0 & 0 & 1 \\\\    \n",
    "   \\end{array}\\right)\n",
    "$$"
   ]
  },
  {
   "cell_type": "code",
   "execution_count": 6,
   "id": "d61f5582",
   "metadata": {},
   "outputs": [
    {
     "name": "stdout",
     "output_type": "stream",
     "text": [
      "T_U_Z = \n",
      "\n",
      "[  1.00\t  0.00\t  0.00\t  0.00]\n",
      "[  0.00\t  1.00\t  0.00\t  0.00]\n",
      "[  0.00\t  0.00\t  1.00\t  0.00]\n",
      "[  0.00\t  0.00\t  0.00\t  1.00]\n"
     ]
    }
   ],
   "source": [
    "T_U_Z = np.array([[1,0,0,0],[0,1,0,0],[0,0,1,0],[0,0,0,1]])\n",
    "print(\"T_U_Z = \",end=\"\\n\\n\"); plot4x4Mat(T_U_Z)"
   ]
  },
  {
   "cell_type": "markdown",
   "id": "f75ebb8a",
   "metadata": {},
   "source": [
    "### (II.2) HTM: Definition des Rotationsanteils"
   ]
  },
  {
   "cell_type": "markdown",
   "id": "3c77437e",
   "metadata": {},
   "source": [
    "#### Rotationsmatrizen (für die Koordinatentransformation)"
   ]
  },
  {
   "cell_type": "markdown",
   "id": "cc2b9979",
   "metadata": {},
   "source": [
    "Rotationswinkel $\\phi$ mit $\\phi \\in [0,2\\pi)$.\n",
    "\n",
    "Rotationsmatrizen für die Koordinatenachsen $X$, $Y$ und $Z$ als homogene Matrizen:\n",
    "$$ \n",
    "   ^{Z}_{U}R_X(\\phi)  =    \n",
    "   \\left( \\begin{array}{rrrr}       \n",
    "      1 & 0 & 0 & 0 \\\\       \n",
    "      0 & cos(\\phi) & sin(\\phi) & 0 \\\\       \n",
    "      0 & -sin(\\phi) & cos(\\phi)& 0 \\\\\n",
    "      0 & 0 & 0 & 1\\\\\n",
    "   \\end{array}\\right)\n",
    "$$\n",
    "\n",
    "$$\n",
    "   ^{Z}_{U}R_Y(\\phi)  =    \n",
    "   \\left( \\begin{array}{rrrr}       \n",
    "       cos(\\phi) & 0 & -sin(\\phi) & 0 \\\\       \n",
    "      0 & 1 & 0 & 0 \\\\       \n",
    "      sin(\\phi) & 0 &  cos(\\phi) & 0 \\\\  \n",
    "      0 & 0 & 0 & 1\\\\\n",
    "   \\end{array}\\right)\n",
    "$$   \n",
    "\n",
    "$$\n",
    "   ^{Z}_{U}R_Z(\\phi)  =    \n",
    "   \\left( \\begin{array}{rrrr}       \n",
    "      cos(\\phi) &  sin(\\phi) & 0 & 0\\\\       \n",
    "      -sin(\\phi) & cos(\\phi) & 0 & 0\\\\       \n",
    "      0 & 0 & 1 & 0 \\\\\n",
    "      0 & 0 & 0 & 1\\\\\n",
    "   \\end{array}\\right)\n",
    "$$"
   ]
  },
  {
   "cell_type": "markdown",
   "id": "2764e70c",
   "metadata": {},
   "source": [
    "Der Rotationswinkel $\\phi$ hat den Drehsinn vom Ursprung zum Zielkoordinatensystem und ist im folgenden in der Einheit Radiant (rad) angegeben."
   ]
  },
  {
   "cell_type": "code",
   "execution_count": 7,
   "id": "027a0e2d",
   "metadata": {},
   "outputs": [
    {
     "name": "stdout",
     "output_type": "stream",
     "text": [
      "phi = 0.785398163375\n"
     ]
    }
   ],
   "source": [
    "phi = PI/4;\n",
    "print(\"phi = \", end=\"\"); print(phi)"
   ]
  },
  {
   "cell_type": "markdown",
   "id": "858df046",
   "metadata": {},
   "source": [
    "#### HTM mit Rotation"
   ]
  },
  {
   "cell_type": "markdown",
   "id": "afde2da5",
   "metadata": {},
   "source": [
    "Wir betrachten wieder die einzelnen Rotationen, um die Achsen X, Y, Z."
   ]
  },
  {
   "cell_type": "markdown",
   "id": "f4956873",
   "metadata": {},
   "source": [
    "##### Rotation um die X-Achse:"
   ]
  },
  {
   "cell_type": "markdown",
   "id": "f4040fea",
   "metadata": {},
   "source": [
    "$$ \n",
    "   ^{Z}_{U}R_X(\\phi)  =    \n",
    "   \\left( \\begin{array}{rrrr}       \n",
    "      1 & 0 & 0 & 0 \\\\       \n",
    "      0 & cos(\\phi) & sin(\\phi) & 0\\\\       \n",
    "      0 & -sin(\\phi) & cos(\\phi) & 0 \\\\           \n",
    "      0 & 0 & 0 & 1\\\\\n",
    "   \\end{array}\\right)\n",
    "$$"
   ]
  },
  {
   "cell_type": "code",
   "execution_count": 8,
   "id": "c8f58ffc",
   "metadata": {},
   "outputs": [],
   "source": [
    "T_U_Z_RotX = np.array([[1,0,0,0],[0,math.cos(phi),math.sin(phi),0],[0,-math.sin(phi),math.cos(phi),0],[0,0,0,1]])"
   ]
  },
  {
   "cell_type": "code",
   "execution_count": 9,
   "id": "4569af36",
   "metadata": {},
   "outputs": [
    {
     "name": "stdout",
     "output_type": "stream",
     "text": [
      "phi = 0.785398163375\n",
      "\n",
      "T_U_Z_RotX(phi) = \n",
      "\n",
      "[  1.00\t  0.00\t  0.00\t  0.00]\n",
      "[  0.00\t  0.71\t  0.71\t  0.00]\n",
      "[  0.00\t -0.71\t  0.71\t  0.00]\n",
      "[  0.00\t  0.00\t  0.00\t  1.00]\n"
     ]
    }
   ],
   "source": [
    "print(\"phi = \",end=\"\"); print(phi,end=\"\\n\\n\");\n",
    "print(\"T_U_Z_RotX(phi) = \",end=\"\\n\\n\"); plot4x4Mat(T_U_Z_RotX)"
   ]
  },
  {
   "cell_type": "markdown",
   "id": "882d804d",
   "metadata": {},
   "source": [
    "##### Rotation um die y-Achse:"
   ]
  },
  {
   "cell_type": "markdown",
   "id": "6585ee89",
   "metadata": {},
   "source": [
    "$$\n",
    "   ^{Z}_{U}R_Y(\\phi)  =    \n",
    "   \\left( \\begin{array}{rrrr}       \n",
    "       cos(\\phi) & 0 & -sin(\\phi) & 0 \\\\       \n",
    "      0 & 1 & 0 & 0 \\\\       \n",
    "      sin(\\phi) & 0 &  cos(\\phi) & 0 \\\\\n",
    "       0 & 0 & 0 & 1\\\\\n",
    "   \\end{array}\\right)\n",
    "$$ "
   ]
  },
  {
   "cell_type": "code",
   "execution_count": 10,
   "id": "364374be",
   "metadata": {},
   "outputs": [],
   "source": [
    "T_U_Z_RotY = np.array([[math.cos(phi),0,-math.sin(phi),0],[0,1,0,0],[math.sin(phi),0,math.cos(phi),0],[0,0,0,1]])"
   ]
  },
  {
   "cell_type": "code",
   "execution_count": 11,
   "id": "39fedbf2",
   "metadata": {},
   "outputs": [
    {
     "name": "stdout",
     "output_type": "stream",
     "text": [
      "phi = 0.785398163375\n",
      "\n",
      "T_U_Z_RotY(phi) = \n",
      "\n",
      "[  0.71\t  0.00\t -0.71\t  0.00]\n",
      "[  0.00\t  1.00\t  0.00\t  0.00]\n",
      "[  0.71\t  0.00\t  0.71\t  0.00]\n",
      "[  0.00\t  0.00\t  0.00\t  1.00]\n"
     ]
    }
   ],
   "source": [
    "print(\"phi = \",end=\"\"); print(phi,end=\"\\n\\n\");\n",
    "print(\"T_U_Z_RotY(phi) = \",end=\"\\n\\n\"); plot4x4Mat(T_U_Z_RotY)"
   ]
  },
  {
   "cell_type": "markdown",
   "id": "2e9cebd1",
   "metadata": {},
   "source": [
    "##### Rotation um die z-Achse:"
   ]
  },
  {
   "cell_type": "markdown",
   "id": "c7e8653e",
   "metadata": {},
   "source": [
    "$$\n",
    "   ^{Z}_{U}R_Y(\\phi)  =    \n",
    "   \\left( \\begin{array}{rrrr}       \n",
    "      cos(\\phi) &  sin(\\phi) & 0 & 0 \\\\       \n",
    "      -sin(\\phi) & cos(\\phi) & 0 & 0\\\\       \n",
    "      0 & 0 & 1 & 0\\\\\n",
    "      0 & 0 & 0 & 1\\\\\n",
    "   \\end{array}\\right)\n",
    "$$"
   ]
  },
  {
   "cell_type": "code",
   "execution_count": 12,
   "id": "15975c34",
   "metadata": {},
   "outputs": [],
   "source": [
    "T_U_Z_RotZ = np.array([[math.cos(phi),math.sin(phi),0,0],[-math.sin(phi),math.cos(phi),0,0],[0,0,1,0],[0,0,0,1]])"
   ]
  },
  {
   "cell_type": "code",
   "execution_count": 13,
   "id": "31cab4b6",
   "metadata": {},
   "outputs": [
    {
     "name": "stdout",
     "output_type": "stream",
     "text": [
      "phi = 0.785398163375\n",
      "\n",
      "T_U_Z_RotZ(phi) = \n",
      "\n",
      "[  0.71\t  0.71\t  0.00\t  0.00]\n",
      "[ -0.71\t  0.71\t  0.00\t  0.00]\n",
      "[  0.00\t  0.00\t  1.00\t  0.00]\n",
      "[  0.00\t  0.00\t  0.00\t  1.00]\n"
     ]
    }
   ],
   "source": [
    "print(\"phi = \",end=\"\"); print(phi,end=\"\\n\\n\");\n",
    "print(\"T_U_Z_RotZ(phi) = \",end=\"\\n\\n\"); plot4x4Mat(T_U_Z_RotZ)"
   ]
  },
  {
   "cell_type": "markdown",
   "id": "16fdb0a3",
   "metadata": {},
   "source": [
    "### (II.3) Berechung der Koordinaten von P für das Zielkoordinatensystem Z"
   ]
  },
  {
   "cell_type": "markdown",
   "id": "611cb838",
   "metadata": {},
   "source": [
    "#### Rotation um die X-Achse:"
   ]
  },
  {
   "cell_type": "markdown",
   "id": "75d344a2",
   "metadata": {},
   "source": [
    "$$ ^{Z}P ~=~ ^{Z}_{U}T \\cdot~ ^U{P}  ~=~      \n",
    "   ^{Z}_{U}R_X(\\phi)  =    \n",
    "   \\left( \\begin{array}{rrrr}       \n",
    "      1 & 0 & 0 & 0 \\\\       \n",
    "      0 & cos(\\phi) & sin(\\phi) &  0 \\\\       \n",
    "      0 & -sin(\\phi) & cos(\\phi) & 0 \\\\           \n",
    "      0 & 0 & 0 & 1\\\\\n",
    "   \\end{array}\\right)\n",
    "$$\n"
   ]
  },
  {
   "cell_type": "markdown",
   "id": "2571b369",
   "metadata": {},
   "source": [
    " $$ ^{Z}P =  \\left( \\begin{array}{r} ^{Z}x \\\\ ^{Z}y \\\\ ^{Z}z \\\\ 1 \\\\ \\end{array}\\right)  $$"
   ]
  },
  {
   "cell_type": "code",
   "execution_count": 14,
   "id": "62cab873",
   "metadata": {},
   "outputs": [],
   "source": [
    "P_Z = T_U_Z_RotX @ P_U;"
   ]
  },
  {
   "cell_type": "code",
   "execution_count": 15,
   "id": "fbf82b4b",
   "metadata": {
    "scrolled": true
   },
   "outputs": [
    {
     "name": "stdout",
     "output_type": "stream",
     "text": [
      "T_U_Z_RotX = \n",
      "[  1.00\t  0.00\t  0.00\t  0.00]\n",
      "[  0.00\t  0.71\t  0.71\t  0.00]\n",
      "[  0.00\t -0.71\t  0.71\t  0.00]\n",
      "[  0.00\t  0.00\t  0.00\t  1.00]\n",
      "\n",
      "\n",
      "P_U = \n",
      "[[10.32]\n",
      " [19.1 ]\n",
      " [23.14]\n",
      " [ 1.  ]]\n",
      "\n",
      "P_Z = \n",
      "[[10.32      ]\n",
      " [29.86819044]\n",
      " [ 2.8567114 ]\n",
      " [ 1.        ]]\n"
     ]
    }
   ],
   "source": [
    "#Ausgabe der Berechnungsergebnisse\n",
    "print(\"T_U_Z_RotX = \");\n",
    "plot4x4Mat(T_U_Z_RotX)\n",
    "print(\"\\n\\nP_U = \",end=\"\\n\")\n",
    "print(P_U,end=\"\\n\\n\")\n",
    "print(\"P_Z = \",end=\"\\n\"); print(P_Z)"
   ]
  },
  {
   "cell_type": "markdown",
   "id": "7263ab60",
   "metadata": {},
   "source": [
    "#### Rotation um die Y-Achse:"
   ]
  },
  {
   "cell_type": "markdown",
   "id": "5db5273b",
   "metadata": {},
   "source": [
    "$$ ^{Z}P ~=~ ^{Z}_{U}T \\cdot~ ^U{P}  ~=~    \n",
    "   ^{Z}_{U}R_Y(\\phi)  =    \n",
    "   \\left( \\begin{array}{rrrr}       \n",
    "       cos(\\phi) & 0 & -sin(\\phi) & 0  \\\\       \n",
    "      0 & 1 & 0 & 0 \\\\       \n",
    "      sin(\\phi) & 0 &  cos(\\phi) & 0\\\\           \n",
    "      0 & 0 & 0 & 1 \\\\\n",
    "   \\end{array}\\right)\n",
    "   \\cdot\n",
    "   \\left( \\begin{array}{r} ^{U}x \\\\ ^{U}y \\\\ ^{U}z \\\\ 1 \\end{array}\\right)\n",
    "$$"
   ]
  },
  {
   "cell_type": "markdown",
   "id": "e82373c4",
   "metadata": {},
   "source": [
    " $$ ^{Z}P =  \\left( \\begin{array}{r} ^{Z}x \\\\ ^{Z}y \\\\ ^{Z}z \\\\ 1 \\\\ \\end{array}\\right)  $$"
   ]
  },
  {
   "cell_type": "code",
   "execution_count": 16,
   "id": "ee7414f1",
   "metadata": {},
   "outputs": [],
   "source": [
    "P_Z = T_U_Z_RotY @ P_U;"
   ]
  },
  {
   "cell_type": "code",
   "execution_count": 17,
   "id": "2b4b3662",
   "metadata": {},
   "outputs": [
    {
     "name": "stdout",
     "output_type": "stream",
     "text": [
      "T_U_Z_RotY = \n",
      "[  0.71\t  0.00\t -0.71\t  0.00]\n",
      "[  0.00\t  1.00\t  0.00\t  0.00]\n",
      "[  0.71\t  0.00\t  0.71\t  0.00]\n",
      "[  0.00\t  0.00\t  0.00\t  1.00]\n",
      "\n",
      "\n",
      "P_U = \n",
      "[[10.32]\n",
      " [19.1 ]\n",
      " [23.14]\n",
      " [ 1.  ]]\n",
      "\n",
      "P_Z = \n",
      "\n",
      "[[-9.06510893]\n",
      " [19.1       ]\n",
      " [23.6597929 ]\n",
      " [ 1.        ]]\n"
     ]
    }
   ],
   "source": [
    "#Ausgabe der Berechnungsergebnisse\n",
    "print(\"T_U_Z_RotY = \")\n",
    "plot4x4Mat(T_U_Z_RotY)\n",
    "print(\"\\n\\nP_U = \",end=\"\\n\")\n",
    "print(P_U,end=\"\\n\\n\")\n",
    "print(\"P_Z = \",end=\"\\n\\n\"); print(P_Z)"
   ]
  },
  {
   "cell_type": "markdown",
   "id": "817f72ed",
   "metadata": {},
   "source": [
    "#### Rotation um die Z-Achse:"
   ]
  },
  {
   "cell_type": "markdown",
   "id": "418855c7",
   "metadata": {},
   "source": [
    "$$ ^{Z}P ~=~ ^{Z}_{U}T \\cdot~ ^U{P}  ~=~      \n",
    "   ^{Z}_{U}R_Y(\\phi)  =    \n",
    "   \\left( \\begin{array}{rrrr}       \n",
    "      cos(\\phi) &  sin(\\phi) & 0 & 0 \\\\       \n",
    "      -sin(\\phi) & cos(\\phi) & 0 & 0\\\\       \n",
    "      0 & 0 & 1 & 0 \\\\\n",
    "      0 & 0 & 0 & 1 \\\\\n",
    "   \\end{array}\\right)\n",
    "   \\cdot\n",
    "   \\left( \\begin{array}{r} ^{U}x \\\\ ^{U}y \\\\ ^{U}z \\\\ 1 \\end{array}\\right)\n",
    "$$"
   ]
  },
  {
   "cell_type": "markdown",
   "id": "54b31609",
   "metadata": {},
   "source": [
    "$$ ^{Z}P =  \\left( \\begin{array}{r} ^{Z}x \\\\ ^{Z}y \\\\ ^{Z}z \\\\ 1 \\\\ \\end{array}\\right)  $$"
   ]
  },
  {
   "cell_type": "code",
   "execution_count": 18,
   "id": "672e4dc0",
   "metadata": {},
   "outputs": [],
   "source": [
    "P_Z = T_U_Z_RotZ @ P_U;"
   ]
  },
  {
   "cell_type": "code",
   "execution_count": 19,
   "id": "78ba5135",
   "metadata": {
    "slideshow": {
     "slide_type": "-"
    }
   },
   "outputs": [
    {
     "name": "stdout",
     "output_type": "stream",
     "text": [
      "T_U_Z_RotZ = \n",
      "[  0.71\t  0.71\t  0.00\t  0.00]\n",
      "[ -0.71\t  0.71\t  0.00\t  0.00]\n",
      "[  0.00\t  0.00\t  1.00\t  0.00]\n",
      "[  0.00\t  0.00\t  0.00\t  1.00]\n",
      "\n",
      "\n",
      "P_U = \n",
      "[[10.32]\n",
      " [19.1 ]\n",
      " [23.14]\n",
      " [ 1.  ]]\n",
      "\n",
      "P_Z = \n",
      "[[20.8030815 ]\n",
      " [ 6.20839754]\n",
      " [23.14      ]\n",
      " [ 1.        ]]\n"
     ]
    }
   ],
   "source": [
    "#Ausgabe der Berechnungsergebnisse\n",
    "print(\"T_U_Z_RotZ = \");\n",
    "plot4x4Mat(T_U_Z_RotZ);\n",
    "print(\"\\n\\nP_U = \",end=\"\\n\")\n",
    "print(P_U,end=\"\\n\\n\")\n",
    "print(\"P_Z = \",end=\"\\n\"); print(P_Z)"
   ]
  },
  {
   "cell_type": "markdown",
   "id": "79b28aff",
   "metadata": {},
   "source": [
    "### (II.4) Mehr als eine Rotation"
   ]
  },
  {
   "cell_type": "markdown",
   "id": "e197baa0",
   "metadata": {},
   "source": [
    "Im Grunde lässt sich jede Rotationen als eine Kombination, d.h. Hintereinanderausführung) der drei oben definerten Rotationen (um die X-, Y- und Z-Achse) beschreiben."
   ]
  },
  {
   "cell_type": "markdown",
   "id": "892f6dcb",
   "metadata": {},
   "source": [
    "$$ \n",
    "   ^{Z}_{U}R_X(\\phi_x)  =    \n",
    "   \\left( \\begin{array}{rrrr}       \n",
    "      1 & 0 & 0 & 0 \\\\       \n",
    "      0 & cos(\\phi) & sin(\\phi) & 0  \\\\       \n",
    "      0 & -sin(\\phi) & cos(\\phi) & 0\\\\           \n",
    "      0 & 0 & 0 & 1\\\\\n",
    "   \\end{array}\\right)\n",
    "$$\n",
    "\n",
    "$$\n",
    "   ^{Z}_{U}R_Y(\\phi_y)  =    \n",
    "   \\left( \\begin{array}{rrrr}       \n",
    "       cos(\\phi) & 0 & -sin(\\phi) & 0 \\\\       \n",
    "      0 & 1 & 0 & 0 \\\\       \n",
    "      sin(\\phi) & 0 &  cos(\\phi) & 0 \\\\\n",
    "      0 & 0 & 0 & 1\\\\\n",
    "   \\end{array}\\right)\n",
    "$$   \n",
    "\n",
    "$$\n",
    "   ^{Z}_{U}R_Z(\\phi_z)  =    \n",
    "   \\left( \\begin{array}{rrrr}       \n",
    "      cos(\\phi) &  sin(\\phi) & 0 & 0\\\\       \n",
    "      -sin(\\phi) & cos(\\phi) & 0 & 0\\\\       \n",
    "      0 & 0 & 1 & 1\\\\\n",
    "      0 & 0 & 0 & 1\\\\\n",
    "   \\end{array}\\right)\n",
    "$$"
   ]
  },
  {
   "cell_type": "markdown",
   "id": "56ded0c5",
   "metadata": {},
   "source": [
    "Dabei können die Rotationen in beliebieger Reihenfolge ausgeführt werden. Wird z.B. erst die Rotation um die X-Achse (Rotationswinkel $phi_x$), dann um die Y-Achse ($phi_y$) und zuletzt um die Z-Achse ($phi_z$) ausgeführt, dann ergibt sich die HTM für diese Rotionen wie folgt:"
   ]
  },
  {
   "cell_type": "markdown",
   "id": "bcb9f3bf",
   "metadata": {},
   "source": [
    "$$ \n",
    " ^{Z}_{U}R_{XYZ}(\\phi_x,\\phi_y,\\phi_z) =  R_Z(\\phi_z) \\cdot R_Y(\\phi_y) \\cdot R_X(\\phi_x) \n",
    "$$"
   ]
  },
  {
   "cell_type": "markdown",
   "id": "f1616f35",
   "metadata": {},
   "source": [
    "Die Rotationen können jedoch in jeder beliebigen Reihenfolge ausgeführt werden. Im Allgemeinen sind dann die Ergebnisse, d.h. die HTMs, verschieden. Die Reihenfolge der Rotationen und die der Matrizenmultiplikationen ist immer zu beachten."
   ]
  },
  {
   "cell_type": "markdown",
   "id": "3523d61e",
   "metadata": {},
   "source": [
    "Es ist leicht zu sehen, dass es 6 verschiedene Möglichkeiten der Reihenfolge Hintereinanderausführung der Rotationen der 3 Achsen gibt. Die restlichen Kombinationsmglichkeiten sind wie folgt:"
   ]
  },
  {
   "cell_type": "markdown",
   "id": "c520bb9b",
   "metadata": {},
   "source": [
    "$$ \n",
    " ^{Z}_{U}R_{XZY}(\\phi_x,\\phi_z,\\phi_y) =  R_Y(\\phi_y) \\cdot R_Z(\\phi_z) \\cdot R_X(\\phi_x) \n",
    "$$\n",
    "\n",
    "$$ \n",
    " ^{Z}_{U}R_{YXZ}(\\phi_y,\\phi_x,\\phi_z) =  R_Z(\\phi_z) \\cdot R_X(\\phi_x) \\cdot R_Y(\\phi_y) \n",
    "$$\n",
    "\n",
    "$$ \n",
    " ^{Z}_{U}R_{YZX}(\\phi_y,\\phi_z,\\phi_x) =  R_X(\\phi_x) \\cdot R_Z(\\phi_z) \\cdot R_Y(\\phi_y) \n",
    "$$\n",
    "\n",
    "$$ \n",
    " ^{Z}_{U}R_{ZXY}(\\phi_z,\\phi_x,\\phi_y) =  R_Y(\\phi_y) \\cdot R_X(\\phi_x) \\cdot R_Z(\\phi_z) \n",
    "$$\n",
    "\n",
    "$$ \n",
    " ^{Z}_{U}R_{ZYX}(\\phi_z,\\phi_y,\\phi_x) =  R_X(\\phi_x) \\cdot R_Y(\\phi_y) \\cdot R_Z(\\phi_z) \n",
    "$$"
   ]
  },
  {
   "cell_type": "code",
   "execution_count": 20,
   "id": "bde98f4d",
   "metadata": {},
   "outputs": [],
   "source": [
    "phi_x = PI/3\n",
    "phi_y = 2*PI/5\n",
    "phi_z = -PI/2"
   ]
  },
  {
   "cell_type": "code",
   "execution_count": 21,
   "id": "27161953",
   "metadata": {},
   "outputs": [
    {
     "name": "stdout",
     "output_type": "stream",
     "text": [
      "phi_x = 1.0471975511666667\n",
      "phi_y = 1.2566370614\n",
      "phi_z = -1.57079632675\n"
     ]
    }
   ],
   "source": [
    "#Ausgabe der Berechnungsergebnisse\n",
    "print(\"phi_x = \",end=\"\"); print(phi_x)\n",
    "print(\"phi_y = \",end=\"\"); print(phi_y)\n",
    "print(\"phi_z = \",end=\"\"); print(phi_z)"
   ]
  },
  {
   "cell_type": "code",
   "execution_count": 22,
   "id": "1c6020ec",
   "metadata": {},
   "outputs": [],
   "source": [
    "T_U_Z_RotX = np.array([[1,0,0,0],[0,math.cos(phi_x),math.sin(phi_x),0],[0,-math.sin(phi_x),math.cos(phi_x),0],[0,0,0,1]])"
   ]
  },
  {
   "cell_type": "code",
   "execution_count": 23,
   "id": "37360c63",
   "metadata": {},
   "outputs": [],
   "source": [
    "T_U_Z_RotY = np.array([[math.cos(phi_y),0,-math.sin(phi_y),0],[0,1,0,0],[math.sin(phi_y),0,math.cos(phi_y),0],[0,0,0,1]])"
   ]
  },
  {
   "cell_type": "code",
   "execution_count": 24,
   "id": "6a1929e0",
   "metadata": {},
   "outputs": [],
   "source": [
    "T_U_Z_RotZ = np.array([[math.cos(phi_z),math.sin(phi_z),0,0],[-math.sin(phi_z),math.cos(phi_z),0,0],[0,0,1,0],[0,0,0,1]])"
   ]
  },
  {
   "cell_type": "code",
   "execution_count": 25,
   "id": "0d7f1008",
   "metadata": {},
   "outputs": [
    {
     "name": "stdout",
     "output_type": "stream",
     "text": [
      "T_U_Z_RotX = \n",
      "[  1.00\t  0.00\t  0.00\t  0.00]\n",
      "[  0.00\t  0.50\t  0.87\t  0.00]\n",
      "[  0.00\t -0.87\t  0.50\t  0.00]\n",
      "[  0.00\t  0.00\t  0.00\t  1.00]\n",
      "\n",
      "\n",
      "T_U_Z_RotY = \n",
      "[  0.31\t  0.00\t -0.95\t  0.00]\n",
      "[  0.00\t  1.00\t  0.00\t  0.00]\n",
      "[  0.95\t  0.00\t  0.31\t  0.00]\n",
      "[  0.00\t  0.00\t  0.00\t  1.00]\n",
      "\n",
      "\n",
      "T_U_Z_RotZ = \n",
      "[  0.00\t -1.00\t  0.00\t  0.00]\n",
      "[  1.00\t  0.00\t  0.00\t  0.00]\n",
      "[  0.00\t  0.00\t  1.00\t  0.00]\n",
      "[  0.00\t  0.00\t  0.00\t  1.00]\n"
     ]
    }
   ],
   "source": [
    "#Ausgabe der Berechnungsergebnisse\n",
    "print(\"T_U_Z_RotX = \",end=\"\\n\"); plot4x4Mat(T_U_Z_RotX) \n",
    "print(\"\\n\\nT_U_Z_RotY = \",end=\"\\n\"); plot4x4Mat(T_U_Z_RotY)\n",
    "print(\"\\n\\nT_U_Z_RotZ = \",end=\"\\n\"); plot4x4Mat(T_U_Z_RotZ)"
   ]
  },
  {
   "cell_type": "markdown",
   "id": "b7d6c2d0",
   "metadata": {},
   "source": [
    "$$ \n",
    " ^{Z}_{U}R_{ZYX}(\\phi_z,\\phi_y,\\phi_x) =  R_X(\\phi_x) \\cdot R_Y(\\phi_y) \\cdot R_Z(\\phi_z) \n",
    "$$"
   ]
  },
  {
   "cell_type": "code",
   "execution_count": 26,
   "id": "2a2dd5bd",
   "metadata": {},
   "outputs": [],
   "source": [
    "T_U_Z_RotZYX = T_U_Z_RotX @ T_U_Z_RotY @ T_U_Z_RotZ"
   ]
  },
  {
   "cell_type": "code",
   "execution_count": 27,
   "id": "e4a4818c",
   "metadata": {},
   "outputs": [
    {
     "name": "stdout",
     "output_type": "stream",
     "text": [
      "T_U_Z_RotZYX = \n",
      "[  0.00\t -0.31\t -0.95\t  0.00]\n",
      "[  0.50\t -0.82\t  0.27\t  0.00]\n",
      "[ -0.87\t -0.48\t  0.15\t  0.00]\n",
      "[  0.00\t  0.00\t  0.00\t  1.00]\n"
     ]
    }
   ],
   "source": [
    "print(\"T_U_Z_RotZYX = \",end=\"\\n\"); plot4x4Mat(T_U_Z_RotZYX)"
   ]
  },
  {
   "cell_type": "markdown",
   "id": "d88a12b4",
   "metadata": {},
   "source": [
    "$$\n",
    " ^{Z}_{U}R_{ZXY}(\\phi_z,\\phi_x,\\phi_y) =  R_Y(\\phi_y) \\cdot R_X(\\phi_x) \\cdot R_Z(\\phi_z) \n",
    "$$"
   ]
  },
  {
   "cell_type": "code",
   "execution_count": 28,
   "id": "7e749ea6",
   "metadata": {},
   "outputs": [],
   "source": [
    "T_U_Z_RotZXY = T_U_Z_RotY @ T_U_Z_RotX @ T_U_Z_RotZ"
   ]
  },
  {
   "cell_type": "code",
   "execution_count": 29,
   "id": "309e70c7",
   "metadata": {},
   "outputs": [
    {
     "name": "stdout",
     "output_type": "stream",
     "text": [
      "T_U_Z_RotZXY = \n",
      "[  0.82\t -0.31\t -0.48\t  0.00]\n",
      "[  0.50\t  0.00\t  0.87\t  0.00]\n",
      "[ -0.27\t -0.95\t  0.15\t  0.00]\n",
      "[  0.00\t  0.00\t  0.00\t  1.00]\n"
     ]
    }
   ],
   "source": [
    "print(\"T_U_Z_RotZXY = \",end=\"\\n\"); plot4x4Mat(T_U_Z_RotZXY)"
   ]
  },
  {
   "cell_type": "markdown",
   "id": "533e6458",
   "metadata": {},
   "source": [
    "$$\n",
    " ^{Z}_{U}R_{YZX}(\\phi_y,\\phi_z,\\phi_x) =  R_X(\\phi_x) \\cdot R_Z(\\phi_z) \\cdot R_Y(\\phi_y) \n",
    "$$"
   ]
  },
  {
   "cell_type": "code",
   "execution_count": 30,
   "id": "c7b1b1c1",
   "metadata": {},
   "outputs": [],
   "source": [
    "T_U_Z_RotYZX = T_U_Z_RotX @ T_U_Z_RotZ @ T_U_Z_RotY"
   ]
  },
  {
   "cell_type": "code",
   "execution_count": 31,
   "id": "8cae918b",
   "metadata": {},
   "outputs": [
    {
     "name": "stdout",
     "output_type": "stream",
     "text": [
      "T_U_Z_RotYZX = \n",
      "[  0.00\t -1.00\t -0.00\t  0.00]\n",
      "[  0.98\t  0.00\t -0.21\t  0.00]\n",
      "[  0.21\t -0.00\t  0.98\t  0.00]\n",
      "[  0.00\t  0.00\t  0.00\t  1.00]\n"
     ]
    }
   ],
   "source": [
    "print(\"T_U_Z_RotYZX = \",end=\"\\n\"); plot4x4Mat(T_U_Z_RotYZX)"
   ]
  },
  {
   "cell_type": "markdown",
   "id": "88b19e63",
   "metadata": {},
   "source": [
    "$$ \n",
    " ^{Z}_{U}R_{YXZ}(\\phi_y,\\phi_x,\\phi_z) =  R_Z(\\phi_z) \\cdot R_X(\\phi_x) \\cdot R_Y(\\phi_y) \n",
    "$$"
   ]
  },
  {
   "cell_type": "code",
   "execution_count": 32,
   "id": "61a93b18",
   "metadata": {},
   "outputs": [],
   "source": [
    "T_U_Z_RotYXZ = T_U_Z_RotZ @ T_U_Z_RotX @ T_U_Z_RotY"
   ]
  },
  {
   "cell_type": "code",
   "execution_count": 33,
   "id": "37faf748",
   "metadata": {},
   "outputs": [
    {
     "name": "stdout",
     "output_type": "stream",
     "text": [
      "T_U_Z_RotYXZ = \n",
      "[ -0.82\t -0.50\t -0.27\t  0.00]\n",
      "[  0.31\t  0.00\t -0.95\t  0.00]\n",
      "[  0.48\t -0.87\t  0.15\t  0.00]\n",
      "[  0.00\t  0.00\t  0.00\t  1.00]\n"
     ]
    }
   ],
   "source": [
    "print(\"T_U_Z_RotYXZ = \",end=\"\\n\"); plot4x4Mat(T_U_Z_RotYXZ)"
   ]
  },
  {
   "cell_type": "markdown",
   "id": "68b6ff88",
   "metadata": {},
   "source": [
    "$$\n",
    " ^{Z}_{U}R_{XZY}(\\phi_x,\\phi_z,\\phi_y) =  R_Y(\\phi_y) \\cdot R_Z(\\phi_z) \\cdot R_X(\\phi_x) \n",
    "$$    "
   ]
  },
  {
   "cell_type": "code",
   "execution_count": 34,
   "id": "953c9b67",
   "metadata": {},
   "outputs": [],
   "source": [
    "T_U_Z_RotXZY = T_U_Z_RotY @ T_U_Z_RotZ @ T_U_Z_RotX"
   ]
  },
  {
   "cell_type": "code",
   "execution_count": 35,
   "id": "64df1129",
   "metadata": {},
   "outputs": [
    {
     "name": "stdout",
     "output_type": "stream",
     "text": [
      "T_U_Z_RotXZY = \n",
      "[  0.00\t  0.67\t -0.74\t  0.00]\n",
      "[  1.00\t  0.00\t  0.00\t  0.00]\n",
      "[  0.00\t -0.74\t -0.67\t  0.00]\n",
      "[  0.00\t  0.00\t  0.00\t  1.00]\n"
     ]
    }
   ],
   "source": [
    "print(\"T_U_Z_RotXZY = \",end=\"\\n\"); plot4x4Mat(T_U_Z_RotXZY)"
   ]
  },
  {
   "cell_type": "markdown",
   "id": "e8cae257",
   "metadata": {},
   "source": [
    "$$\n",
    " ^{Z}_{U}R_{XYZ}(\\phi_z,\\phi_y,\\phi_x) =  R_Z(\\phi_z) \\cdot R_Y(\\phi_y) \\cdot R_X(\\phi_x) \n",
    "$$    "
   ]
  },
  {
   "cell_type": "code",
   "execution_count": 36,
   "id": "6e2588a7",
   "metadata": {},
   "outputs": [],
   "source": [
    "T_U_Z_RotXYZ = T_U_Z_RotZ @ T_U_Z_RotY @ T_U_Z_RotX"
   ]
  },
  {
   "cell_type": "code",
   "execution_count": 37,
   "id": "2384c5dc",
   "metadata": {},
   "outputs": [
    {
     "name": "stdout",
     "output_type": "stream",
     "text": [
      "T_U_Z_RotXYZ = \n",
      "[  0.00\t -0.50\t -0.87\t  0.00]\n",
      "[  0.31\t  0.82\t -0.48\t  0.00]\n",
      "[  0.95\t -0.27\t  0.15\t  0.00]\n",
      "[  0.00\t  0.00\t  0.00\t  1.00]\n"
     ]
    }
   ],
   "source": [
    "print(\"T_U_Z_RotXYZ = \",end=\"\\n\"); plot4x4Mat(T_U_Z_RotXYZ)"
   ]
  },
  {
   "cell_type": "markdown",
   "id": "3ce0b576",
   "metadata": {},
   "source": [
    "### (III) Übung"
   ]
  },
  {
   "cell_type": "markdown",
   "id": "cef7d0f1",
   "metadata": {},
   "source": [
    "Berechnen Sie die Koordinaten des $^{Z}P$, also die Koordinaten des Punktes $P$ bzgl. des Koordinatensystems $Z$. Gegeben sind die Koordinaten des Punktes bzgl. Koordinatensystem $U$, also $^{U}P$."
   ]
  },
  {
   "cell_type": "markdown",
   "id": "1b05fb16",
   "metadata": {},
   "source": [
    "#### (III.1) Vektor $^{U}P$ definieren"
   ]
  },
  {
   "cell_type": "code",
   "execution_count": 38,
   "id": "fd78ba40",
   "metadata": {},
   "outputs": [],
   "source": [
    "x_U = randint(-99,99)\n",
    "y_U = randint(-99,99)\n",
    "z_U = randint(-99,99)\n",
    "P_U = np.array([[x_U],[y_U],[z_U],[1]])"
   ]
  },
  {
   "cell_type": "code",
   "execution_count": 39,
   "id": "f1095566",
   "metadata": {},
   "outputs": [
    {
     "name": "stdout",
     "output_type": "stream",
     "text": [
      "P_U =\n",
      "\n",
      "[[ 30]\n",
      " [ 25]\n",
      " [-93]\n",
      " [  1]]\n"
     ]
    }
   ],
   "source": [
    "#Ausgabe der Berechnungsergebnisse\n",
    "print(\"P_U =\",end=\"\\n\\n\"); print(P_U)"
   ]
  },
  {
   "cell_type": "markdown",
   "id": "33f5c740",
   "metadata": {},
   "source": [
    "#### (III.2) HTM $^{Z}_{U}T$ definieren"
   ]
  },
  {
   "cell_type": "markdown",
   "id": "7f088e8d",
   "metadata": {},
   "source": [
    "Für die Rotation um die $Z$ Achse mit Winkel $\\phi$ soll die Rotationsmatrix berechnet werden. Tragen Sie dazu in der nächsten Zelle die korrekten Werte für die Matrix T_U_Z ein. (Hinweis: benutzen Sie die Python-Funktion math.sin(...) und math.cos(...), um die Werte in die Matrix einzutragen.)"
   ]
  },
  {
   "cell_type": "code",
   "execution_count": 40,
   "id": "f7c66c49",
   "metadata": {},
   "outputs": [],
   "source": [
    "phi = randint(-3,3)*(PI/2)\n",
    "T_U_Z = np.array([[math.cos(phi),math.sin(phi),0,0],[-math.sin(phi),math.cos(phi),0,0],[0,0,1,0],[0,0,0,1]])"
   ]
  },
  {
   "cell_type": "code",
   "execution_count": 41,
   "id": "cac0eb1e",
   "metadata": {},
   "outputs": [
    {
     "name": "stdout",
     "output_type": "stream",
     "text": [
      "phi = 4.71238898025\n",
      "T_U_Z = \n",
      "[ -0.00\t -1.00\t  0.00\t  0.00]\n",
      "[  1.00\t -0.00\t  0.00\t  0.00]\n",
      "[  0.00\t  0.00\t  1.00\t  0.00]\n",
      "[  0.00\t  0.00\t  0.00\t  1.00]\n"
     ]
    }
   ],
   "source": [
    "#Ausgabe der Ergebnisse\n",
    "print(\"phi = \", end=\"\"); print(phi);\n",
    "print(\"T_U_Z = \"); plot4x4Mat(T_U_Z);"
   ]
  },
  {
   "cell_type": "markdown",
   "id": "811eacb4",
   "metadata": {},
   "source": [
    "#### (III.3) Den Vektor $^{Z}P$ berechnen"
   ]
  },
  {
   "cell_type": "code",
   "execution_count": 42,
   "id": "663e1aa1",
   "metadata": {},
   "outputs": [],
   "source": [
    "P_Z = T_U_Z @ P_U"
   ]
  },
  {
   "cell_type": "code",
   "execution_count": 43,
   "id": "17d79507",
   "metadata": {},
   "outputs": [
    {
     "name": "stdout",
     "output_type": "stream",
     "text": [
      "P_Z = \n",
      "[[-25.]\n",
      " [ 30.]\n",
      " [-93.]\n",
      " [  1.]]\n"
     ]
    }
   ],
   "source": [
    "#Ausgabe der Ergebnisse\n",
    "print(\"P_Z = \"); print(P_Z);"
   ]
  },
  {
   "cell_type": "code",
   "execution_count": null,
   "id": "12cdfc96",
   "metadata": {},
   "outputs": [],
   "source": []
  }
 ],
 "metadata": {
  "celltoolbar": "Raw Cell Format",
  "kernelspec": {
   "display_name": "Python 3",
   "language": "python",
   "name": "python3"
  },
  "language_info": {
   "codemirror_mode": {
    "name": "ipython",
    "version": 3
   },
   "file_extension": ".py",
   "mimetype": "text/x-python",
   "name": "python",
   "nbconvert_exporter": "python",
   "pygments_lexer": "ipython3",
   "version": "3.6.9"
  }
 },
 "nbformat": 4,
 "nbformat_minor": 5
}
