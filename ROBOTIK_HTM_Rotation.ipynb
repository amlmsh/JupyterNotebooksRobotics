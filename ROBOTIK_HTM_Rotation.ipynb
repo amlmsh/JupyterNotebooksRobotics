{
 "cells": [
  {
   "cell_type": "markdown",
   "id": "71b577ac",
   "metadata": {},
   "source": [
    "# Koordinatentransformation für die Robotik"
   ]
  },
  {
   "cell_type": "markdown",
   "id": "0dda7b36",
   "metadata": {},
   "source": [
    "## (2) Homogene Transformationmatrix (HTM) für die Translation"
   ]
  },
  {
   "cell_type": "markdown",
   "id": "cf3d64f7",
   "metadata": {},
   "source": [
    "Folgende Bibliotheken und Konstanten werden genutzt:"
   ]
  },
  {
   "cell_type": "code",
   "execution_count": 1,
   "id": "13a09ce2",
   "metadata": {},
   "outputs": [],
   "source": [
    "from matplotlib import pyplot as plt\n",
    "import numpy as np\n",
    "import math\n",
    "\n",
    "PI = 3.14159"
   ]
  },
  {
   "cell_type": "markdown",
   "id": "cf2c680f",
   "metadata": {},
   "source": [
    "### (I) Punkt im Ursprungskoordinatensystem U definieren"
   ]
  },
  {
   "cell_type": "markdown",
   "id": "ce612125",
   "metadata": {},
   "source": [
    "$$ ^{U}P = \\left( \\begin{array}{r} ^{U}x \\\\ ^{U}y \\\\ ^{U}z \\\\ 1 \\end{array}\\right) $$"
   ]
  },
  {
   "cell_type": "code",
   "execution_count": 2,
   "id": "7d608803",
   "metadata": {},
   "outputs": [
    {
     "name": "stdout",
     "output_type": "stream",
     "text": [
      "x_U = 10.32\n",
      "y_U = 19.1\n",
      "z_U = 23.14\n"
     ]
    }
   ],
   "source": [
    "x_U = 10.32\n",
    "y_U = 19.10\n",
    "z_U = 23.14\n",
    "print(\"x_U = \",end=\"\"); print(x_U)\n",
    "print(\"y_U = \",end=\"\"); print(y_U)\n",
    "print(\"z_U = \",end=\"\"); print(z_U)"
   ]
  },
  {
   "cell_type": "code",
   "execution_count": 3,
   "id": "f6b9e97f",
   "metadata": {},
   "outputs": [
    {
     "name": "stdout",
     "output_type": "stream",
     "text": [
      "P_U = \n",
      "\n",
      "[[10.32]\n",
      " [19.1 ]\n",
      " [23.14]\n",
      " [ 1.  ]]\n"
     ]
    }
   ],
   "source": [
    "P_U = np.array([[x_U],[y_U],[z_U],[1]])\n",
    "print(\"P_U = \",end=\"\\n\\n\"); print(P_U)"
   ]
  },
  {
   "cell_type": "markdown",
   "id": "980861e8",
   "metadata": {},
   "source": [
    "### (II) Definition der HTM"
   ]
  },
  {
   "cell_type": "markdown",
   "id": "fbe10a39",
   "metadata": {},
   "source": [
    "#### (II.1) HTM: Matrixgrundstruktur (ohne Translation u. Rotation)"
   ]
  },
  {
   "cell_type": "markdown",
   "id": "db9f2442",
   "metadata": {},
   "source": [
    "$$ ^{Z}_{U}T  =    \n",
    "   \\left( \\begin{array}{rrrr}       \n",
    "      1 & 0 & 0 & 0 \\\\       \n",
    "      0 & 1 & 0 & 0 \\\\       \n",
    "      0 & 0 & 1 & 0 \\\\       \n",
    "      0 & 0 & 0 & 1 \\\\    \n",
    "   \\end{array}\\right)\n",
    "$$"
   ]
  },
  {
   "cell_type": "code",
   "execution_count": 4,
   "id": "d61f5582",
   "metadata": {},
   "outputs": [
    {
     "name": "stdout",
     "output_type": "stream",
     "text": [
      "T_U_Z = \n",
      "\n",
      "[[1 0 0 0]\n",
      " [0 1 0 0]\n",
      " [0 0 1 0]\n",
      " [0 0 0 1]]\n"
     ]
    }
   ],
   "source": [
    "T_U_Z = np.array([[1,0,0,0],[0,1,0,0],[0,0,1,0],[0,0,0,1]])\n",
    "print(\"T_U_Z = \",end=\"\\n\\n\"); print(T_U_Z)"
   ]
  },
  {
   "cell_type": "markdown",
   "id": "f75ebb8a",
   "metadata": {},
   "source": [
    "### (II.2) HTM: Definition des Rotationsanteils"
   ]
  },
  {
   "cell_type": "markdown",
   "id": "3c77437e",
   "metadata": {},
   "source": [
    "#### Rotationsmatrizen (für die Koordinatentransformation)"
   ]
  },
  {
   "cell_type": "markdown",
   "id": "cc2b9979",
   "metadata": {},
   "source": [
    "Rotationswinkel $\\phi$ mit $\\phi \\in [0,2\\pi)$.\n",
    "\n",
    "Rotationsmatrizen für die Koordinatenachsen $X$, $Y$ und $Z$:\n",
    "$$ \n",
    "   ^{Z}_{U}R(\\phi)_X  =    \n",
    "   \\left( \\begin{array}{rrr}       \n",
    "      1 & 0 & 0 \\\\       \n",
    "      0 & cos(\\phi) & sin(\\phi) \\\\       \n",
    "      0 & -sin(\\phi) & cos(\\phi) \\\\           \n",
    "   \\end{array}\\right)\n",
    "$$\n",
    "\n",
    "$$\n",
    "   ^{Z}_{U}R(\\phi)_Y  =    \n",
    "   \\left( \\begin{array}{rrr}       \n",
    "       cos(\\phi) & 0 & -sin(\\phi) \\\\       \n",
    "      0 & 1 & 0 \\\\       \n",
    "      sin(\\phi) & 0 &  cos(\\phi) \\\\           \n",
    "   \\end{array}\\right)\n",
    "$$   \n",
    "\n",
    "$$\n",
    "   ^{Z}_{U}R(\\phi)_Y  =    \n",
    "   \\left( \\begin{array}{rrr}       \n",
    "      cos(\\phi) &  sin(\\phi) & 0 \\\\       \n",
    "      -sin(\\phi) & cos(\\phi) & 0 \\\\       \n",
    "      0 & 0 & 1 \\\\           \n",
    "   \\end{array}\\right)\n",
    "$$"
   ]
  },
  {
   "cell_type": "markdown",
   "id": "2764e70c",
   "metadata": {},
   "source": [
    "Der Rotationswinkel $\\phi$ hat den Drehsinn vom Ursprung zum Zielkoordinatensystem und ist im folgenden in der Einheit Radiant (rad) angegeben."
   ]
  },
  {
   "cell_type": "code",
   "execution_count": 5,
   "id": "027a0e2d",
   "metadata": {},
   "outputs": [
    {
     "name": "stdout",
     "output_type": "stream",
     "text": [
      "phi = 0.7853975\n"
     ]
    }
   ],
   "source": [
    "phi = PI/4;\n",
    "print(\"phi = \", end=\"\"); print(phi)"
   ]
  },
  {
   "cell_type": "markdown",
   "id": "858df046",
   "metadata": {},
   "source": [
    "#### HTM mit Rotation"
   ]
  },
  {
   "cell_type": "markdown",
   "id": "afde2da5",
   "metadata": {},
   "source": [
    "Wir betrachten wieder die einzelnen Rotationen, um die Achsen X, Y, Z."
   ]
  },
  {
   "cell_type": "markdown",
   "id": "f4956873",
   "metadata": {},
   "source": [
    "##### Rotation um die X-Achse:"
   ]
  },
  {
   "cell_type": "markdown",
   "id": "f4040fea",
   "metadata": {},
   "source": [
    "$$ \n",
    "   ^{Z}_{U}R(\\phi)_X  =    \n",
    "   \\left( \\begin{array}{rrr}       \n",
    "      1 & 0 & 0 \\\\       \n",
    "      0 & cos(\\phi) & sin(\\phi) \\\\       \n",
    "      0 & -sin(\\phi) & cos(\\phi) \\\\           \n",
    "   \\end{array}\\right)\n",
    "$$"
   ]
  },
  {
   "cell_type": "code",
   "execution_count": 6,
   "id": "c8f58ffc",
   "metadata": {},
   "outputs": [],
   "source": [
    "T_U_Z_RotX = np.array([[1,0,0,0],[0,math.cos(phi),math.sin(phi),0],[0,-math.sin(phi),math.cos(phi),0],[0,0,0,1]])"
   ]
  },
  {
   "cell_type": "code",
   "execution_count": 7,
   "id": "20e2eadf",
   "metadata": {},
   "outputs": [
    {
     "name": "stdout",
     "output_type": "stream",
     "text": [
      "phi = 0.7853975\n",
      "\n",
      "T_U_Z_RotX(phi) = \n",
      "\n",
      "[[ 1.          0.          0.          0.        ]\n",
      " [ 0.          0.70710725  0.70710631  0.        ]\n",
      " [ 0.         -0.70710631  0.70710725  0.        ]\n",
      " [ 0.          0.          0.          1.        ]]\n"
     ]
    }
   ],
   "source": [
    "print(\"phi = \",end=\"\"); print(phi,end=\"\\n\\n\");\n",
    "print(\"T_U_Z_RotX(phi) = \",end=\"\\n\\n\"); print(T_U_Z_RotX)"
   ]
  },
  {
   "cell_type": "markdown",
   "id": "882d804d",
   "metadata": {},
   "source": [
    "##### Rotation um die y-Achse:"
   ]
  },
  {
   "cell_type": "markdown",
   "id": "6585ee89",
   "metadata": {},
   "source": [
    "$$\n",
    "   ^{Z}_{U}R(\\phi)_Y  =    \n",
    "   \\left( \\begin{array}{rrr}       \n",
    "       cos(\\phi) & 0 & -sin(\\phi) \\\\       \n",
    "      0 & 1 & 0 \\\\       \n",
    "      sin(\\phi) & 0 &  cos(\\phi) \\\\           \n",
    "   \\end{array}\\right)\n",
    "$$ "
   ]
  },
  {
   "cell_type": "code",
   "execution_count": 8,
   "id": "364374be",
   "metadata": {},
   "outputs": [],
   "source": [
    "T_U_Z_RotY = np.array([[math.cos(phi),0,-math.sin(phi),0],[0,1,0,0],[math.sin(phi),0,math.cos(phi),0],[0,0,0,1]])"
   ]
  },
  {
   "cell_type": "code",
   "execution_count": 9,
   "id": "4ccec9c4",
   "metadata": {},
   "outputs": [
    {
     "name": "stdout",
     "output_type": "stream",
     "text": [
      "phi = 0.7853975\n",
      "\n",
      "T_U_Z_RotY(phi) = \n",
      "\n",
      "[[ 0.70710725  0.         -0.70710631  0.        ]\n",
      " [ 0.          1.          0.          0.        ]\n",
      " [ 0.70710631  0.          0.70710725  0.        ]\n",
      " [ 0.          0.          0.          1.        ]]\n"
     ]
    }
   ],
   "source": [
    "print(\"phi = \",end=\"\"); print(phi,end=\"\\n\\n\");\n",
    "print(\"T_U_Z_RotY(phi) = \",end=\"\\n\\n\"); print(T_U_Z_RotY)"
   ]
  },
  {
   "cell_type": "markdown",
   "id": "2e9cebd1",
   "metadata": {},
   "source": [
    "##### Rotation um die z-Achse:"
   ]
  },
  {
   "cell_type": "markdown",
   "id": "c7e8653e",
   "metadata": {},
   "source": [
    "$$\n",
    "   ^{Z}_{U}R(\\phi)_Y  =    \n",
    "   \\left( \\begin{array}{rrr}       \n",
    "      cos(\\phi) &  sin(\\phi) & 0 \\\\       \n",
    "      -sin(\\phi) & cos(\\phi) & 0 \\\\       \n",
    "      0 & 0 & 1 \\\\           \n",
    "   \\end{array}\\right)\n",
    "$$"
   ]
  },
  {
   "cell_type": "code",
   "execution_count": 10,
   "id": "15975c34",
   "metadata": {},
   "outputs": [],
   "source": [
    "T_U_Z_RotZ = np.array([[math.cos(phi),math.sin(phi),0,0],[-math.sin(phi),math.cos(phi),0,0],[0,0,1,0],[0,0,0,1]])"
   ]
  },
  {
   "cell_type": "code",
   "execution_count": 11,
   "id": "2f8effe3",
   "metadata": {},
   "outputs": [
    {
     "name": "stdout",
     "output_type": "stream",
     "text": [
      "phi = 0.7853975\n",
      "\n",
      "T_U_Z_RotZ(phi) = \n",
      "\n",
      "[[ 0.70710725  0.70710631  0.          0.        ]\n",
      " [-0.70710631  0.70710725  0.          0.        ]\n",
      " [ 0.          0.          1.          0.        ]\n",
      " [ 0.          0.          0.          1.        ]]\n"
     ]
    }
   ],
   "source": [
    "print(\"phi = \",end=\"\"); print(phi,end=\"\\n\\n\");\n",
    "print(\"T_U_Z_RotZ(phi) = \",end=\"\\n\\n\"); print(T_U_Z_RotZ)"
   ]
  },
  {
   "cell_type": "markdown",
   "id": "d1942e9b",
   "metadata": {},
   "source": [
    "### (II.3) Berechung der Koordinaten von P für das Zielkoordinatensystem Z"
   ]
  },
  {
   "cell_type": "markdown",
   "id": "173bef40",
   "metadata": {},
   "source": [
    "#### Rotation um die X-Achse:"
   ]
  },
  {
   "cell_type": "markdown",
   "id": "7933d789",
   "metadata": {},
   "source": [
    "$$ ^{Z}P ~=~ ^{Z}_{U}T \\cdot~ ^U{P}  ~=~      \n",
    "   ^{Z}_{U}R(\\phi)_X  =    \n",
    "   \\left( \\begin{array}{rrr}       \n",
    "      1 & 0 & 0 \\\\       \n",
    "      0 & cos(\\phi) & sin(\\phi) \\\\       \n",
    "      0 & -sin(\\phi) & cos(\\phi) \\\\           \n",
    "   \\end{array}\\right)\n",
    "$$\n"
   ]
  },
  {
   "cell_type": "markdown",
   "id": "af030cb9",
   "metadata": {},
   "source": [
    " $$ ^{Z}P =  \\left( \\begin{array}{r} x_Z \\\\ x_Z \\\\ x_Z \\\\ \\end{array}\\right)  $$"
   ]
  },
  {
   "cell_type": "code",
   "execution_count": 12,
   "id": "e3c51081",
   "metadata": {},
   "outputs": [],
   "source": [
    "P_Z = T_U_Z_RotX @ P_U;"
   ]
  },
  {
   "cell_type": "code",
   "execution_count": 13,
   "id": "b81ba784",
   "metadata": {},
   "outputs": [
    {
     "name": "stdout",
     "output_type": "stream",
     "text": [
      "T_U_Z_RotX = \n",
      "[[ 1.          0.          0.          0.        ]\n",
      " [ 0.          0.70710725  0.70710631  0.        ]\n",
      " [ 0.         -0.70710631  0.70710725  0.        ]\n",
      " [ 0.          0.          0.          1.        ]]\n",
      "\n",
      "P_U = \n",
      "[[10.32]\n",
      " [19.1 ]\n",
      " [23.14]\n",
      " [ 1.  ]]\n",
      "\n",
      "P_Z = \n",
      "\n",
      "[[10.32      ]\n",
      " [29.86818854]\n",
      " [ 2.85673121]\n",
      " [ 1.        ]]\n"
     ]
    }
   ],
   "source": [
    "#Ausgabe der Berechnungsergebnisse\n",
    "print(\"T_U_Z_RotX = \");\n",
    "print(T_U_Z_RotX,end=\"\\n\\n\")\n",
    "print(\"P_U = \",end=\"\\n\")\n",
    "print(P_U,end=\"\\n\\n\")\n",
    "print(\"P_Z = \",end=\"\\n\\n\"); print(P_Z)"
   ]
  },
  {
   "cell_type": "markdown",
   "id": "a7f9b545",
   "metadata": {},
   "source": [
    "#### Rotation um die Y-Achse:"
   ]
  },
  {
   "cell_type": "markdown",
   "id": "02237c7b",
   "metadata": {},
   "source": [
    "$$ ^{Z}P ~=~ ^{Z}_{U}T \\cdot~ ^U{P}  ~=~    \n",
    "   ^{Z}_{U}R(\\phi)_Y  =    \n",
    "   \\left( \\begin{array}{rrr}       \n",
    "       cos(\\phi) & 0 & -sin(\\phi) \\\\       \n",
    "      0 & 1 & 0 \\\\       \n",
    "      sin(\\phi) & 0 &  cos(\\phi) \\\\           \n",
    "   \\end{array}\\right)\n",
    "   \\cdot\n",
    "   \\left( \\begin{array}{r} ^{U}x \\\\ ^{U}y \\\\ ^{U}z \\\\ 1 \\end{array}\\right)\n",
    "$$"
   ]
  },
  {
   "cell_type": "markdown",
   "id": "c414bac6",
   "metadata": {},
   "source": [
    " $$ ^{Z}P =  \\left( \\begin{array}{r} x_Z \\\\ x_Z \\\\ x_Z \\\\ \\end{array}\\right)  $$"
   ]
  },
  {
   "cell_type": "code",
   "execution_count": 14,
   "id": "ba15eeee",
   "metadata": {},
   "outputs": [],
   "source": [
    "P_Z = T_U_Z_RotY @ P_U;"
   ]
  },
  {
   "cell_type": "code",
   "execution_count": 15,
   "id": "a5700f4f",
   "metadata": {},
   "outputs": [
    {
     "name": "stdout",
     "output_type": "stream",
     "text": [
      "T_U_Z_RotY = \n",
      "[[ 0.70710725  0.         -0.70710631  0.        ]\n",
      " [ 0.          1.          0.          0.        ]\n",
      " [ 0.70710631  0.          0.70710725  0.        ]\n",
      " [ 0.          0.          0.          1.        ]]\n",
      "\n",
      "P_U = \n",
      "[[10.32]\n",
      " [19.1 ]\n",
      " [23.14]\n",
      " [ 1.  ]]\n",
      "\n",
      "P_Z = \n",
      "\n",
      "[[-9.06509324]\n",
      " [19.1       ]\n",
      " [23.65979891]\n",
      " [ 1.        ]]\n"
     ]
    }
   ],
   "source": [
    "#Ausgabe der Berechnungsergebnisse\n",
    "print(\"T_U_Z_RotY = \");\n",
    "print(T_U_Z_RotY,end=\"\\n\\n\")\n",
    "print(\"P_U = \",end=\"\\n\")\n",
    "print(P_U,end=\"\\n\\n\")\n",
    "print(\"P_Z = \",end=\"\\n\\n\"); print(P_Z)"
   ]
  },
  {
   "cell_type": "markdown",
   "id": "9bc2d832",
   "metadata": {},
   "source": [
    "#### Rotation um die Z-Achse:"
   ]
  },
  {
   "cell_type": "markdown",
   "id": "7128d9d3",
   "metadata": {},
   "source": [
    "$$ ^{Z}P ~=~ ^{Z}_{U}T \\cdot~ ^U{P}  ~=~    \n",
    "   ^{Z}_{U}R(\\phi)_Y  =    \n",
    "   ^{Z}_{U}R(\\phi)_Y  =    \n",
    "   \\left( \\begin{array}{rrr}       \n",
    "      cos(\\phi) &  sin(\\phi) & 0 \\\\       \n",
    "      -sin(\\phi) & cos(\\phi) & 0 \\\\       \n",
    "      0 & 0 & 1 \\\\           \n",
    "   \\end{array}\\right)\n",
    "   \\cdot\n",
    "   \\left( \\begin{array}{r} ^{U}x \\\\ ^{U}y \\\\ ^{U}z \\\\ 1 \\end{array}\\right)\n",
    "$$"
   ]
  },
  {
   "cell_type": "markdown",
   "id": "dc1dec7f",
   "metadata": {},
   "source": [
    " $$ ^{Z}P =  \\left( \\begin{array}{r} x_Z \\\\ x_Z \\\\ x_Z \\\\ \\end{array}\\right)  $$"
   ]
  },
  {
   "cell_type": "code",
   "execution_count": 16,
   "id": "918cf078",
   "metadata": {},
   "outputs": [],
   "source": [
    "P_Z = T_U_Z_RotZ @ P_U;"
   ]
  },
  {
   "cell_type": "code",
   "execution_count": 17,
   "id": "e223fad3",
   "metadata": {},
   "outputs": [
    {
     "name": "stdout",
     "output_type": "stream",
     "text": [
      "T_U_Z_RotZ = \n",
      "[[ 0.70710725  0.70710631  0.          0.        ]\n",
      " [-0.70710631  0.70710725  0.          0.        ]\n",
      " [ 0.          0.          1.          0.        ]\n",
      " [ 0.          0.          0.          1.        ]]\n",
      "\n",
      "P_U = \n",
      "[[10.32]\n",
      " [19.1 ]\n",
      " [23.14]\n",
      " [ 1.  ]]\n",
      "\n",
      "P_Z = \n",
      "\n",
      "[[20.80307738]\n",
      " [ 6.20841134]\n",
      " [23.14      ]\n",
      " [ 1.        ]]\n"
     ]
    }
   ],
   "source": [
    "#Ausgabe der Berechnungsergebnisse\n",
    "print(\"T_U_Z_RotZ = \");\n",
    "print(T_U_Z_RotZ,end=\"\\n\\n\")\n",
    "print(\"P_U = \",end=\"\\n\")\n",
    "print(P_U,end=\"\\n\\n\")\n",
    "print(\"P_Z = \",end=\"\\n\\n\"); print(P_Z)"
   ]
  },
  {
   "cell_type": "code",
   "execution_count": null,
   "id": "f5792e29",
   "metadata": {},
   "outputs": [],
   "source": []
  }
 ],
 "metadata": {
  "kernelspec": {
   "display_name": "Python 3",
   "language": "python",
   "name": "python3"
  },
  "language_info": {
   "codemirror_mode": {
    "name": "ipython",
    "version": 3
   },
   "file_extension": ".py",
   "mimetype": "text/x-python",
   "name": "python",
   "nbconvert_exporter": "python",
   "pygments_lexer": "ipython3",
   "version": "3.6.9"
  }
 },
 "nbformat": 4,
 "nbformat_minor": 5
}
