{
 "cells": [
  {
   "cell_type": "markdown",
   "id": "71b577ac",
   "metadata": {},
   "source": [
    "# Koordinatentransformation für die Robotik"
   ]
  },
  {
   "cell_type": "markdown",
   "id": "0dda7b36",
   "metadata": {},
   "source": [
    "## Homogene Transformationmatrix (HTM) für die Translation"
   ]
  },
  {
   "cell_type": "markdown",
   "id": "cf3d64f7",
   "metadata": {},
   "source": [
    "Folgende Bibliotheken werden genutzt:"
   ]
  },
  {
   "cell_type": "code",
   "execution_count": 10,
   "id": "13a09ce2",
   "metadata": {},
   "outputs": [],
   "source": [
    "from matplotlib import pyplot as plt\n",
    "import numpy as np\n",
    "import math"
   ]
  },
  {
   "cell_type": "markdown",
   "id": "cf2c680f",
   "metadata": {},
   "source": [
    "#### (I) Punkt im Ursprungskoordinatensystem U definieren"
   ]
  },
  {
   "cell_type": "markdown",
   "id": "ce612125",
   "metadata": {},
   "source": [
    "$$ ^{U}P = \\left( \\begin{array}{r} ^{U}x \\\\ ^{U}y \\\\ ^{U}z \\\\ 1 \\end{array}\\right) $$"
   ]
  },
  {
   "cell_type": "code",
   "execution_count": 11,
   "id": "7d608803",
   "metadata": {},
   "outputs": [
    {
     "name": "stdout",
     "output_type": "stream",
     "text": [
      "x_U = 10.32\n",
      "y_U = 19.1\n",
      "z_U = 23.14\n"
     ]
    }
   ],
   "source": [
    "x_U = 10.32\n",
    "y_U = 19.10\n",
    "z_U = 23.14\n",
    "print(\"x_U = \",end=\"\"); print(x_U)\n",
    "print(\"y_U = \",end=\"\"); print(y_U)\n",
    "print(\"z_U = \",end=\"\"); print(z_U)"
   ]
  },
  {
   "cell_type": "code",
   "execution_count": 12,
   "id": "f6b9e97f",
   "metadata": {},
   "outputs": [
    {
     "name": "stdout",
     "output_type": "stream",
     "text": [
      "P_U = \n",
      "\n",
      "[[10.32]\n",
      " [19.1 ]\n",
      " [23.14]\n",
      " [ 1.  ]]\n"
     ]
    }
   ],
   "source": [
    "P_U = np.array([[x_U],[y_U],[z_U],[1]])\n",
    "print(\"P_U = \",end=\"\\n\\n\"); print(P_U)"
   ]
  },
  {
   "cell_type": "markdown",
   "id": "980861e8",
   "metadata": {},
   "source": [
    "#### (II) Definition der HTM"
   ]
  },
  {
   "cell_type": "markdown",
   "id": "fbe10a39",
   "metadata": {},
   "source": [
    "#### (II.1) HTM: Matrixgrundstruktur (ohne Translation u. Rotation)"
   ]
  },
  {
   "cell_type": "markdown",
   "id": "db9f2442",
   "metadata": {},
   "source": [
    "$$ ^{Z}_{U}T  =    \n",
    "   \\left( \\begin{array}{rrrr}       \n",
    "      1 & 0 & 0 & 0 \\\\       \n",
    "      0 & 1 & 0 & 0 \\\\       \n",
    "      0 & 0 & 1 & 0 \\\\       \n",
    "      0 & 0 & 0 & 1 \\\\    \n",
    "   \\end{array}\\right)\n",
    "$$"
   ]
  },
  {
   "cell_type": "code",
   "execution_count": 13,
   "id": "d61f5582",
   "metadata": {},
   "outputs": [
    {
     "name": "stdout",
     "output_type": "stream",
     "text": [
      "T_U_U = \n",
      "\n",
      "[[1 0 0 0]\n",
      " [0 1 0 0]\n",
      " [0 0 1 0]\n",
      " [0 0 0 1]]\n"
     ]
    }
   ],
   "source": [
    "T_U_Z = np.array([[1,0,0,0],[0,1,0,0],[0,0,1,0],[0,0,0,1]])\n",
    "print(\"T_U_U = \",end=\"\\n\\n\"); print(T_U_Z)"
   ]
  },
  {
   "cell_type": "markdown",
   "id": "f75ebb8a",
   "metadata": {},
   "source": [
    "#### (II.2) HTM: Definition des Rotationsanteils"
   ]
  },
  {
   "cell_type": "markdown",
   "id": "3c77437e",
   "metadata": {},
   "source": [
    "##### Rotationsmatrix (für die Koordinatentransformation)"
   ]
  },
  {
   "cell_type": "markdown",
   "id": "cc2b9979",
   "metadata": {},
   "source": [
    "Rotationswinkel $\\phi$ mit $\\phi \\in (0,2\\pi)$.\n",
    "\n",
    "Rotationsmatrizen für die Koordinatenachsen $X$, $Y$ und $Z$:\n",
    "$$ \n",
    "   ^{Z}_{U}R(\\phi)_X  =    \n",
    "   \\left( \\begin{array}{rrr}       \n",
    "      0 & 0 & 0 \\\\       \n",
    "      0 & 0 & 0 \\\\       \n",
    "      0 & 0 & 0 \\\\           \n",
    "   \\end{array}\\right)\n",
    "~~~~~~   \n",
    "   ^{Z}_{U}R(\\phi)_Y  =    \n",
    "   \\left( \\begin{array}{rrr}       \n",
    "      0 & 0 & 0 \\\\       \n",
    "      0 & 0 & 0 \\\\       \n",
    "      0 & 0 & 0 \\\\           \n",
    "   \\end{array}\\right)\n",
    "~~~~~~   \n",
    "   ^{Z}_{U}R(\\phi)_Y  =    \n",
    "   \\left( \\begin{array}{rrr}       \n",
    "      0 & 0 & 0 \\\\       \n",
    "      0 & 0 & 0 \\\\       \n",
    "      0 & 0 & 0 \\\\           \n",
    "   \\end{array}\\right)\n",
    "$$"
   ]
  },
  {
   "cell_type": "code",
   "execution_count": null,
   "id": "912c3a33",
   "metadata": {},
   "outputs": [],
   "source": []
  }
 ],
 "metadata": {
  "kernelspec": {
   "display_name": "Python 3",
   "language": "python",
   "name": "python3"
  },
  "language_info": {
   "codemirror_mode": {
    "name": "ipython",
    "version": 3
   },
   "file_extension": ".py",
   "mimetype": "text/x-python",
   "name": "python",
   "nbconvert_exporter": "python",
   "pygments_lexer": "ipython3",
   "version": "3.6.9"
  }
 },
 "nbformat": 4,
 "nbformat_minor": 5
}
