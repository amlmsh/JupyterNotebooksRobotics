{
 "cells": [
  {
   "cell_type": "markdown",
   "id": "c424db78",
   "metadata": {},
   "source": [
    "# 2D Coordinate transformation"
   ]
  },
  {
   "cell_type": "markdown",
   "id": "009f5831",
   "metadata": {},
   "source": [
    "## Example 2: 1DOF robot arm - Forward kinematics  "
   ]
  },
  {
   "cell_type": "code",
   "execution_count": 1,
   "id": "2594f595",
   "metadata": {},
   "outputs": [],
   "source": [
    "from matplotlib import pyplot as plt\n",
    "from numpy.linalg import inv\n",
    "from IPython import display\n",
    "import numpy as np\n",
    "import math\n",
    "\n",
    "PI = 3.1415926535\n",
    "\n",
    "def plot3x3Mat(m):\n",
    "    print(\"[%6.2f\\t%6.2f\\t%6.2f]\"%(m[0,0],m[0,1],m[0,2]))\n",
    "    print(\"[%6.2f\\t%6.2f\\t%6.2f]\"%(m[1,0],m[1,1],m[1,2]))\n",
    "    print(\"[%6.2f\\t%6.2f\\t%6.2f]\"%(m[2,0],m[2,1],m[2,2]))\n",
    "    \n",
    "def IIDrotM(phi):\n",
    "    m = np.array([[math.cos(float(phi)),math.sin(float(phi)),0],[-math.sin(float(phi)),math.cos(float(phi)),0],[0,0,1]])\n",
    "    return m\n",
    "\n",
    "def IIDtraM(v):\n",
    "    m = np.array([[1,0,float(v[0])],[0,1,float(v[1])],[0,0,1]])\n",
    "    return m\n",
    "\n",
    "def IIDtraHTMvec(x,y):\n",
    "    v = np.array([ [float(x)],[float(y)],[1] ])\n",
    "    return v"
   ]
  },
  {
   "cell_type": "markdown",
   "id": "6243ad88",
   "metadata": {},
   "source": [
    "### (I) Scenario"
   ]
  },
  {
   "cell_type": "code",
   "execution_count": 2,
   "id": "14beadae",
   "metadata": {},
   "outputs": [],
   "source": [
    "# definition of parameters of the kinematic chain\n",
    "l0 = 1\n",
    "l1 = 1\n",
    "phi = 0"
   ]
  },
  {
   "cell_type": "markdown",
   "id": "daa8ed28",
   "metadata": {},
   "source": [
    "### (II) Derive the two HTMs  $~~~^{0}_{1}T~~~$ and  $~~~^{1}_{2}T~~~$"
   ]
  },
  {
   "cell_type": "markdown",
   "id": "b4363fad",
   "metadata": {},
   "source": [
    "#### (II).a  HTM $~~~^{0}_{1}T~~~$"
   ]
  },
  {
   "cell_type": "code",
   "execution_count": 3,
   "id": "18fbe652",
   "metadata": {},
   "outputs": [],
   "source": [
    "TR_1_0 = IIDtraM(IIDtraHTMvec(l0,0))\n",
    "R_1_0  = IIDrotM(-phi)\n",
    "\n",
    "T_1_0 = TR_1_0 @ R_1_0"
   ]
  },
  {
   "cell_type": "code",
   "execution_count": 4,
   "id": "02895ea6",
   "metadata": {},
   "outputs": [
    {
     "name": "stdout",
     "output_type": "stream",
     "text": [
      "[  1.00\t  0.00\t  1.00]\n",
      "[  0.00\t  1.00\t  0.00]\n",
      "[  0.00\t  0.00\t  1.00]\n"
     ]
    }
   ],
   "source": [
    "#Output final matrix TR_1_0\n",
    "plot3x3Mat(T_1_0)"
   ]
  },
  {
   "cell_type": "markdown",
   "id": "ab00af08",
   "metadata": {},
   "source": [
    "#### (II).a  HTM $~~~^{1}_{2}T~~~$"
   ]
  },
  {
   "cell_type": "code",
   "execution_count": 5,
   "id": "bfd31d0d",
   "metadata": {},
   "outputs": [],
   "source": [
    "TR_2_1 = IIDtraM(IIDtraHTMvec(l1,0))\n",
    "R_2_1  = IIDrotM(0)\n",
    "\n",
    "T_2_1 = TR_2_1 @ R_2_1"
   ]
  },
  {
   "cell_type": "code",
   "execution_count": 6,
   "id": "5e38af92",
   "metadata": {},
   "outputs": [
    {
     "name": "stdout",
     "output_type": "stream",
     "text": [
      "[  1.00\t  0.00\t  1.00]\n",
      "[  0.00\t  1.00\t  0.00]\n",
      "[  0.00\t  0.00\t  1.00]\n"
     ]
    }
   ],
   "source": [
    "#Output final matrix TR_1_0\n",
    "plot3x3Mat(T_2_1)"
   ]
  },
  {
   "cell_type": "markdown",
   "id": "2f3bb6c2",
   "metadata": {},
   "source": [
    "### (III) Define a function for the final parameterized HTM $~~~^{0}_{2}T(\\phi, ...)~~~$"
   ]
  },
  {
   "cell_type": "code",
   "execution_count": 7,
   "id": "b048ae64",
   "metadata": {},
   "outputs": [],
   "source": [
    "def FK(PHI, L0,L1):\n",
    "    htm_1_0 = IIDtraM(IIDtraHTMvec(0,L0)) @ IIDrotM(-PHI)\n",
    "    htm_2_1 = IIDtraM(IIDtraHTMvec(0,L1)) @ IIDrotM(0)\n",
    "    htm_2_0 = htm_1_0 @ htm_2_1\n",
    "    return htm_2_0"
   ]
  },
  {
   "cell_type": "markdown",
   "id": "49097c5d",
   "metadata": {},
   "source": [
    "### (VI) Calculate position of the TCP for a given joint position $\\phi$"
   ]
  },
  {
   "cell_type": "code",
   "execution_count": 8,
   "id": "c01b9d65",
   "metadata": {},
   "outputs": [],
   "source": [
    "phi = 3*PI/4"
   ]
  },
  {
   "cell_type": "code",
   "execution_count": 9,
   "id": "4ddada7f",
   "metadata": {},
   "outputs": [],
   "source": [
    "TCP = FK(phi,l0,l1)"
   ]
  },
  {
   "cell_type": "code",
   "execution_count": 10,
   "id": "988a89d0",
   "metadata": {},
   "outputs": [
    {
     "name": "stdout",
     "output_type": "stream",
     "text": [
      "[ -0.71\t -0.71\t -0.71]\n",
      "[  0.71\t -0.71\t  0.29]\n",
      "[  0.00\t  0.00\t  1.00]\n"
     ]
    }
   ],
   "source": [
    "plot3x3Mat(TCP)"
   ]
  },
  {
   "cell_type": "code",
   "execution_count": 11,
   "id": "8352e505",
   "metadata": {},
   "outputs": [
    {
     "name": "stdout",
     "output_type": "stream",
     "text": [
      "X_TCP =  -0.71\n",
      "Y_TCP =   0.29\n"
     ]
    }
   ],
   "source": [
    "print(\"X_TCP = \",end=\"\"); print(\"%6.2f\"%TCP[0,2])\n",
    "print(\"Y_TCP = \",end=\"\"); print(\"%6.2f\"%TCP[1,2])"
   ]
  },
  {
   "cell_type": "markdown",
   "id": "466a4f88",
   "metadata": {},
   "source": [
    "### (V) Check for plausibility"
   ]
  },
  {
   "cell_type": "code",
   "execution_count": null,
   "id": "6a81e82f",
   "metadata": {},
   "outputs": [],
   "source": []
  },
  {
   "cell_type": "code",
   "execution_count": null,
   "id": "de9fa9a4",
   "metadata": {},
   "outputs": [],
   "source": []
  }
 ],
 "metadata": {
  "kernelspec": {
   "display_name": "Python 3",
   "language": "python",
   "name": "python3"
  },
  "language_info": {
   "codemirror_mode": {
    "name": "ipython",
    "version": 3
   },
   "file_extension": ".py",
   "mimetype": "text/x-python",
   "name": "python",
   "nbconvert_exporter": "python",
   "pygments_lexer": "ipython3",
   "version": "3.6.9"
  }
 },
 "nbformat": 4,
 "nbformat_minor": 5
}
